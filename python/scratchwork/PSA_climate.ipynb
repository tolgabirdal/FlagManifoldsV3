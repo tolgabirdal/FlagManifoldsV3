{
 "cells": [
  {
   "cell_type": "markdown",
   "metadata": {},
   "source": [
    "We see if the bic criterion finds flags in climate bench datasets. The flag type it finds is just the \"Siefel\"-type. E.g., $(1,2,3,\\dots,k;n)$"
   ]
  },
  {
   "cell_type": "code",
   "execution_count": 1,
   "metadata": {},
   "outputs": [],
   "source": [
    "import numpy as np\n",
    "import xarray as xr\n",
    "from matplotlib import pyplot as plt\n",
    "from sklearn.decomposition import PCA\n",
    "import pickle as pkl\n",
    "\n",
    "import sys\n",
    "sys.path.append('/Users/natemankovich/Documents/PostDoc/DMDc4Climate/')\n",
    "from utils import *\n",
    "\n",
    "from PSA_utils import *\n",
    "\n",
    "import os"
   ]
  },
  {
   "cell_type": "code",
   "execution_count": 2,
   "metadata": {},
   "outputs": [
    {
     "name": "stdout",
     "output_type": "stream",
     "text": [
      "[1, 1, 1, 1, 1, 246]\n",
      "[1, 1, 1, 1, 1, 246]\n",
      "[1, 1, 1, 1, 1, 246]\n",
      "[1, 1, 1, 1, 1, 246]\n"
     ]
    }
   ],
   "source": [
    "n_pcs = 5\n",
    "\n",
    "\n",
    "\n",
    "for scenario in [585,370,245,126]:\n",
    "\n",
    "    xr_train_emissions = load_emissions_dataset('/Users/natemankovich/Documents/PostDoc/DMDc4Climate/data/train_val/inputs_historical.nc')\n",
    "    xr_test_emissions = load_emissions_dataset(f'/Users/natemankovich/Documents/PostDoc/DMDc4Climate/data/train_val/inputs_ssp{scenario}.nc')\n",
    "    times, emissions_data = extract_forcing_agents(xr_train_emissions, xr_test_emissions)\n",
    "\n",
    "    xr_train_clim = xr.open_dataset('/Users/natemankovich/Documents/PostDoc/DMDc4Climate/data/train_val/outputs_historical.nc').mean(dim='member')\n",
    "    xr_test_clim = xr.open_dataset(f'/Users/natemankovich/Documents/PostDoc/DMDc4Climate/data/train_val/outputs_ssp{scenario}.nc').mean(dim='member')\n",
    "\n",
    "    tas_all = xr.concat([xr_train_clim, xr_test_clim], dim = 'time').tas.values\n",
    "    ntime, nlat, nlong = tas_all.shape\n",
    "    tas_data = tas_all.reshape(ntime, -1)\n",
    "\n",
    "    my_pca = PCA()   #(svd_rank=5) \n",
    "    my_pca.fit(tas_data)\n",
    "    evrs = my_pca.explained_variance_ratio_\n",
    "    weights  = my_pca.components_\n",
    "    eigval = my_pca.explained_variance_\n",
    "\n",
    "    X = tas_data.T\n",
    "    n,p = X.shape\n",
    "\n",
    "    candidate_models = [[1,1,1,1,1,p-n_pcs],\n",
    "        [1,1,1,2,p-n_pcs],[1,1,2,1,p-n_pcs],[1,2,1,1,p-n_pcs],[2,1,1,1,p-n_pcs],\n",
    "        [3,1,1,p-n_pcs],[2,2,1,p-n_pcs],[1,3,1,p-n_pcs],[2,1,2,p-n_pcs],[1,2,2,p-n_pcs],[1,1,3,p-n_pcs],\n",
    "        [4,1,p-n_pcs],[3,2,p-n_pcs],[2,3,p-n_pcs],[1,4,p-n_pcs],\n",
    "        [5,p-n_pcs]]\n",
    "\n",
    "    model_best = None; crit_best = np.inf\n",
    "    for model in candidate_models:\n",
    "        crit_model = bic(model, eigval, n)\n",
    "        if crit_model < crit_best:\n",
    "                model_best = model\n",
    "                crit_best = crit_model\n",
    "\n",
    "    print(model_best)"
   ]
  },
  {
   "cell_type": "code",
   "execution_count": 3,
   "metadata": {},
   "outputs": [
    {
     "name": "stdout",
     "output_type": "stream",
     "text": [
      "## Model CESM2\n",
      "[1, 1, 1, 1, 1, 1711]\n"
     ]
    }
   ],
   "source": [
    "\n",
    "true_forced_response = xr.open_dataset('/Users/natemankovich/Documents/PostDoc/ForceSMIP/data/CESM2_ensemble_average_tas.nc')\n",
    "\n",
    "\n",
    "climatology_fr = true_forced_response['__xarray_dataarray_variable__'].groupby('time.month').mean(dim='time')\n",
    "anomalies_fr = true_forced_response['__xarray_dataarray_variable__'].groupby('time.month') - climatology_fr\n",
    "\n",
    "[t, nlat, nlon] = np.array(anomalies_fr).shape\n",
    "\n",
    "data_path = '/Users/natemankovich/Documents/PostDoc/ForceSMIP/data'\n",
    "models = ['CESM2']#['MPI-ESM1-2-LR', 'MIROC6', 'MIROC-ES2L', 'CanESM5', 'CESM2']\n",
    "var = 'tas'\n",
    "\n",
    "ensemble = {}\n",
    "dmd_corrs_means = []\n",
    "dmd_corrs_stds = []\n",
    "dmdc_corrs_means = []\n",
    "dmdc_corrs_stds = []\n",
    "for model in models:\n",
    "    print('## Model {}'.format(model))\n",
    "    # Loop through each file\n",
    "    directory = data_path + '/Training/Amon/{}/{}'.format(var, model)\n",
    "    # Define the file path\n",
    "    listdir = os.listdir(directory)\n",
    "\n",
    "    data = None\n",
    "    ensemble[model] = {}\n",
    "    jj = 0\n",
    "    for i, file in enumerate(listdir, start=1):\n",
    "\n",
    "        print('File {}/{}'.format(i,len(listdir)), end='\\r')\n",
    "        # Reading temperature file\n",
    "        ## Open the NetCDF file using xarray\n",
    "        file_path = os.path.join(directory, file)\n",
    "        ds = xr.open_dataset(file_path)\n",
    "\n",
    "        # Specify the coarsening factor\n",
    "        # Step 1: Compute seasonal anomalies\n",
    "        climatology = ds[var].groupby('time.month').mean(dim='time')\n",
    "        anomalies = ds[var].groupby('time.month') - climatology\n",
    "            \n",
    "        ds.close()\n",
    "\n",
    "\n",
    "        tas_cube= np.array(anomalies)\n",
    "\n",
    "        tas = np.reshape(tas_cube, (t, nlat*nlon))\n",
    "        if i > 0:\n",
    "            break\n",
    "\n",
    "my_pca = PCA()   #(svd_rank=5) \n",
    "my_pca.fit(tas)\n",
    "evrs = my_pca.explained_variance_ratio_\n",
    "weights  = my_pca.components_\n",
    "eigval = my_pca.explained_variance_\n",
    "\n",
    "X = tas.T\n",
    "n,p = X.shape\n",
    "\n",
    "candidate_models = [[1,1,1,1,1,p-n_pcs],\n",
    "    [1,1,1,2,p-n_pcs],[1,1,2,1,p-n_pcs],[1,2,1,1,p-n_pcs],[2,1,1,1,p-n_pcs],\n",
    "    [3,1,1,p-n_pcs],[2,2,1,p-n_pcs],[1,3,1,p-n_pcs],[2,1,2,p-n_pcs],[1,2,2,p-n_pcs],[1,1,3,p-n_pcs],\n",
    "    [4,1,p-n_pcs],[3,2,p-n_pcs],[2,3,p-n_pcs],[1,4,p-n_pcs],\n",
    "    [5,p-n_pcs]]\n",
    "\n",
    "model_best = None; crit_best = np.inf\n",
    "for model in candidate_models:\n",
    "    crit_model = bic(model, eigval, n)\n",
    "    if crit_model < crit_best:\n",
    "            model_best = model\n",
    "            crit_best = crit_model\n",
    "\n",
    "print(model_best)"
   ]
  },
  {
   "cell_type": "code",
   "execution_count": null,
   "metadata": {},
   "outputs": [],
   "source": []
  },
  {
   "cell_type": "code",
   "execution_count": 4,
   "metadata": {},
   "outputs": [
    {
     "data": {
      "text/plain": [
       "[<matplotlib.lines.Line2D at 0x14c090b10>]"
      ]
     },
     "execution_count": 4,
     "metadata": {},
     "output_type": "execute_result"
    },
    {
     "data": {
      "image/png": "[encoded data removed]",
      "text/plain": [
       "<Figure size 640x480 with 1 Axes>"
      ]
     },
     "metadata": {},
     "output_type": "display_data"
    }
   ],
   "source": [
    "plt.plot(eigval[:10])"
   ]
  },
  {
   "cell_type": "code",
   "execution_count": null,
   "metadata": {},
   "outputs": [],
   "source": []
  }
 ],
 "metadata": {
  "kernelspec": {
   "display_name": "flags3",
   "language": "python",
   "name": "python3"
  },
  "language_info": {
   "codemirror_mode": {
    "name": "ipython",
    "version": 3
   },
   "file_extension": ".py",
   "mimetype": "text/x-python",
   "name": "python",
   "nbconvert_exporter": "python",
   "pygments_lexer": "ipython3",
   "version": "3.11.10"
  }
 },
 "nbformat": 4,
 "nbformat_minor": 2
}
