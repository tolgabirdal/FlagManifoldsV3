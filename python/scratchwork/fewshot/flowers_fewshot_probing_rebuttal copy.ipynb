{
 "cells": [
  {
   "cell_type": "code",
   "execution_count": 1,
   "metadata": {
    "collapsed": false,
    "pycharm": {
     "name": "#%%\n"
    }
   },
   "outputs": [],
   "source": [
    "import torch\n",
    "from torch import nn, optim\n",
    "from torch.utils.data import DataLoader\n",
    "from torchvision import transforms\n",
    "from torchvision.datasets import CIFAR10, Flowers102\n",
    "from torchgeo.datasets import UCMerced\n",
    "from torchvision.models import alexnet\n",
    "import torch.nn.functional as F\n",
    "from tqdm import tqdm\n",
    "\n",
    "from easyfsl.samplers import TaskSampler\n",
    "from easyfsl.datasets import WrapFewShotDataset\n",
    "\n",
    "from AlexNetLastTwoLayers import AlexNetLastTwoLayers\n",
    "from PrototypicalNetworks_rebuttal import PrototypicalNetworks\n",
    "from PrototypicalFlagNetworks_rebuttal import PrototypicalFlagNetworks\n",
    "from PIL import Image\n",
    "\n",
    "\n",
    "\n",
    "import copy\n",
    "\n",
    "from statistics import mean\n",
    "\n",
    "from matplotlib import pyplot as plt\n",
    "\n",
    "import pandas as pd\n",
    "\n",
    "import random\n",
    "\n",
    "from eval import evaluate"
   ]
  },
  {
   "cell_type": "code",
   "execution_count": 2,
   "metadata": {},
   "outputs": [],
   "source": [
    "DEVICE = torch.device(\"cuda\" if torch.cuda.is_available() else \"cpu\")"
   ]
  },
  {
   "cell_type": "code",
   "execution_count": 3,
   "metadata": {},
   "outputs": [],
   "source": [
    "random_seed = 0\n",
    "\n",
    "random.seed(random_seed)\n",
    "torch.manual_seed(random_seed)\n",
    "torch.backends.cudnn.deterministic = True\n",
    "torch.backends.cudnn.benchmark = False"
   ]
  },
  {
   "cell_type": "code",
   "execution_count": 4,
   "metadata": {},
   "outputs": [
    {
     "name": "stderr",
     "output_type": "stream",
     "text": [
      "Scrolling dataset's labels...: 100%|██████████| 6149/6149 [00:22<00:00, 269.52it/s]\n"
     ]
    }
   ],
   "source": [
    "N_WAY = 5  # Number of classes in a task\n",
    "N_QUERY = 10  # Number of images per class in the query set\n",
    "N_EVALUATION_TASKS = 100\n",
    "\n",
    "transform = transforms.Compose(\n",
    "        [\n",
    "            transforms.Resize((224,224)),\n",
    "            transforms.ToTensor(),\n",
    "            transforms.Normalize(mean = (0.485, 0.456, 0.406), std = (0.229, 0.224, 0.225))\n",
    "        ]\n",
    ")\n",
    "\n",
    "\n",
    "\n",
    "test_data = WrapFewShotDataset(\n",
    "    Flowers102(\n",
    "    root=\"../data\",\n",
    "    transform=transform,\n",
    "    download=True,\n",
    "    split = 'test')\n",
    ")\n",
    "\n",
    "\n"
   ]
  },
  {
   "cell_type": "code",
   "execution_count": 5,
   "metadata": {},
   "outputs": [
    {
     "name": "stdout",
     "output_type": "stream",
     "text": [
      "Starting 3\n"
     ]
    },
    {
     "name": "stderr",
     "output_type": "stream",
     "text": [
      "  0%|          | 0/20 [00:00<?, ?it/s]/home/nate/anaconda3/envs/flags3/lib/python3.12/site-packages/torchvision/models/_utils.py:208: UserWarning: The parameter 'pretrained' is deprecated since 0.13 and may be removed in the future, please use 'weights' instead.\n",
      "  warnings.warn(\n",
      "/home/nate/anaconda3/envs/flags3/lib/python3.12/site-packages/torchvision/models/_utils.py:223: UserWarning: Arguments other than a weight enum or `None` for 'weights' are deprecated since 0.13 and may be removed in the future. The current behavior is equivalent to passing `weights=AlexNet_Weights.IMAGENET1K_V1`. You can also use `weights=AlexNet_Weights.DEFAULT` to get the most up-to-date weights.\n",
      "  warnings.warn(msg)\n",
      "/tmp/ipykernel_19250/4231393477.py:30: FutureWarning: The behavior of DataFrame concatenation with empty or all-NA entries is deprecated. In a future version, this will no longer exclude empty or all-NA columns when determining the result dtypes. To retain the old behavior, exclude the relevant entries before the concat operation.\n",
      "  results = pd.concat([results, row])\n",
      "  5%|▌         | 1/20 [02:35<49:14, 155.52s/it]"
     ]
    },
    {
     "name": "stdout",
     "output_type": "stream",
     "text": [
      "         Method N Shots  Accuracy\n",
      "0     ProtoNets       3    0.8906\n",
      "0  SubspaceNets       3    0.9118\n",
      "0      FlagNets       3    0.9112\n"
     ]
    },
    {
     "name": "stderr",
     "output_type": "stream",
     "text": [
      "/home/nate/anaconda3/envs/flags3/lib/python3.12/site-packages/torchvision/models/_utils.py:208: UserWarning: The parameter 'pretrained' is deprecated since 0.13 and may be removed in the future, please use 'weights' instead.\n",
      "  warnings.warn(\n",
      "/home/nate/anaconda3/envs/flags3/lib/python3.12/site-packages/torchvision/models/_utils.py:223: UserWarning: Arguments other than a weight enum or `None` for 'weights' are deprecated since 0.13 and may be removed in the future. The current behavior is equivalent to passing `weights=AlexNet_Weights.IMAGENET1K_V1`. You can also use `weights=AlexNet_Weights.DEFAULT` to get the most up-to-date weights.\n",
      "  warnings.warn(msg)\n",
      " 10%|█         | 2/20 [05:13<47:09, 157.20s/it]"
     ]
    },
    {
     "name": "stdout",
     "output_type": "stream",
     "text": [
      "         Method N Shots  Accuracy\n",
      "0     ProtoNets       3    0.8906\n",
      "0  SubspaceNets       3    0.9118\n",
      "0      FlagNets       3    0.9112\n",
      "0     ProtoNets       3    0.8754\n",
      "0  SubspaceNets       3    0.9002\n",
      "0      FlagNets       3    0.8996\n"
     ]
    },
    {
     "name": "stderr",
     "output_type": "stream",
     "text": [
      "/home/nate/anaconda3/envs/flags3/lib/python3.12/site-packages/torchvision/models/_utils.py:208: UserWarning: The parameter 'pretrained' is deprecated since 0.13 and may be removed in the future, please use 'weights' instead.\n",
      "  warnings.warn(\n",
      "/home/nate/anaconda3/envs/flags3/lib/python3.12/site-packages/torchvision/models/_utils.py:223: UserWarning: Arguments other than a weight enum or `None` for 'weights' are deprecated since 0.13 and may be removed in the future. The current behavior is equivalent to passing `weights=AlexNet_Weights.IMAGENET1K_V1`. You can also use `weights=AlexNet_Weights.DEFAULT` to get the most up-to-date weights.\n",
      "  warnings.warn(msg)\n",
      " 15%|█▌        | 3/20 [08:03<46:08, 162.84s/it]"
     ]
    },
    {
     "name": "stdout",
     "output_type": "stream",
     "text": [
      "         Method N Shots  Accuracy\n",
      "0     ProtoNets       3    0.8906\n",
      "0  SubspaceNets       3    0.9118\n",
      "0      FlagNets       3    0.9112\n",
      "0     ProtoNets       3    0.8754\n",
      "0  SubspaceNets       3    0.9002\n",
      "0      FlagNets       3    0.8996\n",
      "0     ProtoNets       3    0.8708\n",
      "0  SubspaceNets       3    0.8984\n",
      "0      FlagNets       3    0.8974\n"
     ]
    },
    {
     "name": "stderr",
     "output_type": "stream",
     "text": [
      "/home/nate/anaconda3/envs/flags3/lib/python3.12/site-packages/torchvision/models/_utils.py:208: UserWarning: The parameter 'pretrained' is deprecated since 0.13 and may be removed in the future, please use 'weights' instead.\n",
      "  warnings.warn(\n",
      "/home/nate/anaconda3/envs/flags3/lib/python3.12/site-packages/torchvision/models/_utils.py:223: UserWarning: Arguments other than a weight enum or `None` for 'weights' are deprecated since 0.13 and may be removed in the future. The current behavior is equivalent to passing `weights=AlexNet_Weights.IMAGENET1K_V1`. You can also use `weights=AlexNet_Weights.DEFAULT` to get the most up-to-date weights.\n",
      "  warnings.warn(msg)\n",
      " 20%|██        | 4/20 [10:31<41:49, 156.86s/it]"
     ]
    },
    {
     "name": "stdout",
     "output_type": "stream",
     "text": [
      "         Method N Shots  Accuracy\n",
      "0     ProtoNets       3    0.8906\n",
      "0  SubspaceNets       3    0.9118\n",
      "0      FlagNets       3    0.9112\n",
      "0     ProtoNets       3    0.8754\n",
      "0  SubspaceNets       3    0.9002\n",
      "0      FlagNets       3    0.8996\n",
      "0     ProtoNets       3    0.8708\n",
      "0  SubspaceNets       3    0.8984\n",
      "0      FlagNets       3    0.8974\n",
      "0     ProtoNets       3    0.8950\n",
      "0  SubspaceNets       3    0.9094\n",
      "0      FlagNets       3    0.9106\n"
     ]
    },
    {
     "name": "stderr",
     "output_type": "stream",
     "text": [
      "/home/nate/anaconda3/envs/flags3/lib/python3.12/site-packages/torchvision/models/_utils.py:208: UserWarning: The parameter 'pretrained' is deprecated since 0.13 and may be removed in the future, please use 'weights' instead.\n",
      "  warnings.warn(\n",
      "/home/nate/anaconda3/envs/flags3/lib/python3.12/site-packages/torchvision/models/_utils.py:223: UserWarning: Arguments other than a weight enum or `None` for 'weights' are deprecated since 0.13 and may be removed in the future. The current behavior is equivalent to passing `weights=AlexNet_Weights.IMAGENET1K_V1`. You can also use `weights=AlexNet_Weights.DEFAULT` to get the most up-to-date weights.\n",
      "  warnings.warn(msg)\n",
      " 25%|██▌       | 5/20 [13:00<38:33, 154.24s/it]"
     ]
    },
    {
     "name": "stdout",
     "output_type": "stream",
     "text": [
      "         Method N Shots  Accuracy\n",
      "0     ProtoNets       3    0.8906\n",
      "0  SubspaceNets       3    0.9118\n",
      "0      FlagNets       3    0.9112\n",
      "0     ProtoNets       3    0.8754\n",
      "0  SubspaceNets       3    0.9002\n",
      "0      FlagNets       3    0.8996\n",
      "0     ProtoNets       3    0.8708\n",
      "0  SubspaceNets       3    0.8984\n",
      "0      FlagNets       3    0.8974\n",
      "0     ProtoNets       3    0.8950\n",
      "0  SubspaceNets       3    0.9094\n",
      "0      FlagNets       3    0.9106\n",
      "0     ProtoNets       3    0.8714\n",
      "0  SubspaceNets       3    0.8954\n",
      "0      FlagNets       3    0.8952\n"
     ]
    },
    {
     "name": "stderr",
     "output_type": "stream",
     "text": [
      "/home/nate/anaconda3/envs/flags3/lib/python3.12/site-packages/torchvision/models/_utils.py:208: UserWarning: The parameter 'pretrained' is deprecated since 0.13 and may be removed in the future, please use 'weights' instead.\n",
      "  warnings.warn(\n",
      "/home/nate/anaconda3/envs/flags3/lib/python3.12/site-packages/torchvision/models/_utils.py:223: UserWarning: Arguments other than a weight enum or `None` for 'weights' are deprecated since 0.13 and may be removed in the future. The current behavior is equivalent to passing `weights=AlexNet_Weights.IMAGENET1K_V1`. You can also use `weights=AlexNet_Weights.DEFAULT` to get the most up-to-date weights.\n",
      "  warnings.warn(msg)\n",
      " 30%|███       | 6/20 [15:25<35:15, 151.13s/it]"
     ]
    },
    {
     "name": "stdout",
     "output_type": "stream",
     "text": [
      "         Method N Shots  Accuracy\n",
      "0     ProtoNets       3    0.8906\n",
      "0  SubspaceNets       3    0.9118\n",
      "0      FlagNets       3    0.9112\n",
      "0     ProtoNets       3    0.8754\n",
      "0  SubspaceNets       3    0.9002\n",
      "0      FlagNets       3    0.8996\n",
      "0     ProtoNets       3    0.8708\n",
      "0  SubspaceNets       3    0.8984\n",
      "0      FlagNets       3    0.8974\n",
      "0     ProtoNets       3    0.8950\n",
      "0  SubspaceNets       3    0.9094\n",
      "0      FlagNets       3    0.9106\n",
      "0     ProtoNets       3    0.8714\n",
      "0  SubspaceNets       3    0.8954\n",
      "0      FlagNets       3    0.8952\n",
      "0     ProtoNets       3    0.8830\n",
      "0  SubspaceNets       3    0.9030\n",
      "0      FlagNets       3    0.9036\n"
     ]
    },
    {
     "name": "stderr",
     "output_type": "stream",
     "text": [
      "/home/nate/anaconda3/envs/flags3/lib/python3.12/site-packages/torchvision/models/_utils.py:208: UserWarning: The parameter 'pretrained' is deprecated since 0.13 and may be removed in the future, please use 'weights' instead.\n",
      "  warnings.warn(\n",
      "/home/nate/anaconda3/envs/flags3/lib/python3.12/site-packages/torchvision/models/_utils.py:223: UserWarning: Arguments other than a weight enum or `None` for 'weights' are deprecated since 0.13 and may be removed in the future. The current behavior is equivalent to passing `weights=AlexNet_Weights.IMAGENET1K_V1`. You can also use `weights=AlexNet_Weights.DEFAULT` to get the most up-to-date weights.\n",
      "  warnings.warn(msg)\n",
      " 35%|███▌      | 7/20 [17:53<32:31, 150.14s/it]"
     ]
    },
    {
     "name": "stdout",
     "output_type": "stream",
     "text": [
      "         Method N Shots  Accuracy\n",
      "0     ProtoNets       3    0.8906\n",
      "0  SubspaceNets       3    0.9118\n",
      "0      FlagNets       3    0.9112\n",
      "0     ProtoNets       3    0.8754\n",
      "0  SubspaceNets       3    0.9002\n",
      "0      FlagNets       3    0.8996\n",
      "0     ProtoNets       3    0.8708\n",
      "0  SubspaceNets       3    0.8984\n",
      "0      FlagNets       3    0.8974\n",
      "0     ProtoNets       3    0.8950\n",
      "0  SubspaceNets       3    0.9094\n",
      "0      FlagNets       3    0.9106\n",
      "0     ProtoNets       3    0.8714\n",
      "0  SubspaceNets       3    0.8954\n",
      "0      FlagNets       3    0.8952\n",
      "0     ProtoNets       3    0.8830\n",
      "0  SubspaceNets       3    0.9030\n",
      "0      FlagNets       3    0.9036\n",
      "0     ProtoNets       3    0.8846\n",
      "0  SubspaceNets       3    0.8968\n",
      "0      FlagNets       3    0.8980\n"
     ]
    },
    {
     "name": "stderr",
     "output_type": "stream",
     "text": [
      "/home/nate/anaconda3/envs/flags3/lib/python3.12/site-packages/torchvision/models/_utils.py:208: UserWarning: The parameter 'pretrained' is deprecated since 0.13 and may be removed in the future, please use 'weights' instead.\n",
      "  warnings.warn(\n",
      "/home/nate/anaconda3/envs/flags3/lib/python3.12/site-packages/torchvision/models/_utils.py:223: UserWarning: Arguments other than a weight enum or `None` for 'weights' are deprecated since 0.13 and may be removed in the future. The current behavior is equivalent to passing `weights=AlexNet_Weights.IMAGENET1K_V1`. You can also use `weights=AlexNet_Weights.DEFAULT` to get the most up-to-date weights.\n",
      "  warnings.warn(msg)\n",
      " 40%|████      | 8/20 [20:18<29:41, 148.46s/it]"
     ]
    },
    {
     "name": "stdout",
     "output_type": "stream",
     "text": [
      "         Method N Shots  Accuracy\n",
      "0     ProtoNets       3    0.8906\n",
      "0  SubspaceNets       3    0.9118\n",
      "0      FlagNets       3    0.9112\n",
      "0     ProtoNets       3    0.8754\n",
      "0  SubspaceNets       3    0.9002\n",
      "0      FlagNets       3    0.8996\n",
      "0     ProtoNets       3    0.8708\n",
      "0  SubspaceNets       3    0.8984\n",
      "0      FlagNets       3    0.8974\n",
      "0     ProtoNets       3    0.8950\n",
      "0  SubspaceNets       3    0.9094\n",
      "0      FlagNets       3    0.9106\n",
      "0     ProtoNets       3    0.8714\n",
      "0  SubspaceNets       3    0.8954\n",
      "0      FlagNets       3    0.8952\n",
      "0     ProtoNets       3    0.8830\n",
      "0  SubspaceNets       3    0.9030\n",
      "0      FlagNets       3    0.9036\n",
      "0     ProtoNets       3    0.8846\n",
      "0  SubspaceNets       3    0.8968\n",
      "0      FlagNets       3    0.8980\n",
      "0     ProtoNets       3    0.8770\n",
      "0  SubspaceNets       3    0.8986\n",
      "0      FlagNets       3    0.8980\n"
     ]
    },
    {
     "name": "stderr",
     "output_type": "stream",
     "text": [
      "/home/nate/anaconda3/envs/flags3/lib/python3.12/site-packages/torchvision/models/_utils.py:208: UserWarning: The parameter 'pretrained' is deprecated since 0.13 and may be removed in the future, please use 'weights' instead.\n",
      "  warnings.warn(\n",
      "/home/nate/anaconda3/envs/flags3/lib/python3.12/site-packages/torchvision/models/_utils.py:223: UserWarning: Arguments other than a weight enum or `None` for 'weights' are deprecated since 0.13 and may be removed in the future. The current behavior is equivalent to passing `weights=AlexNet_Weights.IMAGENET1K_V1`. You can also use `weights=AlexNet_Weights.DEFAULT` to get the most up-to-date weights.\n",
      "  warnings.warn(msg)\n",
      " 45%|████▌     | 9/20 [22:49<27:20, 149.13s/it]"
     ]
    },
    {
     "name": "stdout",
     "output_type": "stream",
     "text": [
      "         Method N Shots  Accuracy\n",
      "0     ProtoNets       3    0.8906\n",
      "0  SubspaceNets       3    0.9118\n",
      "0      FlagNets       3    0.9112\n",
      "0     ProtoNets       3    0.8754\n",
      "0  SubspaceNets       3    0.9002\n",
      "0      FlagNets       3    0.8996\n",
      "0     ProtoNets       3    0.8708\n",
      "0  SubspaceNets       3    0.8984\n",
      "0      FlagNets       3    0.8974\n",
      "0     ProtoNets       3    0.8950\n",
      "0  SubspaceNets       3    0.9094\n",
      "0      FlagNets       3    0.9106\n",
      "0     ProtoNets       3    0.8714\n",
      "0  SubspaceNets       3    0.8954\n",
      "0      FlagNets       3    0.8952\n",
      "0     ProtoNets       3    0.8830\n",
      "0  SubspaceNets       3    0.9030\n",
      "0      FlagNets       3    0.9036\n",
      "0     ProtoNets       3    0.8846\n",
      "0  SubspaceNets       3    0.8968\n",
      "0      FlagNets       3    0.8980\n",
      "0     ProtoNets       3    0.8770\n",
      "0  SubspaceNets       3    0.8986\n",
      "0      FlagNets       3    0.8980\n",
      "0     ProtoNets       3    0.8810\n",
      "0  SubspaceNets       3    0.9050\n",
      "0      FlagNets       3    0.9058\n"
     ]
    },
    {
     "name": "stderr",
     "output_type": "stream",
     "text": [
      "/home/nate/anaconda3/envs/flags3/lib/python3.12/site-packages/torchvision/models/_utils.py:208: UserWarning: The parameter 'pretrained' is deprecated since 0.13 and may be removed in the future, please use 'weights' instead.\n",
      "  warnings.warn(\n",
      "/home/nate/anaconda3/envs/flags3/lib/python3.12/site-packages/torchvision/models/_utils.py:223: UserWarning: Arguments other than a weight enum or `None` for 'weights' are deprecated since 0.13 and may be removed in the future. The current behavior is equivalent to passing `weights=AlexNet_Weights.IMAGENET1K_V1`. You can also use `weights=AlexNet_Weights.DEFAULT` to get the most up-to-date weights.\n",
      "  warnings.warn(msg)\n",
      " 50%|█████     | 10/20 [25:16<24:44, 148.50s/it]"
     ]
    },
    {
     "name": "stdout",
     "output_type": "stream",
     "text": [
      "         Method N Shots  Accuracy\n",
      "0     ProtoNets       3    0.8906\n",
      "0  SubspaceNets       3    0.9118\n",
      "0      FlagNets       3    0.9112\n",
      "0     ProtoNets       3    0.8754\n",
      "0  SubspaceNets       3    0.9002\n",
      "0      FlagNets       3    0.8996\n",
      "0     ProtoNets       3    0.8708\n",
      "0  SubspaceNets       3    0.8984\n",
      "0      FlagNets       3    0.8974\n",
      "0     ProtoNets       3    0.8950\n",
      "0  SubspaceNets       3    0.9094\n",
      "0      FlagNets       3    0.9106\n",
      "0     ProtoNets       3    0.8714\n",
      "0  SubspaceNets       3    0.8954\n",
      "0      FlagNets       3    0.8952\n",
      "0     ProtoNets       3    0.8830\n",
      "0  SubspaceNets       3    0.9030\n",
      "0      FlagNets       3    0.9036\n",
      "0     ProtoNets       3    0.8846\n",
      "0  SubspaceNets       3    0.8968\n",
      "0      FlagNets       3    0.8980\n",
      "0     ProtoNets       3    0.8770\n",
      "0  SubspaceNets       3    0.8986\n",
      "0      FlagNets       3    0.8980\n",
      "0     ProtoNets       3    0.8810\n",
      "0  SubspaceNets       3    0.9050\n",
      "0      FlagNets       3    0.9058\n",
      "0     ProtoNets       3    0.8828\n",
      "0  SubspaceNets       3    0.8962\n",
      "0      FlagNets       3    0.8960\n"
     ]
    },
    {
     "name": "stderr",
     "output_type": "stream",
     "text": [
      "/home/nate/anaconda3/envs/flags3/lib/python3.12/site-packages/torchvision/models/_utils.py:208: UserWarning: The parameter 'pretrained' is deprecated since 0.13 and may be removed in the future, please use 'weights' instead.\n",
      "  warnings.warn(\n",
      "/home/nate/anaconda3/envs/flags3/lib/python3.12/site-packages/torchvision/models/_utils.py:223: UserWarning: Arguments other than a weight enum or `None` for 'weights' are deprecated since 0.13 and may be removed in the future. The current behavior is equivalent to passing `weights=AlexNet_Weights.IMAGENET1K_V1`. You can also use `weights=AlexNet_Weights.DEFAULT` to get the most up-to-date weights.\n",
      "  warnings.warn(msg)\n",
      " 55%|█████▌    | 11/20 [27:45<22:17, 148.66s/it]"
     ]
    },
    {
     "name": "stdout",
     "output_type": "stream",
     "text": [
      "         Method N Shots  Accuracy\n",
      "0     ProtoNets       3    0.8906\n",
      "0  SubspaceNets       3    0.9118\n",
      "0      FlagNets       3    0.9112\n",
      "0     ProtoNets       3    0.8754\n",
      "0  SubspaceNets       3    0.9002\n",
      "0      FlagNets       3    0.8996\n",
      "0     ProtoNets       3    0.8708\n",
      "0  SubspaceNets       3    0.8984\n",
      "0      FlagNets       3    0.8974\n",
      "0     ProtoNets       3    0.8950\n",
      "0  SubspaceNets       3    0.9094\n",
      "0      FlagNets       3    0.9106\n",
      "0     ProtoNets       3    0.8714\n",
      "0  SubspaceNets       3    0.8954\n",
      "0      FlagNets       3    0.8952\n",
      "0     ProtoNets       3    0.8830\n",
      "0  SubspaceNets       3    0.9030\n",
      "0      FlagNets       3    0.9036\n",
      "0     ProtoNets       3    0.8846\n",
      "0  SubspaceNets       3    0.8968\n",
      "0      FlagNets       3    0.8980\n",
      "0     ProtoNets       3    0.8770\n",
      "0  SubspaceNets       3    0.8986\n",
      "0      FlagNets       3    0.8980\n",
      "0     ProtoNets       3    0.8810\n",
      "0  SubspaceNets       3    0.9050\n",
      "0      FlagNets       3    0.9058\n",
      "0     ProtoNets       3    0.8828\n",
      "0  SubspaceNets       3    0.8962\n",
      "0      FlagNets       3    0.8960\n",
      "0     ProtoNets       3    0.8876\n",
      "0  SubspaceNets       3    0.8996\n",
      "0      FlagNets       3    0.8996\n"
     ]
    },
    {
     "name": "stderr",
     "output_type": "stream",
     "text": [
      "/home/nate/anaconda3/envs/flags3/lib/python3.12/site-packages/torchvision/models/_utils.py:208: UserWarning: The parameter 'pretrained' is deprecated since 0.13 and may be removed in the future, please use 'weights' instead.\n",
      "  warnings.warn(\n",
      "/home/nate/anaconda3/envs/flags3/lib/python3.12/site-packages/torchvision/models/_utils.py:223: UserWarning: Arguments other than a weight enum or `None` for 'weights' are deprecated since 0.13 and may be removed in the future. The current behavior is equivalent to passing `weights=AlexNet_Weights.IMAGENET1K_V1`. You can also use `weights=AlexNet_Weights.DEFAULT` to get the most up-to-date weights.\n",
      "  warnings.warn(msg)\n",
      " 60%|██████    | 12/20 [30:16<19:54, 149.26s/it]"
     ]
    },
    {
     "name": "stdout",
     "output_type": "stream",
     "text": [
      "         Method N Shots  Accuracy\n",
      "0     ProtoNets       3    0.8906\n",
      "0  SubspaceNets       3    0.9118\n",
      "0      FlagNets       3    0.9112\n",
      "0     ProtoNets       3    0.8754\n",
      "0  SubspaceNets       3    0.9002\n",
      "0      FlagNets       3    0.8996\n",
      "0     ProtoNets       3    0.8708\n",
      "0  SubspaceNets       3    0.8984\n",
      "0      FlagNets       3    0.8974\n",
      "0     ProtoNets       3    0.8950\n",
      "0  SubspaceNets       3    0.9094\n",
      "0      FlagNets       3    0.9106\n",
      "0     ProtoNets       3    0.8714\n",
      "0  SubspaceNets       3    0.8954\n",
      "0      FlagNets       3    0.8952\n",
      "0     ProtoNets       3    0.8830\n",
      "0  SubspaceNets       3    0.9030\n",
      "0      FlagNets       3    0.9036\n",
      "0     ProtoNets       3    0.8846\n",
      "0  SubspaceNets       3    0.8968\n",
      "0      FlagNets       3    0.8980\n",
      "0     ProtoNets       3    0.8770\n",
      "0  SubspaceNets       3    0.8986\n",
      "0      FlagNets       3    0.8980\n",
      "0     ProtoNets       3    0.8810\n",
      "0  SubspaceNets       3    0.9050\n",
      "0      FlagNets       3    0.9058\n",
      "0     ProtoNets       3    0.8828\n",
      "0  SubspaceNets       3    0.8962\n",
      "0      FlagNets       3    0.8960\n",
      "0     ProtoNets       3    0.8876\n",
      "0  SubspaceNets       3    0.8996\n",
      "0      FlagNets       3    0.8996\n",
      "0     ProtoNets       3    0.8762\n",
      "0  SubspaceNets       3    0.8954\n",
      "0      FlagNets       3    0.8960\n"
     ]
    },
    {
     "name": "stderr",
     "output_type": "stream",
     "text": [
      "/home/nate/anaconda3/envs/flags3/lib/python3.12/site-packages/torchvision/models/_utils.py:208: UserWarning: The parameter 'pretrained' is deprecated since 0.13 and may be removed in the future, please use 'weights' instead.\n",
      "  warnings.warn(\n",
      "/home/nate/anaconda3/envs/flags3/lib/python3.12/site-packages/torchvision/models/_utils.py:223: UserWarning: Arguments other than a weight enum or `None` for 'weights' are deprecated since 0.13 and may be removed in the future. The current behavior is equivalent to passing `weights=AlexNet_Weights.IMAGENET1K_V1`. You can also use `weights=AlexNet_Weights.DEFAULT` to get the most up-to-date weights.\n",
      "  warnings.warn(msg)\n",
      " 65%|██████▌   | 13/20 [32:43<17:21, 148.80s/it]"
     ]
    },
    {
     "name": "stdout",
     "output_type": "stream",
     "text": [
      "         Method N Shots  Accuracy\n",
      "0     ProtoNets       3    0.8906\n",
      "0  SubspaceNets       3    0.9118\n",
      "0      FlagNets       3    0.9112\n",
      "0     ProtoNets       3    0.8754\n",
      "0  SubspaceNets       3    0.9002\n",
      "0      FlagNets       3    0.8996\n",
      "0     ProtoNets       3    0.8708\n",
      "0  SubspaceNets       3    0.8984\n",
      "0      FlagNets       3    0.8974\n",
      "0     ProtoNets       3    0.8950\n",
      "0  SubspaceNets       3    0.9094\n",
      "0      FlagNets       3    0.9106\n",
      "0     ProtoNets       3    0.8714\n",
      "0  SubspaceNets       3    0.8954\n",
      "0      FlagNets       3    0.8952\n",
      "0     ProtoNets       3    0.8830\n",
      "0  SubspaceNets       3    0.9030\n",
      "0      FlagNets       3    0.9036\n",
      "0     ProtoNets       3    0.8846\n",
      "0  SubspaceNets       3    0.8968\n",
      "0      FlagNets       3    0.8980\n",
      "0     ProtoNets       3    0.8770\n",
      "0  SubspaceNets       3    0.8986\n",
      "0      FlagNets       3    0.8980\n",
      "0     ProtoNets       3    0.8810\n",
      "0  SubspaceNets       3    0.9050\n",
      "0      FlagNets       3    0.9058\n",
      "0     ProtoNets       3    0.8828\n",
      "0  SubspaceNets       3    0.8962\n",
      "0      FlagNets       3    0.8960\n",
      "0     ProtoNets       3    0.8876\n",
      "0  SubspaceNets       3    0.8996\n",
      "0      FlagNets       3    0.8996\n",
      "0     ProtoNets       3    0.8762\n",
      "0  SubspaceNets       3    0.8954\n",
      "0      FlagNets       3    0.8960\n",
      "0     ProtoNets       3    0.8858\n",
      "0  SubspaceNets       3    0.9018\n",
      "0      FlagNets       3    0.9014\n"
     ]
    },
    {
     "name": "stderr",
     "output_type": "stream",
     "text": [
      "/home/nate/anaconda3/envs/flags3/lib/python3.12/site-packages/torchvision/models/_utils.py:208: UserWarning: The parameter 'pretrained' is deprecated since 0.13 and may be removed in the future, please use 'weights' instead.\n",
      "  warnings.warn(\n",
      "/home/nate/anaconda3/envs/flags3/lib/python3.12/site-packages/torchvision/models/_utils.py:223: UserWarning: Arguments other than a weight enum or `None` for 'weights' are deprecated since 0.13 and may be removed in the future. The current behavior is equivalent to passing `weights=AlexNet_Weights.IMAGENET1K_V1`. You can also use `weights=AlexNet_Weights.DEFAULT` to get the most up-to-date weights.\n",
      "  warnings.warn(msg)\n",
      " 70%|███████   | 14/20 [35:14<14:56, 149.40s/it]"
     ]
    },
    {
     "name": "stdout",
     "output_type": "stream",
     "text": [
      "         Method N Shots  Accuracy\n",
      "0     ProtoNets       3    0.8906\n",
      "0  SubspaceNets       3    0.9118\n",
      "0      FlagNets       3    0.9112\n",
      "0     ProtoNets       3    0.8754\n",
      "0  SubspaceNets       3    0.9002\n",
      "0      FlagNets       3    0.8996\n",
      "0     ProtoNets       3    0.8708\n",
      "0  SubspaceNets       3    0.8984\n",
      "0      FlagNets       3    0.8974\n",
      "0     ProtoNets       3    0.8950\n",
      "0  SubspaceNets       3    0.9094\n",
      "0      FlagNets       3    0.9106\n",
      "0     ProtoNets       3    0.8714\n",
      "0  SubspaceNets       3    0.8954\n",
      "0      FlagNets       3    0.8952\n",
      "0     ProtoNets       3    0.8830\n",
      "0  SubspaceNets       3    0.9030\n",
      "0      FlagNets       3    0.9036\n",
      "0     ProtoNets       3    0.8846\n",
      "0  SubspaceNets       3    0.8968\n",
      "0      FlagNets       3    0.8980\n",
      "0     ProtoNets       3    0.8770\n",
      "0  SubspaceNets       3    0.8986\n",
      "0      FlagNets       3    0.8980\n",
      "0     ProtoNets       3    0.8810\n",
      "0  SubspaceNets       3    0.9050\n",
      "0      FlagNets       3    0.9058\n",
      "0     ProtoNets       3    0.8828\n",
      "0  SubspaceNets       3    0.8962\n",
      "0      FlagNets       3    0.8960\n",
      "0     ProtoNets       3    0.8876\n",
      "0  SubspaceNets       3    0.8996\n",
      "0      FlagNets       3    0.8996\n",
      "0     ProtoNets       3    0.8762\n",
      "0  SubspaceNets       3    0.8954\n",
      "0      FlagNets       3    0.8960\n",
      "0     ProtoNets       3    0.8858\n",
      "0  SubspaceNets       3    0.9018\n",
      "0      FlagNets       3    0.9014\n",
      "0     ProtoNets       3    0.8938\n",
      "0  SubspaceNets       3    0.9172\n",
      "0      FlagNets       3    0.9186\n"
     ]
    },
    {
     "name": "stderr",
     "output_type": "stream",
     "text": [
      "/home/nate/anaconda3/envs/flags3/lib/python3.12/site-packages/torchvision/models/_utils.py:208: UserWarning: The parameter 'pretrained' is deprecated since 0.13 and may be removed in the future, please use 'weights' instead.\n",
      "  warnings.warn(\n",
      "/home/nate/anaconda3/envs/flags3/lib/python3.12/site-packages/torchvision/models/_utils.py:223: UserWarning: Arguments other than a weight enum or `None` for 'weights' are deprecated since 0.13 and may be removed in the future. The current behavior is equivalent to passing `weights=AlexNet_Weights.IMAGENET1K_V1`. You can also use `weights=AlexNet_Weights.DEFAULT` to get the most up-to-date weights.\n",
      "  warnings.warn(msg)\n",
      " 75%|███████▌  | 15/20 [37:43<12:26, 149.25s/it]"
     ]
    },
    {
     "name": "stdout",
     "output_type": "stream",
     "text": [
      "         Method N Shots  Accuracy\n",
      "0     ProtoNets       3    0.8906\n",
      "0  SubspaceNets       3    0.9118\n",
      "0      FlagNets       3    0.9112\n",
      "0     ProtoNets       3    0.8754\n",
      "0  SubspaceNets       3    0.9002\n",
      "0      FlagNets       3    0.8996\n",
      "0     ProtoNets       3    0.8708\n",
      "0  SubspaceNets       3    0.8984\n",
      "0      FlagNets       3    0.8974\n",
      "0     ProtoNets       3    0.8950\n",
      "0  SubspaceNets       3    0.9094\n",
      "0      FlagNets       3    0.9106\n",
      "0     ProtoNets       3    0.8714\n",
      "0  SubspaceNets       3    0.8954\n",
      "0      FlagNets       3    0.8952\n",
      "0     ProtoNets       3    0.8830\n",
      "0  SubspaceNets       3    0.9030\n",
      "0      FlagNets       3    0.9036\n",
      "0     ProtoNets       3    0.8846\n",
      "0  SubspaceNets       3    0.8968\n",
      "0      FlagNets       3    0.8980\n",
      "0     ProtoNets       3    0.8770\n",
      "0  SubspaceNets       3    0.8986\n",
      "0      FlagNets       3    0.8980\n",
      "0     ProtoNets       3    0.8810\n",
      "0  SubspaceNets       3    0.9050\n",
      "0      FlagNets       3    0.9058\n",
      "0     ProtoNets       3    0.8828\n",
      "0  SubspaceNets       3    0.8962\n",
      "0      FlagNets       3    0.8960\n",
      "0     ProtoNets       3    0.8876\n",
      "0  SubspaceNets       3    0.8996\n",
      "0      FlagNets       3    0.8996\n",
      "0     ProtoNets       3    0.8762\n",
      "0  SubspaceNets       3    0.8954\n",
      "0      FlagNets       3    0.8960\n",
      "0     ProtoNets       3    0.8858\n",
      "0  SubspaceNets       3    0.9018\n",
      "0      FlagNets       3    0.9014\n",
      "0     ProtoNets       3    0.8938\n",
      "0  SubspaceNets       3    0.9172\n",
      "0      FlagNets       3    0.9186\n",
      "0     ProtoNets       3    0.8884\n",
      "0  SubspaceNets       3    0.9012\n",
      "0      FlagNets       3    0.9004\n"
     ]
    },
    {
     "name": "stderr",
     "output_type": "stream",
     "text": [
      "/home/nate/anaconda3/envs/flags3/lib/python3.12/site-packages/torchvision/models/_utils.py:208: UserWarning: The parameter 'pretrained' is deprecated since 0.13 and may be removed in the future, please use 'weights' instead.\n",
      "  warnings.warn(\n",
      "/home/nate/anaconda3/envs/flags3/lib/python3.12/site-packages/torchvision/models/_utils.py:223: UserWarning: Arguments other than a weight enum or `None` for 'weights' are deprecated since 0.13 and may be removed in the future. The current behavior is equivalent to passing `weights=AlexNet_Weights.IMAGENET1K_V1`. You can also use `weights=AlexNet_Weights.DEFAULT` to get the most up-to-date weights.\n",
      "  warnings.warn(msg)\n",
      " 80%|████████  | 16/20 [40:13<09:58, 149.51s/it]"
     ]
    },
    {
     "name": "stdout",
     "output_type": "stream",
     "text": [
      "         Method N Shots  Accuracy\n",
      "0     ProtoNets       3    0.8906\n",
      "0  SubspaceNets       3    0.9118\n",
      "0      FlagNets       3    0.9112\n",
      "0     ProtoNets       3    0.8754\n",
      "0  SubspaceNets       3    0.9002\n",
      "0      FlagNets       3    0.8996\n",
      "0     ProtoNets       3    0.8708\n",
      "0  SubspaceNets       3    0.8984\n",
      "0      FlagNets       3    0.8974\n",
      "0     ProtoNets       3    0.8950\n",
      "0  SubspaceNets       3    0.9094\n",
      "0      FlagNets       3    0.9106\n",
      "0     ProtoNets       3    0.8714\n",
      "0  SubspaceNets       3    0.8954\n",
      "0      FlagNets       3    0.8952\n",
      "0     ProtoNets       3    0.8830\n",
      "0  SubspaceNets       3    0.9030\n",
      "0      FlagNets       3    0.9036\n",
      "0     ProtoNets       3    0.8846\n",
      "0  SubspaceNets       3    0.8968\n",
      "0      FlagNets       3    0.8980\n",
      "0     ProtoNets       3    0.8770\n",
      "0  SubspaceNets       3    0.8986\n",
      "0      FlagNets       3    0.8980\n",
      "0     ProtoNets       3    0.8810\n",
      "0  SubspaceNets       3    0.9050\n",
      "0      FlagNets       3    0.9058\n",
      "0     ProtoNets       3    0.8828\n",
      "0  SubspaceNets       3    0.8962\n",
      "0      FlagNets       3    0.8960\n",
      "0     ProtoNets       3    0.8876\n",
      "0  SubspaceNets       3    0.8996\n",
      "0      FlagNets       3    0.8996\n",
      "0     ProtoNets       3    0.8762\n",
      "0  SubspaceNets       3    0.8954\n",
      "0      FlagNets       3    0.8960\n",
      "0     ProtoNets       3    0.8858\n",
      "0  SubspaceNets       3    0.9018\n",
      "0      FlagNets       3    0.9014\n",
      "0     ProtoNets       3    0.8938\n",
      "0  SubspaceNets       3    0.9172\n",
      "0      FlagNets       3    0.9186\n",
      "0     ProtoNets       3    0.8884\n",
      "0  SubspaceNets       3    0.9012\n",
      "0      FlagNets       3    0.9004\n",
      "0     ProtoNets       3    0.8644\n",
      "0  SubspaceNets       3    0.8912\n",
      "0      FlagNets       3    0.8902\n"
     ]
    },
    {
     "name": "stderr",
     "output_type": "stream",
     "text": [
      "/home/nate/anaconda3/envs/flags3/lib/python3.12/site-packages/torchvision/models/_utils.py:208: UserWarning: The parameter 'pretrained' is deprecated since 0.13 and may be removed in the future, please use 'weights' instead.\n",
      "  warnings.warn(\n",
      "/home/nate/anaconda3/envs/flags3/lib/python3.12/site-packages/torchvision/models/_utils.py:223: UserWarning: Arguments other than a weight enum or `None` for 'weights' are deprecated since 0.13 and may be removed in the future. The current behavior is equivalent to passing `weights=AlexNet_Weights.IMAGENET1K_V1`. You can also use `weights=AlexNet_Weights.DEFAULT` to get the most up-to-date weights.\n",
      "  warnings.warn(msg)\n",
      " 85%|████████▌ | 17/20 [42:40<07:26, 148.84s/it]"
     ]
    },
    {
     "name": "stdout",
     "output_type": "stream",
     "text": [
      "         Method N Shots  Accuracy\n",
      "0     ProtoNets       3    0.8906\n",
      "0  SubspaceNets       3    0.9118\n",
      "0      FlagNets       3    0.9112\n",
      "0     ProtoNets       3    0.8754\n",
      "0  SubspaceNets       3    0.9002\n",
      "0      FlagNets       3    0.8996\n",
      "0     ProtoNets       3    0.8708\n",
      "0  SubspaceNets       3    0.8984\n",
      "0      FlagNets       3    0.8974\n",
      "0     ProtoNets       3    0.8950\n",
      "0  SubspaceNets       3    0.9094\n",
      "0      FlagNets       3    0.9106\n",
      "0     ProtoNets       3    0.8714\n",
      "0  SubspaceNets       3    0.8954\n",
      "0      FlagNets       3    0.8952\n",
      "0     ProtoNets       3    0.8830\n",
      "0  SubspaceNets       3    0.9030\n",
      "0      FlagNets       3    0.9036\n",
      "0     ProtoNets       3    0.8846\n",
      "0  SubspaceNets       3    0.8968\n",
      "0      FlagNets       3    0.8980\n",
      "0     ProtoNets       3    0.8770\n",
      "0  SubspaceNets       3    0.8986\n",
      "0      FlagNets       3    0.8980\n",
      "0     ProtoNets       3    0.8810\n",
      "0  SubspaceNets       3    0.9050\n",
      "0      FlagNets       3    0.9058\n",
      "0     ProtoNets       3    0.8828\n",
      "0  SubspaceNets       3    0.8962\n",
      "0      FlagNets       3    0.8960\n",
      "0     ProtoNets       3    0.8876\n",
      "0  SubspaceNets       3    0.8996\n",
      "0      FlagNets       3    0.8996\n",
      "0     ProtoNets       3    0.8762\n",
      "0  SubspaceNets       3    0.8954\n",
      "0      FlagNets       3    0.8960\n",
      "0     ProtoNets       3    0.8858\n",
      "0  SubspaceNets       3    0.9018\n",
      "0      FlagNets       3    0.9014\n",
      "0     ProtoNets       3    0.8938\n",
      "0  SubspaceNets       3    0.9172\n",
      "0      FlagNets       3    0.9186\n",
      "0     ProtoNets       3    0.8884\n",
      "0  SubspaceNets       3    0.9012\n",
      "0      FlagNets       3    0.9004\n",
      "0     ProtoNets       3    0.8644\n",
      "0  SubspaceNets       3    0.8912\n",
      "0      FlagNets       3    0.8902\n",
      "0     ProtoNets       3    0.8694\n",
      "0  SubspaceNets       3    0.8966\n",
      "0      FlagNets       3    0.8966\n"
     ]
    },
    {
     "name": "stderr",
     "output_type": "stream",
     "text": [
      "/home/nate/anaconda3/envs/flags3/lib/python3.12/site-packages/torchvision/models/_utils.py:208: UserWarning: The parameter 'pretrained' is deprecated since 0.13 and may be removed in the future, please use 'weights' instead.\n",
      "  warnings.warn(\n",
      "/home/nate/anaconda3/envs/flags3/lib/python3.12/site-packages/torchvision/models/_utils.py:223: UserWarning: Arguments other than a weight enum or `None` for 'weights' are deprecated since 0.13 and may be removed in the future. The current behavior is equivalent to passing `weights=AlexNet_Weights.IMAGENET1K_V1`. You can also use `weights=AlexNet_Weights.DEFAULT` to get the most up-to-date weights.\n",
      "  warnings.warn(msg)\n",
      " 90%|█████████ | 18/20 [45:10<04:58, 149.16s/it]"
     ]
    },
    {
     "name": "stdout",
     "output_type": "stream",
     "text": [
      "         Method N Shots  Accuracy\n",
      "0     ProtoNets       3    0.8906\n",
      "0  SubspaceNets       3    0.9118\n",
      "0      FlagNets       3    0.9112\n",
      "0     ProtoNets       3    0.8754\n",
      "0  SubspaceNets       3    0.9002\n",
      "0      FlagNets       3    0.8996\n",
      "0     ProtoNets       3    0.8708\n",
      "0  SubspaceNets       3    0.8984\n",
      "0      FlagNets       3    0.8974\n",
      "0     ProtoNets       3    0.8950\n",
      "0  SubspaceNets       3    0.9094\n",
      "0      FlagNets       3    0.9106\n",
      "0     ProtoNets       3    0.8714\n",
      "0  SubspaceNets       3    0.8954\n",
      "0      FlagNets       3    0.8952\n",
      "0     ProtoNets       3    0.8830\n",
      "0  SubspaceNets       3    0.9030\n",
      "0      FlagNets       3    0.9036\n",
      "0     ProtoNets       3    0.8846\n",
      "0  SubspaceNets       3    0.8968\n",
      "0      FlagNets       3    0.8980\n",
      "0     ProtoNets       3    0.8770\n",
      "0  SubspaceNets       3    0.8986\n",
      "0      FlagNets       3    0.8980\n",
      "0     ProtoNets       3    0.8810\n",
      "0  SubspaceNets       3    0.9050\n",
      "0      FlagNets       3    0.9058\n",
      "0     ProtoNets       3    0.8828\n",
      "0  SubspaceNets       3    0.8962\n",
      "0      FlagNets       3    0.8960\n",
      "0     ProtoNets       3    0.8876\n",
      "0  SubspaceNets       3    0.8996\n",
      "0      FlagNets       3    0.8996\n",
      "0     ProtoNets       3    0.8762\n",
      "0  SubspaceNets       3    0.8954\n",
      "0      FlagNets       3    0.8960\n",
      "0     ProtoNets       3    0.8858\n",
      "0  SubspaceNets       3    0.9018\n",
      "0      FlagNets       3    0.9014\n",
      "0     ProtoNets       3    0.8938\n",
      "0  SubspaceNets       3    0.9172\n",
      "0      FlagNets       3    0.9186\n",
      "0     ProtoNets       3    0.8884\n",
      "0  SubspaceNets       3    0.9012\n",
      "0      FlagNets       3    0.9004\n",
      "0     ProtoNets       3    0.8644\n",
      "0  SubspaceNets       3    0.8912\n",
      "0      FlagNets       3    0.8902\n",
      "0     ProtoNets       3    0.8694\n",
      "0  SubspaceNets       3    0.8966\n",
      "0      FlagNets       3    0.8966\n",
      "0     ProtoNets       3    0.8916\n",
      "0  SubspaceNets       3    0.9114\n",
      "0      FlagNets       3    0.9116\n"
     ]
    },
    {
     "name": "stderr",
     "output_type": "stream",
     "text": [
      "/home/nate/anaconda3/envs/flags3/lib/python3.12/site-packages/torchvision/models/_utils.py:208: UserWarning: The parameter 'pretrained' is deprecated since 0.13 and may be removed in the future, please use 'weights' instead.\n",
      "  warnings.warn(\n",
      "/home/nate/anaconda3/envs/flags3/lib/python3.12/site-packages/torchvision/models/_utils.py:223: UserWarning: Arguments other than a weight enum or `None` for 'weights' are deprecated since 0.13 and may be removed in the future. The current behavior is equivalent to passing `weights=AlexNet_Weights.IMAGENET1K_V1`. You can also use `weights=AlexNet_Weights.DEFAULT` to get the most up-to-date weights.\n",
      "  warnings.warn(msg)\n",
      " 95%|█████████▌| 19/20 [47:35<02:27, 147.69s/it]"
     ]
    },
    {
     "name": "stdout",
     "output_type": "stream",
     "text": [
      "         Method N Shots  Accuracy\n",
      "0     ProtoNets       3    0.8906\n",
      "0  SubspaceNets       3    0.9118\n",
      "0      FlagNets       3    0.9112\n",
      "0     ProtoNets       3    0.8754\n",
      "0  SubspaceNets       3    0.9002\n",
      "0      FlagNets       3    0.8996\n",
      "0     ProtoNets       3    0.8708\n",
      "0  SubspaceNets       3    0.8984\n",
      "0      FlagNets       3    0.8974\n",
      "0     ProtoNets       3    0.8950\n",
      "0  SubspaceNets       3    0.9094\n",
      "0      FlagNets       3    0.9106\n",
      "0     ProtoNets       3    0.8714\n",
      "0  SubspaceNets       3    0.8954\n",
      "0      FlagNets       3    0.8952\n",
      "0     ProtoNets       3    0.8830\n",
      "0  SubspaceNets       3    0.9030\n",
      "0      FlagNets       3    0.9036\n",
      "0     ProtoNets       3    0.8846\n",
      "0  SubspaceNets       3    0.8968\n",
      "0      FlagNets       3    0.8980\n",
      "0     ProtoNets       3    0.8770\n",
      "0  SubspaceNets       3    0.8986\n",
      "0      FlagNets       3    0.8980\n",
      "0     ProtoNets       3    0.8810\n",
      "0  SubspaceNets       3    0.9050\n",
      "0      FlagNets       3    0.9058\n",
      "0     ProtoNets       3    0.8828\n",
      "0  SubspaceNets       3    0.8962\n",
      "0      FlagNets       3    0.8960\n",
      "0     ProtoNets       3    0.8876\n",
      "0  SubspaceNets       3    0.8996\n",
      "0      FlagNets       3    0.8996\n",
      "0     ProtoNets       3    0.8762\n",
      "0  SubspaceNets       3    0.8954\n",
      "0      FlagNets       3    0.8960\n",
      "0     ProtoNets       3    0.8858\n",
      "0  SubspaceNets       3    0.9018\n",
      "0      FlagNets       3    0.9014\n",
      "0     ProtoNets       3    0.8938\n",
      "0  SubspaceNets       3    0.9172\n",
      "0      FlagNets       3    0.9186\n",
      "0     ProtoNets       3    0.8884\n",
      "0  SubspaceNets       3    0.9012\n",
      "0      FlagNets       3    0.9004\n",
      "0     ProtoNets       3    0.8644\n",
      "0  SubspaceNets       3    0.8912\n",
      "0      FlagNets       3    0.8902\n",
      "0     ProtoNets       3    0.8694\n",
      "0  SubspaceNets       3    0.8966\n",
      "0      FlagNets       3    0.8966\n",
      "0     ProtoNets       3    0.8916\n",
      "0  SubspaceNets       3    0.9114\n",
      "0      FlagNets       3    0.9116\n",
      "0     ProtoNets       3    0.8952\n",
      "0  SubspaceNets       3    0.9122\n",
      "0      FlagNets       3    0.9116\n"
     ]
    },
    {
     "name": "stderr",
     "output_type": "stream",
     "text": [
      "/home/nate/anaconda3/envs/flags3/lib/python3.12/site-packages/torchvision/models/_utils.py:208: UserWarning: The parameter 'pretrained' is deprecated since 0.13 and may be removed in the future, please use 'weights' instead.\n",
      "  warnings.warn(\n",
      "/home/nate/anaconda3/envs/flags3/lib/python3.12/site-packages/torchvision/models/_utils.py:223: UserWarning: Arguments other than a weight enum or `None` for 'weights' are deprecated since 0.13 and may be removed in the future. The current behavior is equivalent to passing `weights=AlexNet_Weights.IMAGENET1K_V1`. You can also use `weights=AlexNet_Weights.DEFAULT` to get the most up-to-date weights.\n",
      "  warnings.warn(msg)\n",
      "100%|██████████| 20/20 [49:59<00:00, 149.99s/it]\n"
     ]
    },
    {
     "name": "stdout",
     "output_type": "stream",
     "text": [
      "         Method N Shots  Accuracy\n",
      "0     ProtoNets       3    0.8906\n",
      "0  SubspaceNets       3    0.9118\n",
      "0      FlagNets       3    0.9112\n",
      "0     ProtoNets       3    0.8754\n",
      "0  SubspaceNets       3    0.9002\n",
      "0      FlagNets       3    0.8996\n",
      "0     ProtoNets       3    0.8708\n",
      "0  SubspaceNets       3    0.8984\n",
      "0      FlagNets       3    0.8974\n",
      "0     ProtoNets       3    0.8950\n",
      "0  SubspaceNets       3    0.9094\n",
      "0      FlagNets       3    0.9106\n",
      "0     ProtoNets       3    0.8714\n",
      "0  SubspaceNets       3    0.8954\n",
      "0      FlagNets       3    0.8952\n",
      "0     ProtoNets       3    0.8830\n",
      "0  SubspaceNets       3    0.9030\n",
      "0      FlagNets       3    0.9036\n",
      "0     ProtoNets       3    0.8846\n",
      "0  SubspaceNets       3    0.8968\n",
      "0      FlagNets       3    0.8980\n",
      "0     ProtoNets       3    0.8770\n",
      "0  SubspaceNets       3    0.8986\n",
      "0      FlagNets       3    0.8980\n",
      "0     ProtoNets       3    0.8810\n",
      "0  SubspaceNets       3    0.9050\n",
      "0      FlagNets       3    0.9058\n",
      "0     ProtoNets       3    0.8828\n",
      "0  SubspaceNets       3    0.8962\n",
      "0      FlagNets       3    0.8960\n",
      "0     ProtoNets       3    0.8876\n",
      "0  SubspaceNets       3    0.8996\n",
      "0      FlagNets       3    0.8996\n",
      "0     ProtoNets       3    0.8762\n",
      "0  SubspaceNets       3    0.8954\n",
      "0      FlagNets       3    0.8960\n",
      "0     ProtoNets       3    0.8858\n",
      "0  SubspaceNets       3    0.9018\n",
      "0      FlagNets       3    0.9014\n",
      "0     ProtoNets       3    0.8938\n",
      "0  SubspaceNets       3    0.9172\n",
      "0      FlagNets       3    0.9186\n",
      "0     ProtoNets       3    0.8884\n",
      "0  SubspaceNets       3    0.9012\n",
      "0      FlagNets       3    0.9004\n",
      "0     ProtoNets       3    0.8644\n",
      "0  SubspaceNets       3    0.8912\n",
      "0      FlagNets       3    0.8902\n",
      "0     ProtoNets       3    0.8694\n",
      "0  SubspaceNets       3    0.8966\n",
      "0      FlagNets       3    0.8966\n",
      "0     ProtoNets       3    0.8916\n",
      "0  SubspaceNets       3    0.9114\n",
      "0      FlagNets       3    0.9116\n",
      "0     ProtoNets       3    0.8952\n",
      "0  SubspaceNets       3    0.9122\n",
      "0      FlagNets       3    0.9116\n",
      "0     ProtoNets       3    0.8678\n",
      "0  SubspaceNets       3    0.8922\n",
      "0      FlagNets       3    0.8938\n",
      "Starting 5\n"
     ]
    },
    {
     "name": "stderr",
     "output_type": "stream",
     "text": [
      "  0%|          | 0/20 [00:00<?, ?it/s]/home/nate/anaconda3/envs/flags3/lib/python3.12/site-packages/torchvision/models/_utils.py:208: UserWarning: The parameter 'pretrained' is deprecated since 0.13 and may be removed in the future, please use 'weights' instead.\n",
      "  warnings.warn(\n",
      "/home/nate/anaconda3/envs/flags3/lib/python3.12/site-packages/torchvision/models/_utils.py:223: UserWarning: Arguments other than a weight enum or `None` for 'weights' are deprecated since 0.13 and may be removed in the future. The current behavior is equivalent to passing `weights=AlexNet_Weights.IMAGENET1K_V1`. You can also use `weights=AlexNet_Weights.DEFAULT` to get the most up-to-date weights.\n",
      "  warnings.warn(msg)\n",
      "  5%|▌         | 1/20 [02:45<52:22, 165.41s/it]"
     ]
    },
    {
     "name": "stdout",
     "output_type": "stream",
     "text": [
      "          Method N Shots  Accuracy\n",
      "0      ProtoNets       3    0.8906\n",
      "0   SubspaceNets       3    0.9118\n",
      "0       FlagNets       3    0.9112\n",
      "0      ProtoNets       3    0.8754\n",
      "0   SubspaceNets       3    0.9002\n",
      "..           ...     ...       ...\n",
      "0   SubspaceNets       3    0.8922\n",
      "0       FlagNets       3    0.8938\n",
      "0      ProtoNets       5    0.9152\n",
      "0   SubspaceNets       5    0.9296\n",
      "0       FlagNets       5    0.9288\n",
      "\n",
      "[63 rows x 3 columns]\n"
     ]
    },
    {
     "name": "stderr",
     "output_type": "stream",
     "text": [
      "/home/nate/anaconda3/envs/flags3/lib/python3.12/site-packages/torchvision/models/_utils.py:208: UserWarning: The parameter 'pretrained' is deprecated since 0.13 and may be removed in the future, please use 'weights' instead.\n",
      "  warnings.warn(\n",
      "/home/nate/anaconda3/envs/flags3/lib/python3.12/site-packages/torchvision/models/_utils.py:223: UserWarning: Arguments other than a weight enum or `None` for 'weights' are deprecated since 0.13 and may be removed in the future. The current behavior is equivalent to passing `weights=AlexNet_Weights.IMAGENET1K_V1`. You can also use `weights=AlexNet_Weights.DEFAULT` to get the most up-to-date weights.\n",
      "  warnings.warn(msg)\n",
      " 10%|█         | 2/20 [05:33<50:00, 166.71s/it]"
     ]
    },
    {
     "name": "stdout",
     "output_type": "stream",
     "text": [
      "          Method N Shots  Accuracy\n",
      "0      ProtoNets       3    0.8906\n",
      "0   SubspaceNets       3    0.9118\n",
      "0       FlagNets       3    0.9112\n",
      "0      ProtoNets       3    0.8754\n",
      "0   SubspaceNets       3    0.9002\n",
      "..           ...     ...       ...\n",
      "0   SubspaceNets       5    0.9296\n",
      "0       FlagNets       5    0.9288\n",
      "0      ProtoNets       5    0.9148\n",
      "0   SubspaceNets       5    0.9292\n",
      "0       FlagNets       5    0.9294\n",
      "\n",
      "[66 rows x 3 columns]\n"
     ]
    },
    {
     "name": "stderr",
     "output_type": "stream",
     "text": [
      "/home/nate/anaconda3/envs/flags3/lib/python3.12/site-packages/torchvision/models/_utils.py:208: UserWarning: The parameter 'pretrained' is deprecated since 0.13 and may be removed in the future, please use 'weights' instead.\n",
      "  warnings.warn(\n",
      "/home/nate/anaconda3/envs/flags3/lib/python3.12/site-packages/torchvision/models/_utils.py:223: UserWarning: Arguments other than a weight enum or `None` for 'weights' are deprecated since 0.13 and may be removed in the future. The current behavior is equivalent to passing `weights=AlexNet_Weights.IMAGENET1K_V1`. You can also use `weights=AlexNet_Weights.DEFAULT` to get the most up-to-date weights.\n",
      "  warnings.warn(msg)\n",
      " 15%|█▌        | 3/20 [08:17<46:57, 165.71s/it]"
     ]
    },
    {
     "name": "stdout",
     "output_type": "stream",
     "text": [
      "          Method N Shots  Accuracy\n",
      "0      ProtoNets       3    0.8906\n",
      "0   SubspaceNets       3    0.9118\n",
      "0       FlagNets       3    0.9112\n",
      "0      ProtoNets       3    0.8754\n",
      "0   SubspaceNets       3    0.9002\n",
      "..           ...     ...       ...\n",
      "0   SubspaceNets       5    0.9292\n",
      "0       FlagNets       5    0.9294\n",
      "0      ProtoNets       5    0.9158\n",
      "0   SubspaceNets       5    0.9322\n",
      "0       FlagNets       5    0.9322\n",
      "\n",
      "[69 rows x 3 columns]\n"
     ]
    },
    {
     "name": "stderr",
     "output_type": "stream",
     "text": [
      "/home/nate/anaconda3/envs/flags3/lib/python3.12/site-packages/torchvision/models/_utils.py:208: UserWarning: The parameter 'pretrained' is deprecated since 0.13 and may be removed in the future, please use 'weights' instead.\n",
      "  warnings.warn(\n",
      "/home/nate/anaconda3/envs/flags3/lib/python3.12/site-packages/torchvision/models/_utils.py:223: UserWarning: Arguments other than a weight enum or `None` for 'weights' are deprecated since 0.13 and may be removed in the future. The current behavior is equivalent to passing `weights=AlexNet_Weights.IMAGENET1K_V1`. You can also use `weights=AlexNet_Weights.DEFAULT` to get the most up-to-date weights.\n",
      "  warnings.warn(msg)\n",
      " 20%|██        | 4/20 [11:07<44:40, 167.55s/it]"
     ]
    },
    {
     "name": "stdout",
     "output_type": "stream",
     "text": [
      "          Method N Shots  Accuracy\n",
      "0      ProtoNets       3    0.8906\n",
      "0   SubspaceNets       3    0.9118\n",
      "0       FlagNets       3    0.9112\n",
      "0      ProtoNets       3    0.8754\n",
      "0   SubspaceNets       3    0.9002\n",
      "..           ...     ...       ...\n",
      "0   SubspaceNets       5    0.9322\n",
      "0       FlagNets       5    0.9322\n",
      "0      ProtoNets       5    0.9254\n",
      "0   SubspaceNets       5    0.9410\n",
      "0       FlagNets       5    0.9412\n",
      "\n",
      "[72 rows x 3 columns]\n"
     ]
    },
    {
     "name": "stderr",
     "output_type": "stream",
     "text": [
      "/home/nate/anaconda3/envs/flags3/lib/python3.12/site-packages/torchvision/models/_utils.py:208: UserWarning: The parameter 'pretrained' is deprecated since 0.13 and may be removed in the future, please use 'weights' instead.\n",
      "  warnings.warn(\n",
      "/home/nate/anaconda3/envs/flags3/lib/python3.12/site-packages/torchvision/models/_utils.py:223: UserWarning: Arguments other than a weight enum or `None` for 'weights' are deprecated since 0.13 and may be removed in the future. The current behavior is equivalent to passing `weights=AlexNet_Weights.IMAGENET1K_V1`. You can also use `weights=AlexNet_Weights.DEFAULT` to get the most up-to-date weights.\n",
      "  warnings.warn(msg)\n",
      " 25%|██▌       | 5/20 [13:52<41:39, 166.64s/it]"
     ]
    },
    {
     "name": "stdout",
     "output_type": "stream",
     "text": [
      "          Method N Shots  Accuracy\n",
      "0      ProtoNets       3    0.8906\n",
      "0   SubspaceNets       3    0.9118\n",
      "0       FlagNets       3    0.9112\n",
      "0      ProtoNets       3    0.8754\n",
      "0   SubspaceNets       3    0.9002\n",
      "..           ...     ...       ...\n",
      "0   SubspaceNets       5    0.9410\n",
      "0       FlagNets       5    0.9412\n",
      "0      ProtoNets       5    0.9046\n",
      "0   SubspaceNets       5    0.9254\n",
      "0       FlagNets       5    0.9254\n",
      "\n",
      "[75 rows x 3 columns]\n"
     ]
    },
    {
     "name": "stderr",
     "output_type": "stream",
     "text": [
      "/home/nate/anaconda3/envs/flags3/lib/python3.12/site-packages/torchvision/models/_utils.py:208: UserWarning: The parameter 'pretrained' is deprecated since 0.13 and may be removed in the future, please use 'weights' instead.\n",
      "  warnings.warn(\n",
      "/home/nate/anaconda3/envs/flags3/lib/python3.12/site-packages/torchvision/models/_utils.py:223: UserWarning: Arguments other than a weight enum or `None` for 'weights' are deprecated since 0.13 and may be removed in the future. The current behavior is equivalent to passing `weights=AlexNet_Weights.IMAGENET1K_V1`. You can also use `weights=AlexNet_Weights.DEFAULT` to get the most up-to-date weights.\n",
      "  warnings.warn(msg)\n",
      " 30%|███       | 6/20 [16:39<38:50, 166.45s/it]"
     ]
    },
    {
     "name": "stdout",
     "output_type": "stream",
     "text": [
      "          Method N Shots  Accuracy\n",
      "0      ProtoNets       3    0.8906\n",
      "0   SubspaceNets       3    0.9118\n",
      "0       FlagNets       3    0.9112\n",
      "0      ProtoNets       3    0.8754\n",
      "0   SubspaceNets       3    0.9002\n",
      "..           ...     ...       ...\n",
      "0   SubspaceNets       5    0.9254\n",
      "0       FlagNets       5    0.9254\n",
      "0      ProtoNets       5    0.9214\n",
      "0   SubspaceNets       5    0.9368\n",
      "0       FlagNets       5    0.9378\n",
      "\n",
      "[78 rows x 3 columns]\n"
     ]
    },
    {
     "name": "stderr",
     "output_type": "stream",
     "text": [
      "/home/nate/anaconda3/envs/flags3/lib/python3.12/site-packages/torchvision/models/_utils.py:208: UserWarning: The parameter 'pretrained' is deprecated since 0.13 and may be removed in the future, please use 'weights' instead.\n",
      "  warnings.warn(\n",
      "/home/nate/anaconda3/envs/flags3/lib/python3.12/site-packages/torchvision/models/_utils.py:223: UserWarning: Arguments other than a weight enum or `None` for 'weights' are deprecated since 0.13 and may be removed in the future. The current behavior is equivalent to passing `weights=AlexNet_Weights.IMAGENET1K_V1`. You can also use `weights=AlexNet_Weights.DEFAULT` to get the most up-to-date weights.\n",
      "  warnings.warn(msg)\n",
      " 35%|███▌      | 7/20 [19:27<36:11, 167.02s/it]"
     ]
    },
    {
     "name": "stdout",
     "output_type": "stream",
     "text": [
      "          Method N Shots  Accuracy\n",
      "0      ProtoNets       3    0.8906\n",
      "0   SubspaceNets       3    0.9118\n",
      "0       FlagNets       3    0.9112\n",
      "0      ProtoNets       3    0.8754\n",
      "0   SubspaceNets       3    0.9002\n",
      "..           ...     ...       ...\n",
      "0   SubspaceNets       5    0.9368\n",
      "0       FlagNets       5    0.9378\n",
      "0      ProtoNets       5    0.9140\n",
      "0   SubspaceNets       5    0.9336\n",
      "0       FlagNets       5    0.9336\n",
      "\n",
      "[81 rows x 3 columns]\n"
     ]
    },
    {
     "name": "stderr",
     "output_type": "stream",
     "text": [
      "/home/nate/anaconda3/envs/flags3/lib/python3.12/site-packages/torchvision/models/_utils.py:208: UserWarning: The parameter 'pretrained' is deprecated since 0.13 and may be removed in the future, please use 'weights' instead.\n",
      "  warnings.warn(\n",
      "/home/nate/anaconda3/envs/flags3/lib/python3.12/site-packages/torchvision/models/_utils.py:223: UserWarning: Arguments other than a weight enum or `None` for 'weights' are deprecated since 0.13 and may be removed in the future. The current behavior is equivalent to passing `weights=AlexNet_Weights.IMAGENET1K_V1`. You can also use `weights=AlexNet_Weights.DEFAULT` to get the most up-to-date weights.\n",
      "  warnings.warn(msg)\n",
      " 40%|████      | 8/20 [22:15<33:28, 167.41s/it]"
     ]
    },
    {
     "name": "stdout",
     "output_type": "stream",
     "text": [
      "          Method N Shots  Accuracy\n",
      "0      ProtoNets       3    0.8906\n",
      "0   SubspaceNets       3    0.9118\n",
      "0       FlagNets       3    0.9112\n",
      "0      ProtoNets       3    0.8754\n",
      "0   SubspaceNets       3    0.9002\n",
      "..           ...     ...       ...\n",
      "0   SubspaceNets       5    0.9336\n",
      "0       FlagNets       5    0.9336\n",
      "0      ProtoNets       5    0.9174\n",
      "0   SubspaceNets       5    0.9368\n",
      "0       FlagNets       5    0.9366\n",
      "\n",
      "[84 rows x 3 columns]\n"
     ]
    },
    {
     "name": "stderr",
     "output_type": "stream",
     "text": [
      "/home/nate/anaconda3/envs/flags3/lib/python3.12/site-packages/torchvision/models/_utils.py:208: UserWarning: The parameter 'pretrained' is deprecated since 0.13 and may be removed in the future, please use 'weights' instead.\n",
      "  warnings.warn(\n",
      "/home/nate/anaconda3/envs/flags3/lib/python3.12/site-packages/torchvision/models/_utils.py:223: UserWarning: Arguments other than a weight enum or `None` for 'weights' are deprecated since 0.13 and may be removed in the future. The current behavior is equivalent to passing `weights=AlexNet_Weights.IMAGENET1K_V1`. You can also use `weights=AlexNet_Weights.DEFAULT` to get the most up-to-date weights.\n",
      "  warnings.warn(msg)\n",
      " 45%|████▌     | 9/20 [25:02<30:39, 167.20s/it]"
     ]
    },
    {
     "name": "stdout",
     "output_type": "stream",
     "text": [
      "          Method N Shots  Accuracy\n",
      "0      ProtoNets       3    0.8906\n",
      "0   SubspaceNets       3    0.9118\n",
      "0       FlagNets       3    0.9112\n",
      "0      ProtoNets       3    0.8754\n",
      "0   SubspaceNets       3    0.9002\n",
      "..           ...     ...       ...\n",
      "0   SubspaceNets       5    0.9368\n",
      "0       FlagNets       5    0.9366\n",
      "0      ProtoNets       5    0.9172\n",
      "0   SubspaceNets       5    0.9344\n",
      "0       FlagNets       5    0.9352\n",
      "\n",
      "[87 rows x 3 columns]\n"
     ]
    },
    {
     "name": "stderr",
     "output_type": "stream",
     "text": [
      "/home/nate/anaconda3/envs/flags3/lib/python3.12/site-packages/torchvision/models/_utils.py:208: UserWarning: The parameter 'pretrained' is deprecated since 0.13 and may be removed in the future, please use 'weights' instead.\n",
      "  warnings.warn(\n",
      "/home/nate/anaconda3/envs/flags3/lib/python3.12/site-packages/torchvision/models/_utils.py:223: UserWarning: Arguments other than a weight enum or `None` for 'weights' are deprecated since 0.13 and may be removed in the future. The current behavior is equivalent to passing `weights=AlexNet_Weights.IMAGENET1K_V1`. You can also use `weights=AlexNet_Weights.DEFAULT` to get the most up-to-date weights.\n",
      "  warnings.warn(msg)\n",
      " 50%|█████     | 10/20 [27:46<27:42, 166.21s/it]"
     ]
    },
    {
     "name": "stdout",
     "output_type": "stream",
     "text": [
      "          Method N Shots  Accuracy\n",
      "0      ProtoNets       3    0.8906\n",
      "0   SubspaceNets       3    0.9118\n",
      "0       FlagNets       3    0.9112\n",
      "0      ProtoNets       3    0.8754\n",
      "0   SubspaceNets       3    0.9002\n",
      "..           ...     ...       ...\n",
      "0   SubspaceNets       5    0.9344\n",
      "0       FlagNets       5    0.9352\n",
      "0      ProtoNets       5    0.9148\n",
      "0   SubspaceNets       5    0.9318\n",
      "0       FlagNets       5    0.9328\n",
      "\n",
      "[90 rows x 3 columns]\n"
     ]
    },
    {
     "name": "stderr",
     "output_type": "stream",
     "text": [
      "/home/nate/anaconda3/envs/flags3/lib/python3.12/site-packages/torchvision/models/_utils.py:208: UserWarning: The parameter 'pretrained' is deprecated since 0.13 and may be removed in the future, please use 'weights' instead.\n",
      "  warnings.warn(\n",
      "/home/nate/anaconda3/envs/flags3/lib/python3.12/site-packages/torchvision/models/_utils.py:223: UserWarning: Arguments other than a weight enum or `None` for 'weights' are deprecated since 0.13 and may be removed in the future. The current behavior is equivalent to passing `weights=AlexNet_Weights.IMAGENET1K_V1`. You can also use `weights=AlexNet_Weights.DEFAULT` to get the most up-to-date weights.\n",
      "  warnings.warn(msg)\n",
      " 55%|█████▌    | 11/20 [30:31<24:52, 165.80s/it]"
     ]
    },
    {
     "name": "stdout",
     "output_type": "stream",
     "text": [
      "          Method N Shots  Accuracy\n",
      "0      ProtoNets       3    0.8906\n",
      "0   SubspaceNets       3    0.9118\n",
      "0       FlagNets       3    0.9112\n",
      "0      ProtoNets       3    0.8754\n",
      "0   SubspaceNets       3    0.9002\n",
      "..           ...     ...       ...\n",
      "0   SubspaceNets       5    0.9318\n",
      "0       FlagNets       5    0.9328\n",
      "0      ProtoNets       5    0.9124\n",
      "0   SubspaceNets       5    0.9334\n",
      "0       FlagNets       5    0.9332\n",
      "\n",
      "[93 rows x 3 columns]\n"
     ]
    },
    {
     "name": "stderr",
     "output_type": "stream",
     "text": [
      "/home/nate/anaconda3/envs/flags3/lib/python3.12/site-packages/torchvision/models/_utils.py:208: UserWarning: The parameter 'pretrained' is deprecated since 0.13 and may be removed in the future, please use 'weights' instead.\n",
      "  warnings.warn(\n",
      "/home/nate/anaconda3/envs/flags3/lib/python3.12/site-packages/torchvision/models/_utils.py:223: UserWarning: Arguments other than a weight enum or `None` for 'weights' are deprecated since 0.13 and may be removed in the future. The current behavior is equivalent to passing `weights=AlexNet_Weights.IMAGENET1K_V1`. You can also use `weights=AlexNet_Weights.DEFAULT` to get the most up-to-date weights.\n",
      "  warnings.warn(msg)\n",
      " 60%|██████    | 12/20 [33:15<22:03, 165.41s/it]"
     ]
    },
    {
     "name": "stdout",
     "output_type": "stream",
     "text": [
      "          Method N Shots  Accuracy\n",
      "0      ProtoNets       3    0.8906\n",
      "0   SubspaceNets       3    0.9118\n",
      "0       FlagNets       3    0.9112\n",
      "0      ProtoNets       3    0.8754\n",
      "0   SubspaceNets       3    0.9002\n",
      "..           ...     ...       ...\n",
      "0   SubspaceNets       5    0.9334\n",
      "0       FlagNets       5    0.9332\n",
      "0      ProtoNets       5    0.9212\n",
      "0   SubspaceNets       5    0.9424\n",
      "0       FlagNets       5    0.9424\n",
      "\n",
      "[96 rows x 3 columns]\n"
     ]
    },
    {
     "name": "stderr",
     "output_type": "stream",
     "text": [
      "/home/nate/anaconda3/envs/flags3/lib/python3.12/site-packages/torchvision/models/_utils.py:208: UserWarning: The parameter 'pretrained' is deprecated since 0.13 and may be removed in the future, please use 'weights' instead.\n",
      "  warnings.warn(\n",
      "/home/nate/anaconda3/envs/flags3/lib/python3.12/site-packages/torchvision/models/_utils.py:223: UserWarning: Arguments other than a weight enum or `None` for 'weights' are deprecated since 0.13 and may be removed in the future. The current behavior is equivalent to passing `weights=AlexNet_Weights.IMAGENET1K_V1`. You can also use `weights=AlexNet_Weights.DEFAULT` to get the most up-to-date weights.\n",
      "  warnings.warn(msg)\n",
      " 65%|██████▌   | 13/20 [36:01<19:19, 165.65s/it]"
     ]
    },
    {
     "name": "stdout",
     "output_type": "stream",
     "text": [
      "          Method N Shots  Accuracy\n",
      "0      ProtoNets       3    0.8906\n",
      "0   SubspaceNets       3    0.9118\n",
      "0       FlagNets       3    0.9112\n",
      "0      ProtoNets       3    0.8754\n",
      "0   SubspaceNets       3    0.9002\n",
      "..           ...     ...       ...\n",
      "0   SubspaceNets       5    0.9424\n",
      "0       FlagNets       5    0.9424\n",
      "0      ProtoNets       5    0.9056\n",
      "0   SubspaceNets       5    0.9258\n",
      "0       FlagNets       5    0.9254\n",
      "\n",
      "[99 rows x 3 columns]\n"
     ]
    },
    {
     "name": "stderr",
     "output_type": "stream",
     "text": [
      "/home/nate/anaconda3/envs/flags3/lib/python3.12/site-packages/torchvision/models/_utils.py:208: UserWarning: The parameter 'pretrained' is deprecated since 0.13 and may be removed in the future, please use 'weights' instead.\n",
      "  warnings.warn(\n",
      "/home/nate/anaconda3/envs/flags3/lib/python3.12/site-packages/torchvision/models/_utils.py:223: UserWarning: Arguments other than a weight enum or `None` for 'weights' are deprecated since 0.13 and may be removed in the future. The current behavior is equivalent to passing `weights=AlexNet_Weights.IMAGENET1K_V1`. You can also use `weights=AlexNet_Weights.DEFAULT` to get the most up-to-date weights.\n",
      "  warnings.warn(msg)\n",
      " 70%|███████   | 14/20 [38:46<16:31, 165.29s/it]"
     ]
    },
    {
     "name": "stdout",
     "output_type": "stream",
     "text": [
      "          Method N Shots  Accuracy\n",
      "0      ProtoNets       3    0.8906\n",
      "0   SubspaceNets       3    0.9118\n",
      "0       FlagNets       3    0.9112\n",
      "0      ProtoNets       3    0.8754\n",
      "0   SubspaceNets       3    0.9002\n",
      "..           ...     ...       ...\n",
      "0   SubspaceNets       5    0.9258\n",
      "0       FlagNets       5    0.9254\n",
      "0      ProtoNets       5    0.9074\n",
      "0   SubspaceNets       5    0.9316\n",
      "0       FlagNets       5    0.9324\n",
      "\n",
      "[102 rows x 3 columns]\n"
     ]
    },
    {
     "name": "stderr",
     "output_type": "stream",
     "text": [
      "/home/nate/anaconda3/envs/flags3/lib/python3.12/site-packages/torchvision/models/_utils.py:208: UserWarning: The parameter 'pretrained' is deprecated since 0.13 and may be removed in the future, please use 'weights' instead.\n",
      "  warnings.warn(\n",
      "/home/nate/anaconda3/envs/flags3/lib/python3.12/site-packages/torchvision/models/_utils.py:223: UserWarning: Arguments other than a weight enum or `None` for 'weights' are deprecated since 0.13 and may be removed in the future. The current behavior is equivalent to passing `weights=AlexNet_Weights.IMAGENET1K_V1`. You can also use `weights=AlexNet_Weights.DEFAULT` to get the most up-to-date weights.\n",
      "  warnings.warn(msg)\n",
      " 75%|███████▌  | 15/20 [41:31<13:46, 165.35s/it]"
     ]
    },
    {
     "name": "stdout",
     "output_type": "stream",
     "text": [
      "          Method N Shots  Accuracy\n",
      "0      ProtoNets       3    0.8906\n",
      "0   SubspaceNets       3    0.9118\n",
      "0       FlagNets       3    0.9112\n",
      "0      ProtoNets       3    0.8754\n",
      "0   SubspaceNets       3    0.9002\n",
      "..           ...     ...       ...\n",
      "0   SubspaceNets       5    0.9316\n",
      "0       FlagNets       5    0.9324\n",
      "0      ProtoNets       5    0.9118\n",
      "0   SubspaceNets       5    0.9292\n",
      "0       FlagNets       5    0.9292\n",
      "\n",
      "[105 rows x 3 columns]\n"
     ]
    },
    {
     "name": "stderr",
     "output_type": "stream",
     "text": [
      "/home/nate/anaconda3/envs/flags3/lib/python3.12/site-packages/torchvision/models/_utils.py:208: UserWarning: The parameter 'pretrained' is deprecated since 0.13 and may be removed in the future, please use 'weights' instead.\n",
      "  warnings.warn(\n",
      "/home/nate/anaconda3/envs/flags3/lib/python3.12/site-packages/torchvision/models/_utils.py:223: UserWarning: Arguments other than a weight enum or `None` for 'weights' are deprecated since 0.13 and may be removed in the future. The current behavior is equivalent to passing `weights=AlexNet_Weights.IMAGENET1K_V1`. You can also use `weights=AlexNet_Weights.DEFAULT` to get the most up-to-date weights.\n",
      "  warnings.warn(msg)\n",
      " 80%|████████  | 16/20 [44:20<11:05, 166.30s/it]"
     ]
    },
    {
     "name": "stdout",
     "output_type": "stream",
     "text": [
      "          Method N Shots  Accuracy\n",
      "0      ProtoNets       3    0.8906\n",
      "0   SubspaceNets       3    0.9118\n",
      "0       FlagNets       3    0.9112\n",
      "0      ProtoNets       3    0.8754\n",
      "0   SubspaceNets       3    0.9002\n",
      "..           ...     ...       ...\n",
      "0   SubspaceNets       5    0.9292\n",
      "0       FlagNets       5    0.9292\n",
      "0      ProtoNets       5    0.9074\n",
      "0   SubspaceNets       5    0.9296\n",
      "0       FlagNets       5    0.9286\n",
      "\n",
      "[108 rows x 3 columns]\n"
     ]
    },
    {
     "name": "stderr",
     "output_type": "stream",
     "text": [
      "/home/nate/anaconda3/envs/flags3/lib/python3.12/site-packages/torchvision/models/_utils.py:208: UserWarning: The parameter 'pretrained' is deprecated since 0.13 and may be removed in the future, please use 'weights' instead.\n",
      "  warnings.warn(\n",
      "/home/nate/anaconda3/envs/flags3/lib/python3.12/site-packages/torchvision/models/_utils.py:223: UserWarning: Arguments other than a weight enum or `None` for 'weights' are deprecated since 0.13 and may be removed in the future. The current behavior is equivalent to passing `weights=AlexNet_Weights.IMAGENET1K_V1`. You can also use `weights=AlexNet_Weights.DEFAULT` to get the most up-to-date weights.\n",
      "  warnings.warn(msg)\n",
      " 85%|████████▌ | 17/20 [47:06<08:18, 166.19s/it]"
     ]
    },
    {
     "name": "stdout",
     "output_type": "stream",
     "text": [
      "          Method N Shots  Accuracy\n",
      "0      ProtoNets       3    0.8906\n",
      "0   SubspaceNets       3    0.9118\n",
      "0       FlagNets       3    0.9112\n",
      "0      ProtoNets       3    0.8754\n",
      "0   SubspaceNets       3    0.9002\n",
      "..           ...     ...       ...\n",
      "0   SubspaceNets       5    0.9296\n",
      "0       FlagNets       5    0.9286\n",
      "0      ProtoNets       5    0.9062\n",
      "0   SubspaceNets       5    0.9276\n",
      "0       FlagNets       5    0.9282\n",
      "\n",
      "[111 rows x 3 columns]\n"
     ]
    },
    {
     "name": "stderr",
     "output_type": "stream",
     "text": [
      "/home/nate/anaconda3/envs/flags3/lib/python3.12/site-packages/torchvision/models/_utils.py:208: UserWarning: The parameter 'pretrained' is deprecated since 0.13 and may be removed in the future, please use 'weights' instead.\n",
      "  warnings.warn(\n",
      "/home/nate/anaconda3/envs/flags3/lib/python3.12/site-packages/torchvision/models/_utils.py:223: UserWarning: Arguments other than a weight enum or `None` for 'weights' are deprecated since 0.13 and may be removed in the future. The current behavior is equivalent to passing `weights=AlexNet_Weights.IMAGENET1K_V1`. You can also use `weights=AlexNet_Weights.DEFAULT` to get the most up-to-date weights.\n",
      "  warnings.warn(msg)\n",
      " 90%|█████████ | 18/20 [49:48<05:30, 165.02s/it]"
     ]
    },
    {
     "name": "stdout",
     "output_type": "stream",
     "text": [
      "          Method N Shots  Accuracy\n",
      "0      ProtoNets       3    0.8906\n",
      "0   SubspaceNets       3    0.9118\n",
      "0       FlagNets       3    0.9112\n",
      "0      ProtoNets       3    0.8754\n",
      "0   SubspaceNets       3    0.9002\n",
      "..           ...     ...       ...\n",
      "0   SubspaceNets       5    0.9276\n",
      "0       FlagNets       5    0.9282\n",
      "0      ProtoNets       5    0.9192\n",
      "0   SubspaceNets       5    0.9390\n",
      "0       FlagNets       5    0.9386\n",
      "\n",
      "[114 rows x 3 columns]\n"
     ]
    },
    {
     "name": "stderr",
     "output_type": "stream",
     "text": [
      "/home/nate/anaconda3/envs/flags3/lib/python3.12/site-packages/torchvision/models/_utils.py:208: UserWarning: The parameter 'pretrained' is deprecated since 0.13 and may be removed in the future, please use 'weights' instead.\n",
      "  warnings.warn(\n",
      "/home/nate/anaconda3/envs/flags3/lib/python3.12/site-packages/torchvision/models/_utils.py:223: UserWarning: Arguments other than a weight enum or `None` for 'weights' are deprecated since 0.13 and may be removed in the future. The current behavior is equivalent to passing `weights=AlexNet_Weights.IMAGENET1K_V1`. You can also use `weights=AlexNet_Weights.DEFAULT` to get the most up-to-date weights.\n",
      "  warnings.warn(msg)\n",
      " 95%|█████████▌| 19/20 [52:30<02:44, 164.21s/it]"
     ]
    },
    {
     "name": "stdout",
     "output_type": "stream",
     "text": [
      "          Method N Shots  Accuracy\n",
      "0      ProtoNets       3    0.8906\n",
      "0   SubspaceNets       3    0.9118\n",
      "0       FlagNets       3    0.9112\n",
      "0      ProtoNets       3    0.8754\n",
      "0   SubspaceNets       3    0.9002\n",
      "..           ...     ...       ...\n",
      "0   SubspaceNets       5    0.9390\n",
      "0       FlagNets       5    0.9386\n",
      "0      ProtoNets       5    0.9160\n",
      "0   SubspaceNets       5    0.9320\n",
      "0       FlagNets       5    0.9316\n",
      "\n",
      "[117 rows x 3 columns]\n"
     ]
    },
    {
     "name": "stderr",
     "output_type": "stream",
     "text": [
      "/home/nate/anaconda3/envs/flags3/lib/python3.12/site-packages/torchvision/models/_utils.py:208: UserWarning: The parameter 'pretrained' is deprecated since 0.13 and may be removed in the future, please use 'weights' instead.\n",
      "  warnings.warn(\n",
      "/home/nate/anaconda3/envs/flags3/lib/python3.12/site-packages/torchvision/models/_utils.py:223: UserWarning: Arguments other than a weight enum or `None` for 'weights' are deprecated since 0.13 and may be removed in the future. The current behavior is equivalent to passing `weights=AlexNet_Weights.IMAGENET1K_V1`. You can also use `weights=AlexNet_Weights.DEFAULT` to get the most up-to-date weights.\n",
      "  warnings.warn(msg)\n",
      "100%|██████████| 20/20 [55:14<00:00, 165.73s/it]\n"
     ]
    },
    {
     "name": "stdout",
     "output_type": "stream",
     "text": [
      "          Method N Shots  Accuracy\n",
      "0      ProtoNets       3    0.8906\n",
      "0   SubspaceNets       3    0.9118\n",
      "0       FlagNets       3    0.9112\n",
      "0      ProtoNets       3    0.8754\n",
      "0   SubspaceNets       3    0.9002\n",
      "..           ...     ...       ...\n",
      "0   SubspaceNets       5    0.9320\n",
      "0       FlagNets       5    0.9316\n",
      "0      ProtoNets       5    0.9140\n",
      "0   SubspaceNets       5    0.9262\n",
      "0       FlagNets       5    0.9266\n",
      "\n",
      "[120 rows x 3 columns]\n",
      "Starting 7\n"
     ]
    },
    {
     "name": "stderr",
     "output_type": "stream",
     "text": [
      "  0%|          | 0/20 [00:00<?, ?it/s]/home/nate/anaconda3/envs/flags3/lib/python3.12/site-packages/torchvision/models/_utils.py:208: UserWarning: The parameter 'pretrained' is deprecated since 0.13 and may be removed in the future, please use 'weights' instead.\n",
      "  warnings.warn(\n",
      "/home/nate/anaconda3/envs/flags3/lib/python3.12/site-packages/torchvision/models/_utils.py:223: UserWarning: Arguments other than a weight enum or `None` for 'weights' are deprecated since 0.13 and may be removed in the future. The current behavior is equivalent to passing `weights=AlexNet_Weights.IMAGENET1K_V1`. You can also use `weights=AlexNet_Weights.DEFAULT` to get the most up-to-date weights.\n",
      "  warnings.warn(msg)\n",
      "  5%|▌         | 1/20 [03:08<59:41, 188.49s/it]"
     ]
    },
    {
     "name": "stdout",
     "output_type": "stream",
     "text": [
      "          Method N Shots  Accuracy\n",
      "0      ProtoNets       3    0.8906\n",
      "0   SubspaceNets       3    0.9118\n",
      "0       FlagNets       3    0.9112\n",
      "0      ProtoNets       3    0.8754\n",
      "0   SubspaceNets       3    0.9002\n",
      "..           ...     ...       ...\n",
      "0   SubspaceNets       5    0.9262\n",
      "0       FlagNets       5    0.9266\n",
      "0      ProtoNets       7    0.9222\n",
      "0   SubspaceNets       7    0.9388\n",
      "0       FlagNets       7    0.9394\n",
      "\n",
      "[123 rows x 3 columns]\n"
     ]
    },
    {
     "name": "stderr",
     "output_type": "stream",
     "text": [
      "/home/nate/anaconda3/envs/flags3/lib/python3.12/site-packages/torchvision/models/_utils.py:208: UserWarning: The parameter 'pretrained' is deprecated since 0.13 and may be removed in the future, please use 'weights' instead.\n",
      "  warnings.warn(\n",
      "/home/nate/anaconda3/envs/flags3/lib/python3.12/site-packages/torchvision/models/_utils.py:223: UserWarning: Arguments other than a weight enum or `None` for 'weights' are deprecated since 0.13 and may be removed in the future. The current behavior is equivalent to passing `weights=AlexNet_Weights.IMAGENET1K_V1`. You can also use `weights=AlexNet_Weights.DEFAULT` to get the most up-to-date weights.\n",
      "  warnings.warn(msg)\n",
      " 10%|█         | 2/20 [06:16<56:26, 188.13s/it]"
     ]
    },
    {
     "name": "stdout",
     "output_type": "stream",
     "text": [
      "          Method N Shots  Accuracy\n",
      "0      ProtoNets       3    0.8906\n",
      "0   SubspaceNets       3    0.9118\n",
      "0       FlagNets       3    0.9112\n",
      "0      ProtoNets       3    0.8754\n",
      "0   SubspaceNets       3    0.9002\n",
      "..           ...     ...       ...\n",
      "0   SubspaceNets       7    0.9388\n",
      "0       FlagNets       7    0.9394\n",
      "0      ProtoNets       7    0.9210\n",
      "0   SubspaceNets       7    0.9404\n",
      "0       FlagNets       7    0.9410\n",
      "\n",
      "[126 rows x 3 columns]\n"
     ]
    },
    {
     "name": "stderr",
     "output_type": "stream",
     "text": [
      "/home/nate/anaconda3/envs/flags3/lib/python3.12/site-packages/torchvision/models/_utils.py:208: UserWarning: The parameter 'pretrained' is deprecated since 0.13 and may be removed in the future, please use 'weights' instead.\n",
      "  warnings.warn(\n",
      "/home/nate/anaconda3/envs/flags3/lib/python3.12/site-packages/torchvision/models/_utils.py:223: UserWarning: Arguments other than a weight enum or `None` for 'weights' are deprecated since 0.13 and may be removed in the future. The current behavior is equivalent to passing `weights=AlexNet_Weights.IMAGENET1K_V1`. You can also use `weights=AlexNet_Weights.DEFAULT` to get the most up-to-date weights.\n",
      "  warnings.warn(msg)\n",
      " 15%|█▌        | 3/20 [09:22<53:00, 187.11s/it]"
     ]
    },
    {
     "name": "stdout",
     "output_type": "stream",
     "text": [
      "          Method N Shots  Accuracy\n",
      "0      ProtoNets       3    0.8906\n",
      "0   SubspaceNets       3    0.9118\n",
      "0       FlagNets       3    0.9112\n",
      "0      ProtoNets       3    0.8754\n",
      "0   SubspaceNets       3    0.9002\n",
      "..           ...     ...       ...\n",
      "0   SubspaceNets       7    0.9404\n",
      "0       FlagNets       7    0.9410\n",
      "0      ProtoNets       7    0.9294\n",
      "0   SubspaceNets       7    0.9472\n",
      "0       FlagNets       7    0.9476\n",
      "\n",
      "[129 rows x 3 columns]\n"
     ]
    },
    {
     "name": "stderr",
     "output_type": "stream",
     "text": [
      "/home/nate/anaconda3/envs/flags3/lib/python3.12/site-packages/torchvision/models/_utils.py:208: UserWarning: The parameter 'pretrained' is deprecated since 0.13 and may be removed in the future, please use 'weights' instead.\n",
      "  warnings.warn(\n",
      "/home/nate/anaconda3/envs/flags3/lib/python3.12/site-packages/torchvision/models/_utils.py:223: UserWarning: Arguments other than a weight enum or `None` for 'weights' are deprecated since 0.13 and may be removed in the future. The current behavior is equivalent to passing `weights=AlexNet_Weights.IMAGENET1K_V1`. You can also use `weights=AlexNet_Weights.DEFAULT` to get the most up-to-date weights.\n",
      "  warnings.warn(msg)\n",
      " 20%|██        | 4/20 [12:31<50:05, 187.82s/it]"
     ]
    },
    {
     "name": "stdout",
     "output_type": "stream",
     "text": [
      "          Method N Shots  Accuracy\n",
      "0      ProtoNets       3    0.8906\n",
      "0   SubspaceNets       3    0.9118\n",
      "0       FlagNets       3    0.9112\n",
      "0      ProtoNets       3    0.8754\n",
      "0   SubspaceNets       3    0.9002\n",
      "..           ...     ...       ...\n",
      "0   SubspaceNets       7    0.9472\n",
      "0       FlagNets       7    0.9476\n",
      "0      ProtoNets       7    0.9322\n",
      "0   SubspaceNets       7    0.9494\n",
      "0       FlagNets       7    0.9488\n",
      "\n",
      "[132 rows x 3 columns]\n"
     ]
    },
    {
     "name": "stderr",
     "output_type": "stream",
     "text": [
      "/home/nate/anaconda3/envs/flags3/lib/python3.12/site-packages/torchvision/models/_utils.py:208: UserWarning: The parameter 'pretrained' is deprecated since 0.13 and may be removed in the future, please use 'weights' instead.\n",
      "  warnings.warn(\n",
      "/home/nate/anaconda3/envs/flags3/lib/python3.12/site-packages/torchvision/models/_utils.py:223: UserWarning: Arguments other than a weight enum or `None` for 'weights' are deprecated since 0.13 and may be removed in the future. The current behavior is equivalent to passing `weights=AlexNet_Weights.IMAGENET1K_V1`. You can also use `weights=AlexNet_Weights.DEFAULT` to get the most up-to-date weights.\n",
      "  warnings.warn(msg)\n",
      " 25%|██▌       | 5/20 [15:41<47:09, 188.62s/it]"
     ]
    },
    {
     "name": "stdout",
     "output_type": "stream",
     "text": [
      "          Method N Shots  Accuracy\n",
      "0      ProtoNets       3    0.8906\n",
      "0   SubspaceNets       3    0.9118\n",
      "0       FlagNets       3    0.9112\n",
      "0      ProtoNets       3    0.8754\n",
      "0   SubspaceNets       3    0.9002\n",
      "..           ...     ...       ...\n",
      "0   SubspaceNets       7    0.9494\n",
      "0       FlagNets       7    0.9488\n",
      "0      ProtoNets       7    0.9242\n",
      "0   SubspaceNets       7    0.9450\n",
      "0       FlagNets       7    0.9450\n",
      "\n",
      "[135 rows x 3 columns]\n"
     ]
    },
    {
     "name": "stderr",
     "output_type": "stream",
     "text": [
      "/home/nate/anaconda3/envs/flags3/lib/python3.12/site-packages/torchvision/models/_utils.py:208: UserWarning: The parameter 'pretrained' is deprecated since 0.13 and may be removed in the future, please use 'weights' instead.\n",
      "  warnings.warn(\n",
      "/home/nate/anaconda3/envs/flags3/lib/python3.12/site-packages/torchvision/models/_utils.py:223: UserWarning: Arguments other than a weight enum or `None` for 'weights' are deprecated since 0.13 and may be removed in the future. The current behavior is equivalent to passing `weights=AlexNet_Weights.IMAGENET1K_V1`. You can also use `weights=AlexNet_Weights.DEFAULT` to get the most up-to-date weights.\n",
      "  warnings.warn(msg)\n",
      " 30%|███       | 6/20 [18:51<44:07, 189.08s/it]"
     ]
    },
    {
     "name": "stdout",
     "output_type": "stream",
     "text": [
      "          Method N Shots  Accuracy\n",
      "0      ProtoNets       3    0.8906\n",
      "0   SubspaceNets       3    0.9118\n",
      "0       FlagNets       3    0.9112\n",
      "0      ProtoNets       3    0.8754\n",
      "0   SubspaceNets       3    0.9002\n",
      "..           ...     ...       ...\n",
      "0   SubspaceNets       7    0.9450\n",
      "0       FlagNets       7    0.9450\n",
      "0      ProtoNets       7    0.9202\n",
      "0   SubspaceNets       7    0.9364\n",
      "0       FlagNets       7    0.9366\n",
      "\n",
      "[138 rows x 3 columns]\n"
     ]
    },
    {
     "name": "stderr",
     "output_type": "stream",
     "text": [
      "/home/nate/anaconda3/envs/flags3/lib/python3.12/site-packages/torchvision/models/_utils.py:208: UserWarning: The parameter 'pretrained' is deprecated since 0.13 and may be removed in the future, please use 'weights' instead.\n",
      "  warnings.warn(\n",
      "/home/nate/anaconda3/envs/flags3/lib/python3.12/site-packages/torchvision/models/_utils.py:223: UserWarning: Arguments other than a weight enum or `None` for 'weights' are deprecated since 0.13 and may be removed in the future. The current behavior is equivalent to passing `weights=AlexNet_Weights.IMAGENET1K_V1`. You can also use `weights=AlexNet_Weights.DEFAULT` to get the most up-to-date weights.\n",
      "  warnings.warn(msg)\n",
      " 35%|███▌      | 7/20 [21:58<40:52, 188.67s/it]"
     ]
    },
    {
     "name": "stdout",
     "output_type": "stream",
     "text": [
      "          Method N Shots  Accuracy\n",
      "0      ProtoNets       3    0.8906\n",
      "0   SubspaceNets       3    0.9118\n",
      "0       FlagNets       3    0.9112\n",
      "0      ProtoNets       3    0.8754\n",
      "0   SubspaceNets       3    0.9002\n",
      "..           ...     ...       ...\n",
      "0   SubspaceNets       7    0.9364\n",
      "0       FlagNets       7    0.9366\n",
      "0      ProtoNets       7    0.9290\n",
      "0   SubspaceNets       7    0.9450\n",
      "0       FlagNets       7    0.9444\n",
      "\n",
      "[141 rows x 3 columns]\n"
     ]
    },
    {
     "name": "stderr",
     "output_type": "stream",
     "text": [
      "/home/nate/anaconda3/envs/flags3/lib/python3.12/site-packages/torchvision/models/_utils.py:208: UserWarning: The parameter 'pretrained' is deprecated since 0.13 and may be removed in the future, please use 'weights' instead.\n",
      "  warnings.warn(\n",
      "/home/nate/anaconda3/envs/flags3/lib/python3.12/site-packages/torchvision/models/_utils.py:223: UserWarning: Arguments other than a weight enum or `None` for 'weights' are deprecated since 0.13 and may be removed in the future. The current behavior is equivalent to passing `weights=AlexNet_Weights.IMAGENET1K_V1`. You can also use `weights=AlexNet_Weights.DEFAULT` to get the most up-to-date weights.\n",
      "  warnings.warn(msg)\n",
      " 40%|████      | 8/20 [25:06<37:37, 188.15s/it]"
     ]
    },
    {
     "name": "stdout",
     "output_type": "stream",
     "text": [
      "          Method N Shots  Accuracy\n",
      "0      ProtoNets       3    0.8906\n",
      "0   SubspaceNets       3    0.9118\n",
      "0       FlagNets       3    0.9112\n",
      "0      ProtoNets       3    0.8754\n",
      "0   SubspaceNets       3    0.9002\n",
      "..           ...     ...       ...\n",
      "0   SubspaceNets       7    0.9450\n",
      "0       FlagNets       7    0.9444\n",
      "0      ProtoNets       7    0.9216\n",
      "0   SubspaceNets       7    0.9428\n",
      "0       FlagNets       7    0.9424\n",
      "\n",
      "[144 rows x 3 columns]\n"
     ]
    },
    {
     "name": "stderr",
     "output_type": "stream",
     "text": [
      "/home/nate/anaconda3/envs/flags3/lib/python3.12/site-packages/torchvision/models/_utils.py:208: UserWarning: The parameter 'pretrained' is deprecated since 0.13 and may be removed in the future, please use 'weights' instead.\n",
      "  warnings.warn(\n",
      "/home/nate/anaconda3/envs/flags3/lib/python3.12/site-packages/torchvision/models/_utils.py:223: UserWarning: Arguments other than a weight enum or `None` for 'weights' are deprecated since 0.13 and may be removed in the future. The current behavior is equivalent to passing `weights=AlexNet_Weights.IMAGENET1K_V1`. You can also use `weights=AlexNet_Weights.DEFAULT` to get the most up-to-date weights.\n",
      "  warnings.warn(msg)\n",
      " 45%|████▌     | 9/20 [28:15<34:33, 188.51s/it]"
     ]
    },
    {
     "name": "stdout",
     "output_type": "stream",
     "text": [
      "          Method N Shots  Accuracy\n",
      "0      ProtoNets       3    0.8906\n",
      "0   SubspaceNets       3    0.9118\n",
      "0       FlagNets       3    0.9112\n",
      "0      ProtoNets       3    0.8754\n",
      "0   SubspaceNets       3    0.9002\n",
      "..           ...     ...       ...\n",
      "0   SubspaceNets       7    0.9428\n",
      "0       FlagNets       7    0.9424\n",
      "0      ProtoNets       7    0.9306\n",
      "0   SubspaceNets       7    0.9482\n",
      "0       FlagNets       7    0.9474\n",
      "\n",
      "[147 rows x 3 columns]\n"
     ]
    },
    {
     "name": "stderr",
     "output_type": "stream",
     "text": [
      "/home/nate/anaconda3/envs/flags3/lib/python3.12/site-packages/torchvision/models/_utils.py:208: UserWarning: The parameter 'pretrained' is deprecated since 0.13 and may be removed in the future, please use 'weights' instead.\n",
      "  warnings.warn(\n",
      "/home/nate/anaconda3/envs/flags3/lib/python3.12/site-packages/torchvision/models/_utils.py:223: UserWarning: Arguments other than a weight enum or `None` for 'weights' are deprecated since 0.13 and may be removed in the future. The current behavior is equivalent to passing `weights=AlexNet_Weights.IMAGENET1K_V1`. You can also use `weights=AlexNet_Weights.DEFAULT` to get the most up-to-date weights.\n",
      "  warnings.warn(msg)\n",
      " 50%|█████     | 10/20 [31:23<31:22, 188.28s/it]"
     ]
    },
    {
     "name": "stdout",
     "output_type": "stream",
     "text": [
      "          Method N Shots  Accuracy\n",
      "0      ProtoNets       3    0.8906\n",
      "0   SubspaceNets       3    0.9118\n",
      "0       FlagNets       3    0.9112\n",
      "0      ProtoNets       3    0.8754\n",
      "0   SubspaceNets       3    0.9002\n",
      "..           ...     ...       ...\n",
      "0   SubspaceNets       7    0.9482\n",
      "0       FlagNets       7    0.9474\n",
      "0      ProtoNets       7    0.9226\n",
      "0   SubspaceNets       7    0.9418\n",
      "0       FlagNets       7    0.9418\n",
      "\n",
      "[150 rows x 3 columns]\n"
     ]
    },
    {
     "name": "stderr",
     "output_type": "stream",
     "text": [
      "/home/nate/anaconda3/envs/flags3/lib/python3.12/site-packages/torchvision/models/_utils.py:208: UserWarning: The parameter 'pretrained' is deprecated since 0.13 and may be removed in the future, please use 'weights' instead.\n",
      "  warnings.warn(\n",
      "/home/nate/anaconda3/envs/flags3/lib/python3.12/site-packages/torchvision/models/_utils.py:223: UserWarning: Arguments other than a weight enum or `None` for 'weights' are deprecated since 0.13 and may be removed in the future. The current behavior is equivalent to passing `weights=AlexNet_Weights.IMAGENET1K_V1`. You can also use `weights=AlexNet_Weights.DEFAULT` to get the most up-to-date weights.\n",
      "  warnings.warn(msg)\n",
      " 55%|█████▌    | 11/20 [34:31<28:14, 188.32s/it]"
     ]
    },
    {
     "name": "stdout",
     "output_type": "stream",
     "text": [
      "          Method N Shots  Accuracy\n",
      "0      ProtoNets       3    0.8906\n",
      "0   SubspaceNets       3    0.9118\n",
      "0       FlagNets       3    0.9112\n",
      "0      ProtoNets       3    0.8754\n",
      "0   SubspaceNets       3    0.9002\n",
      "..           ...     ...       ...\n",
      "0   SubspaceNets       7    0.9418\n",
      "0       FlagNets       7    0.9418\n",
      "0      ProtoNets       7    0.9342\n",
      "0   SubspaceNets       7    0.9514\n",
      "0       FlagNets       7    0.9514\n",
      "\n",
      "[153 rows x 3 columns]\n"
     ]
    },
    {
     "name": "stderr",
     "output_type": "stream",
     "text": [
      "/home/nate/anaconda3/envs/flags3/lib/python3.12/site-packages/torchvision/models/_utils.py:208: UserWarning: The parameter 'pretrained' is deprecated since 0.13 and may be removed in the future, please use 'weights' instead.\n",
      "  warnings.warn(\n",
      "/home/nate/anaconda3/envs/flags3/lib/python3.12/site-packages/torchvision/models/_utils.py:223: UserWarning: Arguments other than a weight enum or `None` for 'weights' are deprecated since 0.13 and may be removed in the future. The current behavior is equivalent to passing `weights=AlexNet_Weights.IMAGENET1K_V1`. You can also use `weights=AlexNet_Weights.DEFAULT` to get the most up-to-date weights.\n",
      "  warnings.warn(msg)\n",
      " 60%|██████    | 12/20 [37:37<25:01, 187.75s/it]"
     ]
    },
    {
     "name": "stdout",
     "output_type": "stream",
     "text": [
      "          Method N Shots  Accuracy\n",
      "0      ProtoNets       3    0.8906\n",
      "0   SubspaceNets       3    0.9118\n",
      "0       FlagNets       3    0.9112\n",
      "0      ProtoNets       3    0.8754\n",
      "0   SubspaceNets       3    0.9002\n",
      "..           ...     ...       ...\n",
      "0   SubspaceNets       7    0.9514\n",
      "0       FlagNets       7    0.9514\n",
      "0      ProtoNets       7    0.9226\n",
      "0   SubspaceNets       7    0.9432\n",
      "0       FlagNets       7    0.9436\n",
      "\n",
      "[156 rows x 3 columns]\n"
     ]
    },
    {
     "name": "stderr",
     "output_type": "stream",
     "text": [
      "/home/nate/anaconda3/envs/flags3/lib/python3.12/site-packages/torchvision/models/_utils.py:208: UserWarning: The parameter 'pretrained' is deprecated since 0.13 and may be removed in the future, please use 'weights' instead.\n",
      "  warnings.warn(\n",
      "/home/nate/anaconda3/envs/flags3/lib/python3.12/site-packages/torchvision/models/_utils.py:223: UserWarning: Arguments other than a weight enum or `None` for 'weights' are deprecated since 0.13 and may be removed in the future. The current behavior is equivalent to passing `weights=AlexNet_Weights.IMAGENET1K_V1`. You can also use `weights=AlexNet_Weights.DEFAULT` to get the most up-to-date weights.\n",
      "  warnings.warn(msg)\n",
      " 65%|██████▌   | 13/20 [40:42<21:47, 186.84s/it]"
     ]
    },
    {
     "name": "stdout",
     "output_type": "stream",
     "text": [
      "          Method N Shots  Accuracy\n",
      "0      ProtoNets       3    0.8906\n",
      "0   SubspaceNets       3    0.9118\n",
      "0       FlagNets       3    0.9112\n",
      "0      ProtoNets       3    0.8754\n",
      "0   SubspaceNets       3    0.9002\n",
      "..           ...     ...       ...\n",
      "0   SubspaceNets       7    0.9432\n",
      "0       FlagNets       7    0.9436\n",
      "0      ProtoNets       7    0.9212\n",
      "0   SubspaceNets       7    0.9356\n",
      "0       FlagNets       7    0.9356\n",
      "\n",
      "[159 rows x 3 columns]\n"
     ]
    },
    {
     "name": "stderr",
     "output_type": "stream",
     "text": [
      "/home/nate/anaconda3/envs/flags3/lib/python3.12/site-packages/torchvision/models/_utils.py:208: UserWarning: The parameter 'pretrained' is deprecated since 0.13 and may be removed in the future, please use 'weights' instead.\n",
      "  warnings.warn(\n",
      "/home/nate/anaconda3/envs/flags3/lib/python3.12/site-packages/torchvision/models/_utils.py:223: UserWarning: Arguments other than a weight enum or `None` for 'weights' are deprecated since 0.13 and may be removed in the future. The current behavior is equivalent to passing `weights=AlexNet_Weights.IMAGENET1K_V1`. You can also use `weights=AlexNet_Weights.DEFAULT` to get the most up-to-date weights.\n",
      "  warnings.warn(msg)\n",
      " 70%|███████   | 14/20 [43:49<18:41, 186.92s/it]"
     ]
    },
    {
     "name": "stdout",
     "output_type": "stream",
     "text": [
      "          Method N Shots  Accuracy\n",
      "0      ProtoNets       3    0.8906\n",
      "0   SubspaceNets       3    0.9118\n",
      "0       FlagNets       3    0.9112\n",
      "0      ProtoNets       3    0.8754\n",
      "0   SubspaceNets       3    0.9002\n",
      "..           ...     ...       ...\n",
      "0   SubspaceNets       7    0.9356\n",
      "0       FlagNets       7    0.9356\n",
      "0      ProtoNets       7    0.9336\n",
      "0   SubspaceNets       7    0.9464\n",
      "0       FlagNets       7    0.9460\n",
      "\n",
      "[162 rows x 3 columns]\n"
     ]
    },
    {
     "name": "stderr",
     "output_type": "stream",
     "text": [
      "/home/nate/anaconda3/envs/flags3/lib/python3.12/site-packages/torchvision/models/_utils.py:208: UserWarning: The parameter 'pretrained' is deprecated since 0.13 and may be removed in the future, please use 'weights' instead.\n",
      "  warnings.warn(\n",
      "/home/nate/anaconda3/envs/flags3/lib/python3.12/site-packages/torchvision/models/_utils.py:223: UserWarning: Arguments other than a weight enum or `None` for 'weights' are deprecated since 0.13 and may be removed in the future. The current behavior is equivalent to passing `weights=AlexNet_Weights.IMAGENET1K_V1`. You can also use `weights=AlexNet_Weights.DEFAULT` to get the most up-to-date weights.\n",
      "  warnings.warn(msg)\n",
      " 75%|███████▌  | 15/20 [46:58<15:37, 187.46s/it]"
     ]
    },
    {
     "name": "stdout",
     "output_type": "stream",
     "text": [
      "          Method N Shots  Accuracy\n",
      "0      ProtoNets       3    0.8906\n",
      "0   SubspaceNets       3    0.9118\n",
      "0       FlagNets       3    0.9112\n",
      "0      ProtoNets       3    0.8754\n",
      "0   SubspaceNets       3    0.9002\n",
      "..           ...     ...       ...\n",
      "0   SubspaceNets       7    0.9464\n",
      "0       FlagNets       7    0.9460\n",
      "0      ProtoNets       7    0.9302\n",
      "0   SubspaceNets       7    0.9464\n",
      "0       FlagNets       7    0.9478\n",
      "\n",
      "[165 rows x 3 columns]\n"
     ]
    },
    {
     "name": "stderr",
     "output_type": "stream",
     "text": [
      "/home/nate/anaconda3/envs/flags3/lib/python3.12/site-packages/torchvision/models/_utils.py:208: UserWarning: The parameter 'pretrained' is deprecated since 0.13 and may be removed in the future, please use 'weights' instead.\n",
      "  warnings.warn(\n",
      "/home/nate/anaconda3/envs/flags3/lib/python3.12/site-packages/torchvision/models/_utils.py:223: UserWarning: Arguments other than a weight enum or `None` for 'weights' are deprecated since 0.13 and may be removed in the future. The current behavior is equivalent to passing `weights=AlexNet_Weights.IMAGENET1K_V1`. You can also use `weights=AlexNet_Weights.DEFAULT` to get the most up-to-date weights.\n",
      "  warnings.warn(msg)\n",
      " 80%|████████  | 16/20 [50:03<12:26, 186.61s/it]"
     ]
    },
    {
     "name": "stdout",
     "output_type": "stream",
     "text": [
      "          Method N Shots  Accuracy\n",
      "0      ProtoNets       3    0.8906\n",
      "0   SubspaceNets       3    0.9118\n",
      "0       FlagNets       3    0.9112\n",
      "0      ProtoNets       3    0.8754\n",
      "0   SubspaceNets       3    0.9002\n",
      "..           ...     ...       ...\n",
      "0   SubspaceNets       7    0.9464\n",
      "0       FlagNets       7    0.9478\n",
      "0      ProtoNets       7    0.9296\n",
      "0   SubspaceNets       7    0.9462\n",
      "0       FlagNets       7    0.9470\n",
      "\n",
      "[168 rows x 3 columns]\n"
     ]
    },
    {
     "name": "stderr",
     "output_type": "stream",
     "text": [
      "/home/nate/anaconda3/envs/flags3/lib/python3.12/site-packages/torchvision/models/_utils.py:208: UserWarning: The parameter 'pretrained' is deprecated since 0.13 and may be removed in the future, please use 'weights' instead.\n",
      "  warnings.warn(\n",
      "/home/nate/anaconda3/envs/flags3/lib/python3.12/site-packages/torchvision/models/_utils.py:223: UserWarning: Arguments other than a weight enum or `None` for 'weights' are deprecated since 0.13 and may be removed in the future. The current behavior is equivalent to passing `weights=AlexNet_Weights.IMAGENET1K_V1`. You can also use `weights=AlexNet_Weights.DEFAULT` to get the most up-to-date weights.\n",
      "  warnings.warn(msg)\n",
      " 85%|████████▌ | 17/20 [53:10<09:20, 186.69s/it]"
     ]
    },
    {
     "name": "stdout",
     "output_type": "stream",
     "text": [
      "          Method N Shots  Accuracy\n",
      "0      ProtoNets       3    0.8906\n",
      "0   SubspaceNets       3    0.9118\n",
      "0       FlagNets       3    0.9112\n",
      "0      ProtoNets       3    0.8754\n",
      "0   SubspaceNets       3    0.9002\n",
      "..           ...     ...       ...\n",
      "0   SubspaceNets       7    0.9462\n",
      "0       FlagNets       7    0.9470\n",
      "0      ProtoNets       7    0.9266\n",
      "0   SubspaceNets       7    0.9466\n",
      "0       FlagNets       7    0.9474\n",
      "\n",
      "[171 rows x 3 columns]\n"
     ]
    },
    {
     "name": "stderr",
     "output_type": "stream",
     "text": [
      "/home/nate/anaconda3/envs/flags3/lib/python3.12/site-packages/torchvision/models/_utils.py:208: UserWarning: The parameter 'pretrained' is deprecated since 0.13 and may be removed in the future, please use 'weights' instead.\n",
      "  warnings.warn(\n",
      "/home/nate/anaconda3/envs/flags3/lib/python3.12/site-packages/torchvision/models/_utils.py:223: UserWarning: Arguments other than a weight enum or `None` for 'weights' are deprecated since 0.13 and may be removed in the future. The current behavior is equivalent to passing `weights=AlexNet_Weights.IMAGENET1K_V1`. You can also use `weights=AlexNet_Weights.DEFAULT` to get the most up-to-date weights.\n",
      "  warnings.warn(msg)\n",
      " 90%|█████████ | 18/20 [56:16<06:13, 186.70s/it]"
     ]
    },
    {
     "name": "stdout",
     "output_type": "stream",
     "text": [
      "          Method N Shots  Accuracy\n",
      "0      ProtoNets       3    0.8906\n",
      "0   SubspaceNets       3    0.9118\n",
      "0       FlagNets       3    0.9112\n",
      "0      ProtoNets       3    0.8754\n",
      "0   SubspaceNets       3    0.9002\n",
      "..           ...     ...       ...\n",
      "0   SubspaceNets       7    0.9466\n",
      "0       FlagNets       7    0.9474\n",
      "0      ProtoNets       7    0.9256\n",
      "0   SubspaceNets       7    0.9456\n",
      "0       FlagNets       7    0.9460\n",
      "\n",
      "[174 rows x 3 columns]\n"
     ]
    },
    {
     "name": "stderr",
     "output_type": "stream",
     "text": [
      "/home/nate/anaconda3/envs/flags3/lib/python3.12/site-packages/torchvision/models/_utils.py:208: UserWarning: The parameter 'pretrained' is deprecated since 0.13 and may be removed in the future, please use 'weights' instead.\n",
      "  warnings.warn(\n",
      "/home/nate/anaconda3/envs/flags3/lib/python3.12/site-packages/torchvision/models/_utils.py:223: UserWarning: Arguments other than a weight enum or `None` for 'weights' are deprecated since 0.13 and may be removed in the future. The current behavior is equivalent to passing `weights=AlexNet_Weights.IMAGENET1K_V1`. You can also use `weights=AlexNet_Weights.DEFAULT` to get the most up-to-date weights.\n",
      "  warnings.warn(msg)\n",
      " 95%|█████████▌| 19/20 [59:22<03:06, 186.33s/it]"
     ]
    },
    {
     "name": "stdout",
     "output_type": "stream",
     "text": [
      "          Method N Shots  Accuracy\n",
      "0      ProtoNets       3    0.8906\n",
      "0   SubspaceNets       3    0.9118\n",
      "0       FlagNets       3    0.9112\n",
      "0      ProtoNets       3    0.8754\n",
      "0   SubspaceNets       3    0.9002\n",
      "..           ...     ...       ...\n",
      "0   SubspaceNets       7    0.9456\n",
      "0       FlagNets       7    0.9460\n",
      "0      ProtoNets       7    0.9264\n",
      "0   SubspaceNets       7    0.9510\n",
      "0       FlagNets       7    0.9510\n",
      "\n",
      "[177 rows x 3 columns]\n"
     ]
    },
    {
     "name": "stderr",
     "output_type": "stream",
     "text": [
      "/home/nate/anaconda3/envs/flags3/lib/python3.12/site-packages/torchvision/models/_utils.py:208: UserWarning: The parameter 'pretrained' is deprecated since 0.13 and may be removed in the future, please use 'weights' instead.\n",
      "  warnings.warn(\n",
      "/home/nate/anaconda3/envs/flags3/lib/python3.12/site-packages/torchvision/models/_utils.py:223: UserWarning: Arguments other than a weight enum or `None` for 'weights' are deprecated since 0.13 and may be removed in the future. The current behavior is equivalent to passing `weights=AlexNet_Weights.IMAGENET1K_V1`. You can also use `weights=AlexNet_Weights.DEFAULT` to get the most up-to-date weights.\n",
      "  warnings.warn(msg)\n",
      "100%|██████████| 20/20 [1:02:28<00:00, 187.43s/it]"
     ]
    },
    {
     "name": "stdout",
     "output_type": "stream",
     "text": [
      "          Method N Shots  Accuracy\n",
      "0      ProtoNets       3    0.8906\n",
      "0   SubspaceNets       3    0.9118\n",
      "0       FlagNets       3    0.9112\n",
      "0      ProtoNets       3    0.8754\n",
      "0   SubspaceNets       3    0.9002\n",
      "..           ...     ...       ...\n",
      "0   SubspaceNets       7    0.9510\n",
      "0       FlagNets       7    0.9510\n",
      "0      ProtoNets       7    0.9356\n",
      "0   SubspaceNets       7    0.9570\n",
      "0       FlagNets       7    0.9572\n",
      "\n",
      "[180 rows x 3 columns]\n"
     ]
    },
    {
     "name": "stderr",
     "output_type": "stream",
     "text": [
      "\n"
     ]
    }
   ],
   "source": [
    "#takes about 2hr with one GPU\n",
    "results = pd.DataFrame(columns = ['Method', 'N Shots', 'Accuracy'])\n",
    "\n",
    "\n",
    "for N_SHOT in [3,5,7]:\n",
    "    print(f'Starting {N_SHOT}')\n",
    "    test_sampler = TaskSampler(\n",
    "            test_data, n_way=N_WAY, n_shot=N_SHOT, n_query=N_QUERY, n_tasks=N_EVALUATION_TASKS\n",
    "        )\n",
    "\n",
    "    test_loader = DataLoader(\n",
    "        test_data,\n",
    "        batch_sampler=test_sampler,\n",
    "        num_workers=0,\n",
    "        pin_memory=True,\n",
    "        collate_fn=test_sampler.episodic_collate_fn,\n",
    "        shuffle = False\n",
    "    )\n",
    "\n",
    "    for random_seed in tqdm(range(20)):\n",
    "\n",
    "        # # Eval Protonets\n",
    "        random.seed(random_seed)\n",
    "        alexnet_backbone1 = alexnet(pretrained = True)\n",
    "        alexnet_backbone1 = AlexNetLastTwoLayers(alexnet_backbone1).to(DEVICE)\n",
    "        proto_model = PrototypicalNetworks(alexnet_backbone1, head = 'ProtoNet').to(DEVICE)\n",
    "        proto_acc = evaluate(proto_model, test_loader, DEVICE)\n",
    "        row = pd.DataFrame(columns = results.columns,\n",
    "                           data = [['ProtoNets', N_SHOT, proto_acc]])\n",
    "        results = pd.concat([results, row])\n",
    "\n",
    "        # # Eval Subspace Nets\n",
    "        random.seed(random_seed)\n",
    "        alexnet_backbone2 = alexnet(pretrained = True)\n",
    "        alexnet_backbone2 = AlexNetLastTwoLayers(alexnet_backbone2).to(DEVICE)\n",
    "        subspace_model = PrototypicalNetworks(alexnet_backbone2, head = 'SubspaceNet').to(DEVICE)\n",
    "        subspace_acc = evaluate(subspace_model, test_loader, DEVICE)\n",
    "        row = pd.DataFrame(columns = results.columns,\n",
    "                           data = [['SubspaceNets', N_SHOT, subspace_acc]])\n",
    "        results = pd.concat([results, row])\n",
    "\n",
    "        # Eval Flag Nets\n",
    "        random.seed(random_seed)\n",
    "        alexnet_backbone3 = alexnet(pretrained = True)\n",
    "        alexnet_backbone3 = AlexNetLastTwoLayers(alexnet_backbone3).to(DEVICE)\n",
    "        flag_model = PrototypicalFlagNetworks(alexnet_backbone3, fl_type = [N_SHOT-1,N_SHOT-1]).to(DEVICE)\n",
    "        flag_acc = evaluate(flag_model, test_loader, DEVICE)\n",
    "        row = pd.DataFrame(columns = results.columns,\n",
    "                           data = [['FlagNets', N_SHOT, flag_acc]])\n",
    "        results = pd.concat([results, row])\n",
    "        # print(results)\n",
    "\n",
    "    results.to_csv('../results/flowers_probing_rebuttal1.csv')"
   ]
  },
  {
   "cell_type": "code",
   "execution_count": 7,
   "metadata": {},
   "outputs": [
    {
     "data": {
      "image/png": "[encoded data removed]",
      "text/plain": [
       "<Figure size 500x200 with 1 Axes>"
      ]
     },
     "metadata": {},
     "output_type": "display_data"
    }
   ],
   "source": [
    "import seaborn as sns\n",
    "import pandas as pd\n",
    "from matplotlib import pyplot as plt\n",
    "\n",
    "res = pd.read_csv('../results/flowers_probing_rebuttal1.csv')\n",
    "\n",
    "plt.figure(figsize = (5,2))\n",
    "sns.boxplot(res, x = 'N Shots', y = 'Accuracy', hue = 'Method')\n",
    "plt.tight_layout()\n",
    "plt.savefig('../results/flowers_probing_rebuttal1.pdf', bbox_inches = \"tight\")"
   ]
  },
  {
   "cell_type": "code",
   "execution_count": null,
   "metadata": {},
   "outputs": [],
   "source": []
  },
  {
   "cell_type": "code",
   "execution_count": null,
   "metadata": {},
   "outputs": [],
   "source": []
  }
 ],
 "metadata": {
  "accelerator": "GPU",
  "colab": {
   "name": "my_first_few_shot_classifier.ipynb",
   "provenance": [],
   "toc_visible": true
  },
  "kernelspec": {
   "display_name": "flags3",
   "language": "python",
   "name": "python3"
  },
  "language_info": {
   "codemirror_mode": {
    "name": "ipython",
    "version": 3
   },
   "file_extension": ".py",
   "mimetype": "text/x-python",
   "name": "python",
   "nbconvert_exporter": "python",
   "pygments_lexer": "ipython3",
   "version": "3.12.3"
  }
 },
 "nbformat": 4,
 "nbformat_minor": 0
}
