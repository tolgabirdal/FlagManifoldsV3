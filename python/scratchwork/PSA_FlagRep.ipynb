{
 "cells": [
  {
   "cell_type": "markdown",
   "metadata": {},
   "source": [
    "OK. There might be something promising here.\n",
    "\n",
    "We run bic criterion to determine the flag type. Then we use FlagRep, with this flag type, on the PCs. This results in the same representation as svd and qr with respect to the subspace and the flag distances. But, with respect to the Frobenius norm, FlagRep seems to do a little better."
   ]
  },
  {
   "cell_type": "code",
   "execution_count": null,
   "metadata": {},
   "outputs": [],
   "source": [
    "import numpy as np\n",
    "\n",
    "import FlagRep as FR\n",
    "\n",
    "import itertools\n",
    "from sklearn.cluster import AgglomerativeClustering\n",
    "\n",
    "import matplotlib.pyplot as plt\n",
    "\n",
    "import os\n",
    "from skimage import color\n",
    "from skimage import io\n",
    "from sklearn.feature_extraction.image import extract_patches_2d\n",
    "import torch\n",
    "\n",
    "from PSA_utils import *"
   ]
  },
  {
   "cell_type": "markdown",
   "metadata": {},
   "source": [
    "Do PSA to identify flag type, then run flagrep"
   ]
  },
  {
   "cell_type": "markdown",
   "metadata": {},
   "source": [
    "Flowers"
   ]
  },
  {
   "cell_type": "code",
   "execution_count": 65,
   "metadata": {},
   "outputs": [
    {
     "data": {
      "image/png": "[encoded data removed]",
      "text/plain": [
       "<Figure size 800x800 with 9 Axes>"
      ]
     },
     "metadata": {},
     "output_type": "display_data"
    },
    {
     "data": {
      "image/png": "[encoded data removed]",
      "text/plain": [
       "<Figure size 640x480 with 1 Axes>"
      ]
     },
     "metadata": {},
     "output_type": "display_data"
    }
   ],
   "source": [
    "np.random.seed(42)\n",
    "\n",
    "# Generate dataset\n",
    "dir_name = \"../data/flower_10/\"\n",
    "patchsize = 8\n",
    "n = 500\n",
    "X_img = []\n",
    "for i, file in enumerate(os.listdir(dir_name)):\n",
    "    img = color.rgb2gray(io.imread(dir_name+file))\n",
    "    patches = extract_patches_2d(img, (patchsize, patchsize))\n",
    "    patches = patches - np.mean(patches, axis=(1, 2))[:, np.newaxis, np.newaxis]  # remove DC component\n",
    "    X_img.append(patches[np.random.choice(np.arange(patches.shape[0]), size=n//10, replace=False)])\n",
    "X = np.concatenate(X_img, axis=0)\n",
    "\n",
    "# Plot dataset\n",
    "fig, axes = plt.subplots(3, 3, figsize=(8, 8))\n",
    "for i, ax in enumerate(axes.flatten()):\n",
    "    ax.imshow(X[n//10 * i], cmap=\"gray\")\n",
    "    ax.axis('off')\n",
    "fig.subplots_adjust(wspace=.1, hspace=.1)\n",
    "plt.show()\n",
    "\n",
    "# Compute BIC of PPCA and PSA models\n",
    "X = X.reshape((n, patchsize*patchsize))\n",
    "n, p = X.shape\n",
    "eigval, eigvec = evd(X)\n",
    "plt.figure()\n",
    "plt.bar(np.arange(25), eigval[:25], color='k')\n",
    "plt.show()\n",
    "bic_psa = bic((2, 3, p - 5), eigval, n)\n",
    "bic_ppca = bic((1, 1, 1, 1, 1, p - 5), eigval, n)\n"
   ]
  },
  {
   "cell_type": "code",
   "execution_count": 66,
   "metadata": {},
   "outputs": [],
   "source": [
    "n_pcs = 5\n",
    "\n",
    "models = [[1,1,1,1,1,p-n_pcs],\n",
    "        [1,1,1,2,p-n_pcs],[1,1,2,1,p-n_pcs],[1,2,1,1,p-n_pcs],[2,1,1,1,p-n_pcs],\n",
    "        [3,1,1,p-n_pcs],[2,2,1,p-n_pcs],[1,3,1,p-n_pcs],[2,1,2,p-n_pcs],[1,2,2,p-n_pcs],[1,1,3,p-n_pcs],\n",
    "        [4,1,p-n_pcs],[3,2,p-n_pcs],[2,3,p-n_pcs],[1,4,p-n_pcs],\n",
    "        [5,p-n_pcs]]\n",
    "\n",
    "\n",
    "best_model, best_bic = model_selection(X, models, criterion=\"bic\")"
   ]
  },
  {
   "cell_type": "code",
   "execution_count": 67,
   "metadata": {},
   "outputs": [],
   "source": [
    "mu = np.mean(X, axis=0)\n",
    "X_centered = X - mu\n",
    "pcs = X_centered @ eigvec[:,:n_pcs]"
   ]
  },
  {
   "cell_type": "code",
   "execution_count": 68,
   "metadata": {},
   "outputs": [],
   "source": [
    "fl_type = np.cumsum(best_model[:-1])"
   ]
  },
  {
   "cell_type": "code",
   "execution_count": 69,
   "metadata": {},
   "outputs": [],
   "source": [
    "# the feature hierarchy \n",
    "\n",
    "Aset = [np.arange(ssd) for ssd in fl_type]\n",
    "\n",
    "frep, _ = FR.FlagRep(pcs, Aset)\n",
    "u,_,_ = np.linalg.svd(pcs, full_matrices=False)\n",
    "q,_ = np.linalg.qr(pcs)"
   ]
  },
  {
   "cell_type": "code",
   "execution_count": 70,
   "metadata": {},
   "outputs": [
    {
     "name": "stdout",
     "output_type": "stream",
     "text": [
      "Euclidean distance\n",
      "7.992719052096974\n",
      "8.177002032240155\n",
      "8.31647931952031\n",
      "Projection distance (subspace)\n",
      "3.036543675781603e-15\n",
      "3.98256114041755e-15\n",
      "2.741617789104461e-15\n",
      "Projection distance (flag)\n",
      "5.652482055072146e-15\n",
      "7.013973410837866e-15\n",
      "5.652482055072146e-15\n"
     ]
    }
   ],
   "source": [
    "print('Euclidean distance')\n",
    "print(np.linalg.norm(frep- pcs)/np.linalg.norm(frep))\n",
    "print(np.linalg.norm(u- pcs)/np.linalg.norm(frep))\n",
    "print(np.linalg.norm(q- pcs)/np.linalg.norm(frep))\n",
    "\n",
    "print('Projection distance (subspace)')\n",
    "print(np.sqrt(2)*np.linalg.norm(frep @frep.T - pcs@np.linalg.inv(pcs.T @ pcs) @pcs.T))\n",
    "print(np.sqrt(2)*np.linalg.norm(u @ u.T - pcs@np.linalg.inv(pcs.T @ pcs) @pcs.T))\n",
    "print(np.sqrt(2)*np.linalg.norm(q @ q.T - pcs@np.linalg.inv(pcs.T @ pcs) @pcs.T))\n",
    "\n",
    "print('Projection distance (flag)')\n",
    "\n",
    "frep_dist = np.sqrt(2)*np.linalg.norm(frep[:,:fl_type[0]] @frep[:,:fl_type[0]].T - pcs[:,:fl_type[0]]@np.linalg.inv(pcs[:,:fl_type[0]].T @ pcs[:,:fl_type[0]]) @pcs[:,:fl_type[0]].T)\n",
    "svd_dist = np.sqrt(2)*np.linalg.norm(u[:,:fl_type[0]] @ u[:,:fl_type[0]].T - pcs[:,:fl_type[0]]@np.linalg.inv(pcs[:,:fl_type[0]].T @ pcs[:,:fl_type[0]]) @pcs[:,:fl_type[0]].T)\n",
    "qr_dist = np.sqrt(2)*np.linalg.norm(q[:,:fl_type[0]] @ q[:,:fl_type[0]].T - pcs[:,:fl_type[0]]@np.linalg.inv(pcs[:,:fl_type[0]].T @ pcs[:,:fl_type[0]]) @pcs[:,:fl_type[0]].T)\n",
    "for i in range(len(fl_type)-1):\n",
    "    frep_dist += np.sqrt(2)*np.linalg.norm(q[:,fl_type[i]:fl_type[i+1]] @ q[:,fl_type[i]:fl_type[i+1]].T - pcs[:,fl_type[i]:fl_type[i+1]]@np.linalg.inv(pcs[:,fl_type[i]:fl_type[i+1]].T @ pcs[:,fl_type[i]:fl_type[i+1]]) @pcs[:,fl_type[i]:fl_type[i+1]].T)\n",
    "    svd_dist += np.sqrt(2)*np.linalg.norm(q[:,fl_type[i]:fl_type[i+1]] @ q[:,fl_type[i]:fl_type[i+1]].T - pcs[:,fl_type[i]:fl_type[i+1]]@np.linalg.inv(pcs[:,fl_type[i]:fl_type[i+1]].T @ pcs[:,fl_type[i]:fl_type[i+1]]) @pcs[:,fl_type[i]:fl_type[i+1]].T)\n",
    "    qr_dist += np.sqrt(2)*np.linalg.norm(q[:,fl_type[i]:fl_type[i+1]] @ q[:,fl_type[i]:fl_type[i+1]].T - pcs[:,fl_type[i]:fl_type[i+1]]@np.linalg.inv(pcs[:,fl_type[i]:fl_type[i+1]].T @ pcs[:,fl_type[i]:fl_type[i+1]]) @pcs[:,fl_type[i]:fl_type[i+1]].T)\n",
    "\n",
    "print(frep_dist)\n",
    "print(svd_dist)\n",
    "print(qr_dist)"
   ]
  },
  {
   "cell_type": "markdown",
   "metadata": {},
   "source": [
    "Cats and dogs"
   ]
  },
  {
   "cell_type": "code",
   "execution_count": 71,
   "metadata": {},
   "outputs": [
    {
     "name": "stderr",
     "output_type": "stream",
     "text": [
      "/var/folders/5m/bv9phk393431tllslwr8yzyw0000gp/T/ipykernel_44857/2189361400.py:3: FutureWarning: You are using `torch.load` with `weights_only=False` (the current default value), which uses the default pickle module implicitly. It is possible to construct malicious pickle data which will execute arbitrary code during unpickling (See https://github.com/pytorch/pytorch/blob/main/SECURITY.md#untrusted-models for more details). In a future release, the default value for `weights_only` will be flipped to `True`. This limits the functions that could be executed during unpickling. Arbitrary objects will no longer be allowed to be loaded via this mode unless they are explicitly allowlisted by the user via `torch.serialization.add_safe_globals`. We recommend you start setting `weights_only=True` for any use case where you don't have full control of the loaded file. Please open an issue on GitHub for any issues related to this experimental feature.\n",
      "  data = torch.load('../data/cats_dogs/myCATS.pt').numpy().T\n"
     ]
    }
   ],
   "source": [
    "n_pcs = 5\n",
    "\n",
    "data = torch.load('../data/cats_dogs/myCATS.pt').numpy().T\n",
    "p, n_feats = data.shape\n",
    "\n",
    "\n",
    "models = [[1,1,1,1,1,n_feats-n_pcs],\n",
    "        [1,1,1,2,n_feats-n_pcs],[1,1,2,1,n_feats-n_pcs],[1,2,1,1,n_feats-n_pcs],[2,1,1,1,n_feats-n_pcs],\n",
    "        [3,1,1,n_feats-n_pcs],[2,2,1,n_feats-n_pcs],[1,3,1,n_feats-n_pcs],[2,1,2,n_feats-n_pcs],[1,2,2,n_feats-n_pcs],[1,1,3,n_feats-n_pcs],\n",
    "        [4,1,n_feats-n_pcs],[3,2,n_feats-n_pcs],[2,3,n_feats-n_pcs],[1,4,n_feats-n_pcs],\n",
    "        [5,n_feats-n_pcs]]\n",
    "\n",
    "#regular PCA\n",
    "eigval, eigvec = evd(data)\n",
    "baseline_weights = eigvec[:,:n_pcs]\n",
    "true_fl_type, _ = model_selection_eval(data, eigval, models, criterion=\"bic\")\n",
    "fl_type = list(np.cumsum(true_fl_type)[:-1])"
   ]
  },
  {
   "cell_type": "code",
   "execution_count": 72,
   "metadata": {},
   "outputs": [
    {
     "data": {
      "text/plain": [
       "<matplotlib.collections.PathCollection at 0x16dd3ee90>"
      ]
     },
     "execution_count": 72,
     "metadata": {},
     "output_type": "execute_result"
    },
    {
     "data": {
      "image/png": "[encoded data removed]",
      "text/plain": [
       "<Figure size 640x480 with 1 Axes>"
      ]
     },
     "metadata": {},
     "output_type": "display_data"
    }
   ],
   "source": [
    "mu = np.mean(data, axis=0)\n",
    "X_centered = data - mu\n",
    "pcs = X_centered @ baseline_weights\n",
    "\n",
    "plt.scatter(pcs[:99,0],pcs[:99,1])\n",
    "plt.scatter(pcs[99:,0],pcs[99:,1])"
   ]
  },
  {
   "cell_type": "code",
   "execution_count": 73,
   "metadata": {},
   "outputs": [],
   "source": [
    "Aset = [np.arange(ssd) for ssd in fl_type]\n",
    "\n",
    "frep, _ = FR.FlagRep(pcs, Aset)\n",
    "u,_,_ = np.linalg.svd(pcs, full_matrices=False)\n",
    "q,_ = np.linalg.qr(pcs)"
   ]
  },
  {
   "cell_type": "code",
   "execution_count": 74,
   "metadata": {},
   "outputs": [
    {
     "name": "stdout",
     "output_type": "stream",
     "text": [
      "Relative Euclidean distance\n",
      "0.9999653859305656\n",
      "0.9999653859305656\n",
      "0.9999920584090137\n",
      "Projection distance (subspace)\n",
      "2.6041520258733936e-15\n",
      "2.466566420676445e-15\n",
      "2.602802426981864e-15\n",
      "Projection distance (flag)\n",
      "7.655856307553561e-15\n",
      "7.655856307553561e-15\n",
      "7.655856307553561e-15\n"
     ]
    }
   ],
   "source": [
    "print('Relative Euclidean distance')\n",
    "print(np.linalg.norm(frep- pcs)/np.linalg.norm(pcs))\n",
    "print(np.linalg.norm(u- pcs)/np.linalg.norm(pcs))\n",
    "print(np.linalg.norm(q- pcs)/np.linalg.norm(pcs))\n",
    "\n",
    "print('Projection distance (subspace)')\n",
    "print(np.sqrt(2)*np.linalg.norm(frep @frep.T - pcs@np.linalg.inv(pcs.T @ pcs) @pcs.T))\n",
    "print(np.sqrt(2)*np.linalg.norm(u @ u.T - pcs@np.linalg.inv(pcs.T @ pcs) @pcs.T))\n",
    "print(np.sqrt(2)*np.linalg.norm(q @ q.T - pcs@np.linalg.inv(pcs.T @ pcs) @pcs.T))\n",
    "\n",
    "print('Projection distance (flag)')\n",
    "\n",
    "frep_dist = np.sqrt(2)*np.linalg.norm(frep[:,:fl_type[0]] @frep[:,:fl_type[0]].T - pcs[:,:fl_type[0]]@np.linalg.inv(pcs[:,:fl_type[0]].T @ pcs[:,:fl_type[0]]) @pcs[:,:fl_type[0]].T)\n",
    "svd_dist = np.sqrt(2)*np.linalg.norm(u[:,:fl_type[0]] @ u[:,:fl_type[0]].T - pcs[:,:fl_type[0]]@np.linalg.inv(pcs[:,:fl_type[0]].T @ pcs[:,:fl_type[0]]) @pcs[:,:fl_type[0]].T)\n",
    "qr_dist = np.sqrt(2)*np.linalg.norm(q[:,:fl_type[0]] @ q[:,:fl_type[0]].T - pcs[:,:fl_type[0]]@np.linalg.inv(pcs[:,:fl_type[0]].T @ pcs[:,:fl_type[0]]) @pcs[:,:fl_type[0]].T)\n",
    "for i in range(len(fl_type)-1):\n",
    "    frep_dist += np.sqrt(2)*np.linalg.norm(q[:,fl_type[i]:fl_type[i+1]] @ q[:,fl_type[i]:fl_type[i+1]].T - pcs[:,fl_type[i]:fl_type[i+1]]@np.linalg.inv(pcs[:,fl_type[i]:fl_type[i+1]].T @ pcs[:,fl_type[i]:fl_type[i+1]]) @pcs[:,fl_type[i]:fl_type[i+1]].T)\n",
    "    svd_dist += np.sqrt(2)*np.linalg.norm(q[:,fl_type[i]:fl_type[i+1]] @ q[:,fl_type[i]:fl_type[i+1]].T - pcs[:,fl_type[i]:fl_type[i+1]]@np.linalg.inv(pcs[:,fl_type[i]:fl_type[i+1]].T @ pcs[:,fl_type[i]:fl_type[i+1]]) @pcs[:,fl_type[i]:fl_type[i+1]].T)\n",
    "    qr_dist += np.sqrt(2)*np.linalg.norm(q[:,fl_type[i]:fl_type[i+1]] @ q[:,fl_type[i]:fl_type[i+1]].T - pcs[:,fl_type[i]:fl_type[i+1]]@np.linalg.inv(pcs[:,fl_type[i]:fl_type[i+1]].T @ pcs[:,fl_type[i]:fl_type[i+1]]) @pcs[:,fl_type[i]:fl_type[i+1]].T)\n",
    "\n",
    "print(frep_dist)\n",
    "print(svd_dist)\n",
    "print(qr_dist)"
   ]
  },
  {
   "cell_type": "markdown",
   "metadata": {},
   "source": [
    "digits from https://archive.ics.uci.edu/dataset/80/optical+recognition+of+handwritten+digits"
   ]
  },
  {
   "cell_type": "code",
   "execution_count": 12,
   "metadata": {},
   "outputs": [],
   "source": [
    "\n",
    "from sklearn import datasets"
   ]
  },
  {
   "cell_type": "code",
   "execution_count": 13,
   "metadata": {},
   "outputs": [],
   "source": [
    "mnist_dset = datasets.load_digits(n_class=2)"
   ]
  },
  {
   "cell_type": "code",
   "execution_count": 14,
   "metadata": {},
   "outputs": [],
   "source": [
    "X = mnist_dset['data']\n",
    "labels = mnist_dset['target']"
   ]
  },
  {
   "cell_type": "code",
   "execution_count": 15,
   "metadata": {},
   "outputs": [],
   "source": [
    "_,n_feats = X.shape"
   ]
  },
  {
   "cell_type": "code",
   "execution_count": 16,
   "metadata": {},
   "outputs": [],
   "source": [
    "n_pcs = 5\n",
    "\n",
    "models = [[1,1,1,1,1,n_feats-n_pcs],\n",
    "        [1,1,1,2,n_feats-n_pcs],[1,1,2,1,n_feats-n_pcs],[1,2,1,1,n_feats-n_pcs],[2,1,1,1,n_feats-n_pcs],\n",
    "        [3,1,1,n_feats-n_pcs],[2,2,1,n_feats-n_pcs],[1,3,1,n_feats-n_pcs],[2,1,2,n_feats-n_pcs],[1,2,2,n_feats-n_pcs],[1,1,3,n_feats-n_pcs],\n",
    "        [4,1,n_feats-n_pcs],[3,2,n_feats-n_pcs],[2,3,n_feats-n_pcs],[1,4,n_feats-n_pcs],\n",
    "        [5,n_feats-n_pcs]]\n",
    "\n",
    "#regular PCA\n",
    "eigval, eigvec = evd(X)\n",
    "baseline_weights = eigvec[:,:n_pcs]\n",
    "true_fl_type, _ = model_selection_eval(X, eigval, models, criterion=\"bic\")\n",
    "fl_type = list(np.cumsum(true_fl_type)[:-1])"
   ]
  },
  {
   "cell_type": "code",
   "execution_count": 17,
   "metadata": {},
   "outputs": [],
   "source": [
    "mu = np.mean(X, axis=0)\n",
    "X_centered = X - mu\n",
    "pcs = X_centered @ baseline_weights"
   ]
  },
  {
   "cell_type": "code",
   "execution_count": 18,
   "metadata": {},
   "outputs": [
    {
     "data": {
      "text/plain": [
       "<matplotlib.collections.PathCollection at 0x15c7f3390>"
      ]
     },
     "execution_count": 18,
     "metadata": {},
     "output_type": "execute_result"
    },
    {
     "data": {
      "image/png": "[encoded data removed]",
      "text/plain": [
       "<Figure size 640x480 with 1 Axes>"
      ]
     },
     "metadata": {},
     "output_type": "display_data"
    }
   ],
   "source": [
    "plt.scatter(pcs[np.where(labels == 0),0],pcs[np.where(labels == 0),1])\n",
    "plt.scatter(pcs[np.where(labels == 1),0],pcs[np.where(labels == 1),1])"
   ]
  },
  {
   "cell_type": "code",
   "execution_count": 19,
   "metadata": {},
   "outputs": [],
   "source": [
    "Aset = [np.arange(ssd) for ssd in fl_type]\n",
    "\n",
    "frep, _ = FR.FlagRep(pcs, Aset)\n",
    "u,_,_ = np.linalg.svd(pcs, full_matrices=False)\n",
    "q,_ = np.linalg.qr(pcs)"
   ]
  },
  {
   "cell_type": "code",
   "execution_count": 20,
   "metadata": {},
   "outputs": [
    {
     "name": "stdout",
     "output_type": "stream",
     "text": [
      "Relative Euclidean distance\n",
      "0.9980284493235272\n",
      "0.9998267322047474\n",
      "1.001485067812539\n",
      "Projection distance (subspace)\n",
      "3.101390779301686e-15\n",
      "1.745564824796981e-15\n",
      "1.7036230063306392e-15\n",
      "Projection distance (flag)\n",
      "3.9473930306682905e-15\n",
      "3.9473930306682905e-15\n",
      "3.9473930306682905e-15\n"
     ]
    }
   ],
   "source": [
    "print('Relative Euclidean distance')\n",
    "print(np.linalg.norm(frep- pcs)/np.linalg.norm(pcs))\n",
    "print(np.linalg.norm(u- pcs)/np.linalg.norm(pcs))\n",
    "print(np.linalg.norm(q- pcs)/np.linalg.norm(pcs))\n",
    "\n",
    "print('Projection distance (subspace)')\n",
    "print(np.sqrt(2)*np.linalg.norm(frep @frep.T - pcs@np.linalg.inv(pcs.T @ pcs) @pcs.T))\n",
    "print(np.sqrt(2)*np.linalg.norm(u @ u.T - pcs@np.linalg.inv(pcs.T @ pcs) @pcs.T))\n",
    "print(np.sqrt(2)*np.linalg.norm(q @ q.T - pcs@np.linalg.inv(pcs.T @ pcs) @pcs.T))\n",
    "\n",
    "print('Projection distance (flag)')\n",
    "\n",
    "frep_dist = np.sqrt(2)*np.linalg.norm(frep[:,:fl_type[0]] @frep[:,:fl_type[0]].T - pcs[:,:fl_type[0]]@np.linalg.inv(pcs[:,:fl_type[0]].T @ pcs[:,:fl_type[0]]) @pcs[:,:fl_type[0]].T)\n",
    "svd_dist = np.sqrt(2)*np.linalg.norm(u[:,:fl_type[0]] @ u[:,:fl_type[0]].T - pcs[:,:fl_type[0]]@np.linalg.inv(pcs[:,:fl_type[0]].T @ pcs[:,:fl_type[0]]) @pcs[:,:fl_type[0]].T)\n",
    "qr_dist = np.sqrt(2)*np.linalg.norm(q[:,:fl_type[0]] @ q[:,:fl_type[0]].T - pcs[:,:fl_type[0]]@np.linalg.inv(pcs[:,:fl_type[0]].T @ pcs[:,:fl_type[0]]) @pcs[:,:fl_type[0]].T)\n",
    "for i in range(len(fl_type)-1):\n",
    "    frep_dist += np.sqrt(2)*np.linalg.norm(q[:,fl_type[i]:fl_type[i+1]] @ q[:,fl_type[i]:fl_type[i+1]].T - pcs[:,fl_type[i]:fl_type[i+1]]@np.linalg.inv(pcs[:,fl_type[i]:fl_type[i+1]].T @ pcs[:,fl_type[i]:fl_type[i+1]]) @pcs[:,fl_type[i]:fl_type[i+1]].T)\n",
    "    svd_dist += np.sqrt(2)*np.linalg.norm(q[:,fl_type[i]:fl_type[i+1]] @ q[:,fl_type[i]:fl_type[i+1]].T - pcs[:,fl_type[i]:fl_type[i+1]]@np.linalg.inv(pcs[:,fl_type[i]:fl_type[i+1]].T @ pcs[:,fl_type[i]:fl_type[i+1]]) @pcs[:,fl_type[i]:fl_type[i+1]].T)\n",
    "    qr_dist += np.sqrt(2)*np.linalg.norm(q[:,fl_type[i]:fl_type[i+1]] @ q[:,fl_type[i]:fl_type[i+1]].T - pcs[:,fl_type[i]:fl_type[i+1]]@np.linalg.inv(pcs[:,fl_type[i]:fl_type[i+1]].T @ pcs[:,fl_type[i]:fl_type[i+1]]) @pcs[:,fl_type[i]:fl_type[i+1]].T)\n",
    "\n",
    "print(frep_dist)\n",
    "print(svd_dist)\n",
    "print(qr_dist)"
   ]
  },
  {
   "cell_type": "code",
   "execution_count": 21,
   "metadata": {},
   "outputs": [
    {
     "data": {
      "text/plain": [
       "array([[ 0.00000000e+00,  0.00000000e+00,  0.00000000e+00,\n",
       "         0.00000000e+00,  0.00000000e+00],\n",
       "       [ 3.14777804e-04,  6.81758142e-04, -7.38094832e-05,\n",
       "         1.43815869e-04, -1.57340085e-04],\n",
       "       [ 4.56278875e-02,  1.03432172e-01,  8.25138997e-02,\n",
       "        -7.53545592e-02, -2.57925414e-01],\n",
       "       [ 6.57518868e-02,  2.99053101e-01, -4.57303635e-03,\n",
       "        -4.07545261e-02,  2.36213385e-02],\n",
       "       [ 9.89609415e-03, -1.42471388e-02, -2.54646636e-01,\n",
       "         1.41277441e-01, -6.20674803e-02],\n",
       "       [-4.33411772e-02, -2.59635919e-01, -1.30667708e-01,\n",
       "         3.19588763e-02, -2.31303739e-01],\n",
       "       [-1.31238148e-02, -6.50628122e-02, -1.88616100e-02,\n",
       "        -1.73749862e-02, -1.09253337e-02],\n",
       "       [ 0.00000000e+00,  0.00000000e+00, -1.11022302e-16,\n",
       "        -1.38777878e-16,  1.45716772e-16],\n",
       "       [ 4.23516474e-22,  0.00000000e+00,  0.00000000e+00,\n",
       "         1.11022302e-16, -3.46944695e-16],\n",
       "       [ 1.99878605e-02,  6.73516779e-03,  5.61748680e-03,\n",
       "         1.11996387e-02,  2.30820839e-03],\n",
       "       [ 2.04917305e-01,  1.63967829e-01,  1.11461202e-03,\n",
       "        -8.21142399e-02, -2.50610996e-01],\n",
       "       [-3.28149290e-03,  1.98435239e-01, -8.18219427e-03,\n",
       "        -1.45792334e-01, -3.91901678e-02],\n",
       "       [-6.61583011e-02, -4.76648196e-02, -2.67699539e-01,\n",
       "        -1.00729541e-02,  2.57488546e-01],\n",
       "       [ 8.59269238e-02, -2.35667226e-01, -2.55057084e-01,\n",
       "         6.45561386e-02, -1.59048864e-01],\n",
       "       [ 2.60168511e-03, -7.30478129e-02, -3.92044603e-02,\n",
       "         9.52164428e-03, -8.59216100e-02],\n",
       "       [ 0.00000000e+00,  0.00000000e+00,  0.00000000e+00,\n",
       "        -5.42101086e-20, -2.77555756e-17],\n",
       "       [-8.11973742e-05,  6.62226296e-04,  4.86023835e-05,\n",
       "         6.15023942e-04,  9.90792721e-05],\n",
       "       [ 7.32220763e-02, -1.14223513e-02,  2.18751677e-02,\n",
       "         5.10083440e-02, -5.20516612e-03],\n",
       "       [ 1.84526010e-01,  2.97466736e-02, -5.18307617e-02,\n",
       "        -2.11494742e-01, -2.43460633e-01],\n",
       "       [-2.25067393e-01, -3.56414050e-03, -2.09248997e-02,\n",
       "        -2.83289378e-01, -6.77656357e-02],\n",
       "       [-2.77417245e-01, -1.01635324e-01, -1.64086033e-01,\n",
       "        -7.80457305e-04,  1.09103426e-01],\n",
       "       [ 1.24436346e-01, -2.24594273e-01, -2.33970562e-01,\n",
       "        -7.85250427e-02,  1.74192632e-01],\n",
       "       [ 7.27747804e-02, -3.80011902e-02, -2.93516961e-02,\n",
       "         4.59764918e-02, -1.32104939e-01],\n",
       "       [ 0.00000000e+00,  0.00000000e+00,  0.00000000e+00,\n",
       "         0.00000000e+00,  0.00000000e+00],\n",
       "       [-4.05986871e-05,  3.31113148e-04,  2.43011917e-05,\n",
       "         3.07511971e-04,  4.95396361e-05],\n",
       "       [ 8.28166087e-02, -5.15773279e-02, -1.29413696e-02,\n",
       "         4.35635797e-02, -6.06559398e-02],\n",
       "       [ 9.44056630e-02, -4.28989315e-02, -1.31273539e-01,\n",
       "        -3.49012432e-01, -1.28609545e-01],\n",
       "       [-2.95987424e-01,  3.24013287e-02, -1.77371890e-02,\n",
       "        -2.34208165e-01, -6.21838687e-04],\n",
       "       [-3.17503417e-01, -7.13534443e-02, -6.84005672e-02,\n",
       "         7.04672654e-03, -2.64462451e-02],\n",
       "       [ 8.14745704e-02, -2.61152425e-01, -1.78187639e-01,\n",
       "        -1.24848978e-01,  7.67000825e-02],\n",
       "       [ 1.43737083e-01,  9.91339815e-04, -9.12943935e-03,\n",
       "         4.15285757e-02,  6.65604747e-03],\n",
       "       [ 0.00000000e+00,  0.00000000e+00,  0.00000000e+00,\n",
       "         0.00000000e+00,  0.00000000e+00],\n",
       "       [ 0.00000000e+00,  0.00000000e+00,  0.00000000e+00,\n",
       "         0.00000000e+00,  0.00000000e+00],\n",
       "       [ 1.11216357e-01,  3.73695621e-03, -4.22965628e-02,\n",
       "         4.54268854e-03, -1.47444112e-02],\n",
       "       [ 1.00115953e-01,  8.69858247e-02, -2.74157013e-01,\n",
       "        -3.36182666e-01,  1.28888586e-01],\n",
       "       [-2.75350953e-01,  1.69485704e-01, -1.05942050e-01,\n",
       "        -1.36749172e-01,  3.62018491e-02],\n",
       "       [-3.16253112e-01, -6.57475892e-02,  1.31818167e-02,\n",
       "        -4.37893392e-02, -9.35620775e-02],\n",
       "       [ 9.22962588e-02, -2.68100937e-01, -1.01357482e-01,\n",
       "        -1.39505363e-01, -1.16847647e-01],\n",
       "       [ 1.58280728e-01,  9.21415203e-03, -1.62825989e-03,\n",
       "        -7.72861650e-03,  1.59161273e-01],\n",
       "       [ 0.00000000e+00,  0.00000000e+00,  0.00000000e+00,\n",
       "         0.00000000e+00,  0.00000000e+00],\n",
       "       [ 0.00000000e+00,  0.00000000e+00,  0.00000000e+00,\n",
       "         0.00000000e+00,  0.00000000e+00],\n",
       "       [ 7.24903928e-02,  2.09326463e-02, -3.46908138e-02,\n",
       "         1.37345322e-02, -6.49533914e-02],\n",
       "       [ 1.71164702e-01,  1.88994335e-01, -3.05733297e-01,\n",
       "        -1.72698777e-01,  1.60651496e-01],\n",
       "       [-2.28698244e-01,  2.05904326e-01, -2.52240127e-01,\n",
       "        -6.87845050e-02,  4.00116378e-02],\n",
       "       [-2.80388618e-01, -6.64048592e-02, -1.57017939e-02,\n",
       "        -1.06404326e-01, -2.33977573e-01],\n",
       "       [ 1.42778451e-01, -2.44507976e-01, -2.66591282e-02,\n",
       "        -1.96076340e-01, -1.69859864e-01],\n",
       "       [ 1.29484260e-01,  8.43350147e-03,  2.53402557e-02,\n",
       "        -3.63655551e-02,  2.94240728e-01],\n",
       "       [ 0.00000000e+00,  0.00000000e+00,  0.00000000e+00,\n",
       "         0.00000000e+00,  0.00000000e+00],\n",
       "       [ 0.00000000e+00,  0.00000000e+00,  0.00000000e+00,\n",
       "         0.00000000e+00,  0.00000000e+00],\n",
       "       [ 1.67042763e-02,  7.04536981e-03, -1.23958651e-02,\n",
       "         2.51886139e-03, -4.30499239e-02],\n",
       "       [ 1.84677456e-01,  2.11304222e-01, -1.06290703e-01,\n",
       "        -1.13975691e-01, -9.35542550e-02],\n",
       "       [-5.76818992e-02,  2.79247533e-01, -1.50821359e-01,\n",
       "        -1.52768712e-01,  1.16580593e-01],\n",
       "       [-8.64934665e-02, -1.45008607e-02, -6.31910375e-02,\n",
       "        -1.87054537e-01, -2.38435495e-01],\n",
       "       [ 1.54178708e-01, -2.00468503e-01,  1.81400633e-01,\n",
       "        -3.35176596e-01,  1.44615814e-01],\n",
       "       [ 2.02751067e-02, -6.56271580e-03,  2.21552752e-01,\n",
       "        -1.58783436e-01,  1.92518630e-01],\n",
       "       [-1.29891742e-02,  1.33367161e-02,  8.41232935e-02,\n",
       "        -6.22018762e-02, -1.54895852e-03],\n",
       "       [ 0.00000000e+00,  0.00000000e+00,  0.00000000e+00,\n",
       "         0.00000000e+00,  0.00000000e+00],\n",
       "       [ 6.55095247e-06,  1.14623929e-04, -3.79943950e-04,\n",
       "         7.19284830e-07, -1.98248228e-03],\n",
       "       [ 4.91031962e-02,  9.82230807e-02,  4.70800369e-02,\n",
       "        -6.08944885e-02, -2.37791836e-01],\n",
       "       [ 8.15373840e-02,  2.95934415e-01,  5.74063734e-02,\n",
       "        -2.07456645e-02, -1.30690173e-01],\n",
       "       [-1.56037210e-03,  5.53678686e-02,  7.34260151e-02,\n",
       "        -6.93757040e-02,  1.30249435e-01],\n",
       "       [-4.27368625e-02, -1.91736321e-01,  2.91631674e-01,\n",
       "        -3.00408390e-01,  2.38745753e-01],\n",
       "       [-4.80042484e-02, -7.74926912e-03,  3.23337179e-01,\n",
       "        -2.04312381e-01, -5.96612200e-02],\n",
       "       [-2.87091461e-02,  2.56570676e-02,  2.14239547e-01,\n",
       "        -1.20014448e-01, -6.17660699e-02]])"
      ]
     },
     "execution_count": 21,
     "metadata": {},
     "output_type": "execute_result"
    }
   ],
   "source": [
    "baseline_weights"
   ]
  },
  {
   "cell_type": "code",
   "execution_count": null,
   "metadata": {},
   "outputs": [],
   "source": []
  }
 ],
 "metadata": {
  "kernelspec": {
   "display_name": "flags3",
   "language": "python",
   "name": "python3"
  },
  "language_info": {
   "codemirror_mode": {
    "name": "ipython",
    "version": 3
   },
   "file_extension": ".py",
   "mimetype": "text/x-python",
   "name": "python",
   "nbconvert_exporter": "python",
   "pygments_lexer": "ipython3",
   "version": "3.11.10"
  }
 },
 "nbformat": 4,
 "nbformat_minor": 2
}
