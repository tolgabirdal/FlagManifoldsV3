{
 "cells": [
  {
   "cell_type": "code",
   "execution_count": 1,
   "metadata": {},
   "outputs": [],
   "source": [
    "import numpy as np\n",
    "import pymanopt"
   ]
  },
  {
   "cell_type": "code",
   "execution_count": 2,
   "metadata": {},
   "outputs": [],
   "source": [
    "\n",
    "def generate_flag_data_noisy(n_pts: int, n: int, flag_type: list, noise: float, seed: int = 1) -> list:\n",
    "    np.random.seed(seed)\n",
    "\n",
    "    k = flag_type[-1]\n",
    "    center_pt = np.linalg.qr(np.random.rand(n, k)-.5)[0][:,:k]\n",
    "\n",
    "    data = []\n",
    "    for i in range(n_pts):\n",
    "        rand_mat = center_pt + noise*(np.random.rand(n, k)-.5)\n",
    "        data.append(np.linalg.qr(rand_mat)[0][:,:k])\n",
    "\n",
    "    return data, center_pt"
   ]
  },
  {
   "cell_type": "code",
   "execution_count": 3,
   "metadata": {},
   "outputs": [],
   "source": [
    "flag_type = [1,4,6]\n",
    "n = 10\n",
    "n_pts = 100\n",
    "\n",
    "\n",
    "data, center_pt = generate_flag_data_noisy(n_pts, n, flag_type, 1e-1)\n",
    "data = np.stack(data, axis = 2)\n",
    "\n"
   ]
  },
  {
   "cell_type": "code",
   "execution_count": 4,
   "metadata": {},
   "outputs": [],
   "source": [
    "verbosity = 1"
   ]
  },
  {
   "cell_type": "code",
   "execution_count": 5,
   "metadata": {},
   "outputs": [],
   "source": [
    "\n",
    "\n",
    "n,k,p = data.shape\n",
    "\n",
    "#construct weight matrix\n",
    "weight_mat = np.eye(p)\n",
    "\n",
    "    \n",
    "p_mats = []\n",
    "id_mats = []\n",
    "\n",
    "for i in range(len(flag_type)):\n",
    "\n",
    "    #set the initial f_type_prev to 0\n",
    "    f_type = flag_type[i]\n",
    "    if i-1 < 0:\n",
    "        f_type_prev = 0\n",
    "    else:\n",
    "        f_type_prev = flag_type[i-1]\n",
    "        \n",
    "    #make projection matrices\n",
    "    dim_d_mat = data[:,f_type_prev:f_type,:] @ weight_mat\n",
    "    dim_d_mat = np.reshape(dim_d_mat, (n,(f_type-f_type_prev)*p))\n",
    "    p_mat = dim_d_mat @ dim_d_mat.T \n",
    "    p_mats.append(p_mat)\n",
    "\n",
    "\n",
    "\n",
    "\n",
    "\n"
   ]
  },
  {
   "cell_type": "code",
   "execution_count": 6,
   "metadata": {},
   "outputs": [],
   "source": [
    "flag_type0 = [0]+flag_type\n",
    "m_is = [flag_type0[i]-flag_type0[i-1] for i in range(1,len(flag_type0))]\n",
    "man_list = [pymanopt.manifolds.Grassmann(n,m_i) for m_i in m_is]\n",
    "product_grassmann = pymanopt.manifolds.Product(man_list)"
   ]
  },
  {
   "cell_type": "code",
   "execution_count": 13,
   "metadata": {},
   "outputs": [
    {
     "data": {
      "text/plain": [
       "<pymanopt.manifolds.product.Product at 0x28b8d24d0>"
      ]
     },
     "execution_count": 13,
     "metadata": {},
     "output_type": "execute_result"
    }
   ],
   "source": [
    "product_grassmann"
   ]
  },
  {
   "cell_type": "code",
   "execution_count": 19,
   "metadata": {},
   "outputs": [],
   "source": [
    "#setup up the objective function\n",
    "@pymanopt.function.autograd(product_grassmann)\n",
    "def cost(point):\n",
    "    f = 0\n",
    "    for i in range(len(flag_type)):\n",
    "        f -= np.trace(point[i].T @ p_mats[i] @ point[i])\n",
    "\n",
    "    return f"
   ]
  },
  {
   "cell_type": "code",
   "execution_count": 20,
   "metadata": {},
   "outputs": [],
   "source": [
    "problem = pymanopt.Problem(product_grassmann, cost)"
   ]
  },
  {
   "cell_type": "code",
   "execution_count": 21,
   "metadata": {},
   "outputs": [
    {
     "name": "stdout",
     "output_type": "stream",
     "text": [
      "Optimizing...\n"
     ]
    },
    {
     "ename": "TypeError",
     "evalue": "cost() takes 1 positional argument but 3 were given",
     "output_type": "error",
     "traceback": [
      "\u001b[0;31m---------------------------------------------------------------------------\u001b[0m",
      "\u001b[0;31mTypeError\u001b[0m                                 Traceback (most recent call last)",
      "Cell \u001b[0;32mIn[21], line 13\u001b[0m\n\u001b[1;32m      3\u001b[0m \u001b[38;5;66;03m# optimizer = pymanopt.optimizers.conjugate_gradient.ConjugateGradient(verbosity = verbosity, max_iterations = 20)\u001b[39;00m\n\u001b[1;32m      4\u001b[0m \n\u001b[1;32m      5\u001b[0m \u001b[38;5;66;03m#run the trust regions algorithm\u001b[39;00m\n\u001b[0;32m   (...)\u001b[0m\n\u001b[1;32m      9\u001b[0m \u001b[38;5;66;03m# for i in range(len(flag_type)):\u001b[39;00m\n\u001b[1;32m     10\u001b[0m \u001b[38;5;66;03m#     initial_point.append(initial_point_all[:,flag_type0[i]:flag_type0[i+1]])\u001b[39;00m\n\u001b[1;32m     11\u001b[0m initial_point \u001b[38;5;241m=\u001b[39m product_grassmann\u001b[38;5;241m.\u001b[39mrandom_point()\n\u001b[0;32m---> 13\u001b[0m result \u001b[38;5;241m=\u001b[39m \u001b[43moptimizer\u001b[49m\u001b[38;5;241;43m.\u001b[39;49m\u001b[43mrun\u001b[49m\u001b[43m(\u001b[49m\u001b[43mproblem\u001b[49m\u001b[43m,\u001b[49m\u001b[43m \u001b[49m\u001b[43minitial_point\u001b[49m\u001b[43m \u001b[49m\u001b[38;5;241;43m=\u001b[39;49m\u001b[43m \u001b[49m\u001b[43minitial_point\u001b[49m\u001b[43m)\u001b[49m\n\u001b[1;32m     16\u001b[0m f_mean \u001b[38;5;241m=\u001b[39m result\u001b[38;5;241m.\u001b[39mpoint\n",
      "File \u001b[0;32m~/miniconda3/envs/flags3/lib/python3.11/site-packages/pymanopt/optimizers/conjugate_gradient.py:237\u001b[0m, in \u001b[0;36mConjugateGradient.run\u001b[0;34m(self, problem, initial_point, reuse_line_searcher)\u001b[0m\n\u001b[1;32m    234\u001b[0m column_printer\u001b[38;5;241m.\u001b[39mprint_header()\n\u001b[1;32m    236\u001b[0m \u001b[38;5;66;03m# Calculate initial cost-related quantities.\u001b[39;00m\n\u001b[0;32m--> 237\u001b[0m cost \u001b[38;5;241m=\u001b[39m \u001b[43mobjective\u001b[49m\u001b[43m(\u001b[49m\u001b[43mx\u001b[49m\u001b[43m)\u001b[49m\n\u001b[1;32m    238\u001b[0m grad \u001b[38;5;241m=\u001b[39m gradient(x)\n\u001b[1;32m    239\u001b[0m gradient_norm \u001b[38;5;241m=\u001b[39m manifold\u001b[38;5;241m.\u001b[39mnorm(x, grad)\n",
      "File \u001b[0;32m~/miniconda3/envs/flags3/lib/python3.11/site-packages/pymanopt/core/problem.py:175\u001b[0m, in \u001b[0;36mProblem._wrap_function.<locals>.wrapper\u001b[0;34m(point)\u001b[0m\n\u001b[1;32m    173\u001b[0m \u001b[38;5;129m@functools\u001b[39m\u001b[38;5;241m.\u001b[39mwraps(function)\n\u001b[1;32m    174\u001b[0m \u001b[38;5;28;01mdef\u001b[39;00m \u001b[38;5;21mwrapper\u001b[39m(point):\n\u001b[0;32m--> 175\u001b[0m     \u001b[38;5;28;01mreturn\u001b[39;00m \u001b[43mfunction\u001b[49m\u001b[43m(\u001b[49m\u001b[38;5;241;43m*\u001b[39;49m\u001b[38;5;28;43mself\u001b[39;49m\u001b[38;5;241;43m.\u001b[39;49m\u001b[43m_flatten_arguments\u001b[49m\u001b[43m(\u001b[49m\u001b[43mpoint\u001b[49m\u001b[43m,\u001b[49m\u001b[43m \u001b[49m\u001b[43mpoint_layout\u001b[49m\u001b[43m)\u001b[49m\u001b[43m)\u001b[49m\n",
      "File \u001b[0;32m~/miniconda3/envs/flags3/lib/python3.11/site-packages/pymanopt/autodiff/__init__.py:40\u001b[0m, in \u001b[0;36mFunction.__call__\u001b[0;34m(self, *args, **kwargs)\u001b[0m\n\u001b[1;32m     39\u001b[0m \u001b[38;5;28;01mdef\u001b[39;00m \u001b[38;5;21m__call__\u001b[39m(\u001b[38;5;28mself\u001b[39m, \u001b[38;5;241m*\u001b[39margs, \u001b[38;5;241m*\u001b[39m\u001b[38;5;241m*\u001b[39mkwargs):\n\u001b[0;32m---> 40\u001b[0m     \u001b[38;5;28;01mreturn\u001b[39;00m \u001b[38;5;28;43mself\u001b[39;49m\u001b[38;5;241;43m.\u001b[39;49m\u001b[43m_function\u001b[49m\u001b[43m(\u001b[49m\u001b[38;5;241;43m*\u001b[39;49m\u001b[43margs\u001b[49m\u001b[43m,\u001b[49m\u001b[43m \u001b[49m\u001b[38;5;241;43m*\u001b[39;49m\u001b[38;5;241;43m*\u001b[39;49m\u001b[43mkwargs\u001b[49m\u001b[43m)\u001b[49m\n",
      "\u001b[0;31mTypeError\u001b[0m: cost() takes 1 positional argument but 3 were given"
     ]
    }
   ],
   "source": [
    "# optimizer = pymanopt.optimizers.trust_regions.TrustRegions(verbosity = verbosity)\n",
    "optimizer = pymanopt.optimizers.conjugate_gradient.ConjugateGradient(verbosity = verbosity)\n",
    "# optimizer = pymanopt.optimizers.conjugate_gradient.ConjugateGradient(verbosity = verbosity, max_iterations = 20)\n",
    "\n",
    "#run the trust regions algorithm\n",
    "# mu = np.mean(data, axis = 2)\n",
    "# initial_point_all = np.linalg.qr(mu)[0][:,:flag_type[-1]]\n",
    "# initial_point = []\n",
    "# for i in range(len(flag_type)):\n",
    "#     initial_point.append(initial_point_all[:,flag_type0[i]:flag_type0[i+1]])\n",
    "initial_point = product_grassmann.random_point()\n",
    "    \n",
    "result = optimizer.run(problem, initial_point = initial_point)\n",
    "\n",
    "\n",
    "f_mean = result.point"
   ]
  },
  {
   "cell_type": "code",
   "execution_count": 23,
   "metadata": {},
   "outputs": [
    {
     "data": {
      "text/plain": [
       "[array([[ 0.23195153],\n",
       "        [ 0.46199246],\n",
       "        [-0.14549372],\n",
       "        [-0.47215711],\n",
       "        [ 0.21898411],\n",
       "        [ 0.55661615],\n",
       "        [-0.0291176 ],\n",
       "        [ 0.24187413],\n",
       "        [-0.25744391],\n",
       "        [ 0.07250389]]),\n",
       " array([[-0.11824906, -0.11451024, -0.4382444 ],\n",
       "        [-0.10857468, -0.13106461, -0.02834155],\n",
       "        [ 0.03603835,  0.32139496,  0.24803607],\n",
       "        [-0.25283041, -0.09982131, -0.68712267],\n",
       "        [ 0.26605004,  0.38091062, -0.33464207],\n",
       "        [-0.3479827 ,  0.35692242,  0.08690005],\n",
       "        [ 0.02198959, -0.70071436,  0.0214802 ],\n",
       "        [ 0.48166339,  0.14764661, -0.36679246],\n",
       "        [ 0.43936229,  0.08782596, -0.03256758],\n",
       "        [ 0.54000903, -0.25189366,  0.13372906]]),\n",
       " array([[-0.31150837,  0.32165818],\n",
       "        [-0.13964477, -0.26488342],\n",
       "        [ 0.52255234, -0.17095333],\n",
       "        [-0.24469844, -0.30573346],\n",
       "        [-0.19501027,  0.37415411],\n",
       "        [-0.02409543, -0.2808404 ],\n",
       "        [ 0.4032629 , -0.41976713],\n",
       "        [-0.01861728,  0.12320706],\n",
       "        [-0.03163552,  0.06168218],\n",
       "        [-0.58986916, -0.53816638]])]"
      ]
     },
     "execution_count": 23,
     "metadata": {},
     "output_type": "execute_result"
    }
   ],
   "source": [
    "initial_point"
   ]
  },
  {
   "cell_type": "code",
   "execution_count": 22,
   "metadata": {},
   "outputs": [
    {
     "data": {
      "text/plain": [
       "<pymanopt.autodiff.Function at 0x28c106c50>"
      ]
     },
     "execution_count": 22,
     "metadata": {},
     "output_type": "execute_result"
    }
   ],
   "source": [
    "cost"
   ]
  },
  {
   "cell_type": "code",
   "execution_count": 10,
   "metadata": {},
   "outputs": [
    {
     "data": {
      "text/plain": [
       "[array([[-0.09899253],\n",
       "        [-0.3580259 ],\n",
       "        [-0.34170832],\n",
       "        [-0.41092965],\n",
       "        [ 0.43468024],\n",
       "        [-0.4687383 ],\n",
       "        [ 0.21289779],\n",
       "        [-0.25258335],\n",
       "        [-0.24199867],\n",
       "        [-0.00636455]]),\n",
       " array([[ 0.27072652, -0.32210475,  0.29926746],\n",
       "        [-0.03647827, -0.17677004,  0.14414903],\n",
       "        [ 0.51404727, -0.16781524, -0.05327291],\n",
       "        [-0.17143229,  0.11150912, -0.38210979],\n",
       "        [ 0.27065309, -0.15556657,  0.35341832],\n",
       "        [ 0.07617827,  0.41720497,  0.27249984],\n",
       "        [ 0.2797354 , -0.24715553, -0.50159886],\n",
       "        [ 0.39758461, -0.1552712 ,  0.20017337],\n",
       "        [-0.30944944, -0.69573851, -0.16721626],\n",
       "        [-0.46968315, -0.23853012,  0.47119147]]),\n",
       " array([[-0.32133509,  0.41668337],\n",
       "        [-0.0007772 , -0.43899074],\n",
       "        [-0.16097555, -0.27883428],\n",
       "        [-0.30136809, -0.35442798],\n",
       "        [-0.33004496, -0.46756209],\n",
       "        [ 0.15101354,  0.05855173],\n",
       "        [ 0.49390558, -0.20070137],\n",
       "        [ 0.50107503,  0.12575711],\n",
       "        [-0.11203865,  0.22194174],\n",
       "        [ 0.37510129, -0.32077673]])]"
      ]
     },
     "execution_count": 10,
     "metadata": {},
     "output_type": "execute_result"
    }
   ],
   "source": [
    "initial_point"
   ]
  },
  {
   "cell_type": "code",
   "execution_count": 13,
   "metadata": {},
   "outputs": [
    {
     "data": {
      "text/plain": [
       "[array([[-0.09899253],\n",
       "        [-0.3580259 ],\n",
       "        [-0.34170832],\n",
       "        [-0.41092965],\n",
       "        [ 0.43468024],\n",
       "        [-0.4687383 ],\n",
       "        [ 0.21289779],\n",
       "        [-0.25258335],\n",
       "        [-0.24199867],\n",
       "        [-0.00636455]]),\n",
       " array([[ 0.27072652, -0.32210475,  0.29926746],\n",
       "        [-0.03647827, -0.17677004,  0.14414903],\n",
       "        [ 0.51404727, -0.16781524, -0.05327291],\n",
       "        [-0.17143229,  0.11150912, -0.38210979],\n",
       "        [ 0.27065309, -0.15556657,  0.35341832],\n",
       "        [ 0.07617827,  0.41720497,  0.27249984],\n",
       "        [ 0.2797354 , -0.24715553, -0.50159886],\n",
       "        [ 0.39758461, -0.1552712 ,  0.20017337],\n",
       "        [-0.30944944, -0.69573851, -0.16721626],\n",
       "        [-0.46968315, -0.23853012,  0.47119147]]),\n",
       " array([[-0.32133509,  0.41668337],\n",
       "        [-0.0007772 , -0.43899074],\n",
       "        [-0.16097555, -0.27883428],\n",
       "        [-0.30136809, -0.35442798],\n",
       "        [-0.33004496, -0.46756209],\n",
       "        [ 0.15101354,  0.05855173],\n",
       "        [ 0.49390558, -0.20070137],\n",
       "        [ 0.50107503,  0.12575711],\n",
       "        [-0.11203865,  0.22194174],\n",
       "        [ 0.37510129, -0.32077673]])]"
      ]
     },
     "execution_count": 13,
     "metadata": {},
     "output_type": "execute_result"
    }
   ],
   "source": [
    "initial_point"
   ]
  },
  {
   "cell_type": "code",
   "execution_count": null,
   "metadata": {},
   "outputs": [],
   "source": []
  },
  {
   "cell_type": "code",
   "execution_count": null,
   "metadata": {},
   "outputs": [],
   "source": []
  },
  {
   "cell_type": "code",
   "execution_count": null,
   "metadata": {},
   "outputs": [],
   "source": []
  },
  {
   "cell_type": "code",
   "execution_count": null,
   "metadata": {},
   "outputs": [],
   "source": []
  },
  {
   "cell_type": "code",
   "execution_count": null,
   "metadata": {},
   "outputs": [],
   "source": [
    "\n",
    "    n,k,p = data.shape\n",
    "\n",
    "    #construct weight matrix\n",
    "    weight_mat = np.eye(p)\n",
    "    if len(weights) > 0:\n",
    "         weight_mat[np.arange(p), np.arange(p)] = np.sqrt(weights)\n",
    "\n",
    "    \n",
    "    p_mats = []\n",
    "    id_mats = []\n",
    "\n",
    "    for i in range(len(flag_type)):\n",
    "\n",
    "        #set the initial f_type_prev to 0\n",
    "        f_type = flag_type[i]\n",
    "        if i-1 < 0:\n",
    "            f_type_prev = 0\n",
    "        else:\n",
    "            f_type_prev = flag_type[i-1]\n",
    "        \n",
    "        #make projection matrices\n",
    "        dim_d_mat = data[:,f_type_prev:f_type,:] @ weight_mat\n",
    "        dim_d_mat = np.reshape(dim_d_mat, (n,(f_type-f_type_prev)*p))\n",
    "        p_mat = dim_d_mat @ dim_d_mat.T \n",
    "        p_mats.append(p_mat)\n",
    "\n",
    "        #make identity matrices\n",
    "        id_mat = np.zeros((k,k))\n",
    "        id_mat[np.arange(f_type_prev,f_type,1),np.arange(f_type_prev,f_type,1)] = 1\n",
    "        id_mats.append(id_mat)\n",
    "\n",
    "    if manifold == 'stiefel':\n",
    "        # initialize a stiefel manifold object\n",
    "        St = pymanopt.manifolds.stiefel.Stiefel(n,k)\n",
    "    elif manifold == 'flag':\n",
    "        # get proper flag type\n",
    "        \n",
    "        real_flag_type = []\n",
    "        real_flag_type.append(flag_type[0])\n",
    "        for i in range(1,len(flag_type)):\n",
    "            real_flag_type.append(flag_type[i] - flag_type[i-1])\n",
    "        real_flag_type.append(n - flag_type[-1])\n",
    "        real_flag_type.reverse()\n",
    "\n",
    "        print(real_flag_type)        \n",
    "\n",
    "        # initialize a flag manifold object\n",
    "        St = RealFlag(np.array(real_flag_type))\n",
    "\n",
    "    #setu up the objective function\n",
    "    @pymanopt.function.autograd(St)\n",
    "    def cost(point):\n",
    "        f = 0\n",
    "        for i in np.arange(len(p_mats)):\n",
    "            if i < 1:\n",
    "                f_type_before = 0\n",
    "            else:\n",
    "                f_type_before = flag_type[i-1]\n",
    "\n",
    "            k_i = flag_type[i] - f_type_before\n",
    "            \n",
    "            f += p*k_i-np.trace(id_mats[i] @ point.T @ p_mats[i] @ point)\n",
    "\n",
    "        return f\n",
    "\n",
    "    problem = pymanopt.Problem(St, cost)\n",
    "\n",
    "# , max_iterations = 20, max_time = 20)\n",
    "    optimizer = pymanopt.optimizers.trust_regions.TrustRegions(verbosity = verbosity)\n",
    "    #optimizer = pymanopt.optimizers.conjugate_gradient.ConjugateGradient(verbosity = verbosity)\n",
    "    # optimizer = pymanopt.optimizers.conjugate_gradient.ConjugateGradient(verbosity = verbosity, max_iterations = 20)\n",
    "\n",
    "    #run the trust regions algorithm\n",
    "    if initial_point is None:\n",
    "        mu = np.mean(data, axis = 2)\n",
    "        initial_point = np.linalg.qr(mu)[0][:,:flag_type[-1]]\n",
    "        result = optimizer.run(problem, initial_point = initial_point)\n",
    "    else:\n",
    "        result = optimizer.run(problem, initial_point = initial_point)\n",
    "    \n",
    "    f_mean = result.point\n",
    "\n"
   ]
  },
  {
   "cell_type": "code",
   "execution_count": null,
   "metadata": {},
   "outputs": [],
   "source": []
  },
  {
   "cell_type": "code",
   "execution_count": null,
   "metadata": {},
   "outputs": [],
   "source": []
  },
  {
   "cell_type": "code",
   "execution_count": null,
   "metadata": {},
   "outputs": [],
   "source": [
    "import sys\n",
    "sys.path.append('../scripts')\n",
    "\n",
    "import fl_algorithms as fla\n",
    "import center_algorithms as ca\n",
    "\n",
    "from matplotlib import pyplot as plt\n",
    "\n",
    "import numpy as np\n",
    "\n",
    "import pandas as pd\n",
    "\n",
    "def generate_flag_data_noisy(n_pts: int, n: int, flag_type: list, noise: float, seed: int = 1) -> list:\n",
    "    np.random.seed(seed)\n",
    "\n",
    "    k = flag_type[-1]\n",
    "    center_pt = np.linalg.qr(np.random.rand(n, k)-.5)[0][:,:k]\n",
    "\n",
    "    data = []\n",
    "    for i in range(n_pts):\n",
    "        rand_mat = center_pt + noise*(np.random.rand(n, k)-.5)\n",
    "        data.append(np.linalg.qr(rand_mat)[0][:,:k])\n",
    "\n",
    "    return data, center_pt\n",
    "        \n",
    "\n",
    "def generate_flag_data_outliers(n_inliers: int, n_outliers: int, flag_type: list, seed: int = 2) -> list:\n",
    "    np.random.seed(seed)\n",
    "\n",
    "    k = flag_type[-1]\n",
    "    center_pt = np.linalg.qr(np.random.rand(n, k)-.5)[0][:,:k]\n",
    "\n",
    "    data = []\n",
    "    for i in range(n_inliers):\n",
    "        rand_mat = center_pt + 0.001*(np.random.rand(n, k)-.5)\n",
    "        data.append(np.linalg.qr(rand_mat)[0][:,:k])\n",
    "    for i in range(n_outliers):\n",
    "        rand_mat = center_pt + (np.random.rand(n, k)-.5)\n",
    "        data.append(np.linalg.qr(rand_mat)[0][:,:k])\n",
    "\n",
    "    return data, center_pt\n",
    "\n",
    "\n",
    "\n",
    "if __name__ == '__main__':\n",
    "    \n",
    "    n_pts = 100\n",
    "    n = 10\n",
    "    flag_type = [1,3]   \n",
    "\n",
    "    n_its = 10\n",
    "\n",
    "    k = flag_type[-1]\n",
    " \n",
    "    m_errs = []\n",
    "    med_errs = []\n",
    "    rfm_errs = []\n",
    "    rfmed_errs = []\n",
    "    n_errs = []\n",
    "    e_errs = []\n",
    "\n",
    "    noises = []\n",
    "\n",
    "    #for exp in range(1,100,5):\n",
    "        #noise = exp/50\n",
    "        #noises.append(noise)\n",
    "\n",
    "        #data, center_pt = generate_flag_data(n_pts, n, flag_type, noise)\n",
    "    for n_outliers in range(20):\n",
    "        noises.append(n_outliers/n_pts)\n",
    "        data, center_pt = generate_flag_data_outliers(n_pts-n_outliers, n_outliers, flag_type)\n",
    "        stacked_data = np.stack(data, axis = 2)\n",
    "\n",
    "        real_flag_mean = fla.flag_mean(stacked_data,  flag_type = flag_type)  \n",
    "\n",
    "        real_flag_median = fla.flag_median(stacked_data,  flag_type = flag_type, max_iters = 100)\n",
    "\n",
    "        #distances to center pt\n",
    "        rfm_errs.append(fla.chordal_dist(real_flag_mean, center_pt, flag_type))\n",
    "\n",
    "        rfmed_errs.append(fla.chordal_dist(real_flag_median, center_pt, flag_type))\n",
    "\n",
    "    # plot results\n",
    "    fig, (ax1, ax2) = plt.subplots(1, 2, figsize=(6, 3))\n",
    "    ax1.plot(noises, rfmed_errs, marker = 's', label = 'Flag Median (Ours)')\n",
    "    ax1.plot(noises, rfm_errs, marker = 'x', label = 'Flag Mean (Ours)')\n",
    "    ax1.set(xlabel='Outlier Ratio', ylabel='Chordal Distance from Center')\n",
    "    ax1.legend()\n",
    "\n",
    "    outlier_results = pd.DataFrame()\n",
    "    outlier_results['Outlier Ratio'] = noises\n",
    "    outlier_results['FL-Mean (Ours)'] = rfm_errs\n",
    "    outlier_results['FL-Median (Ours)'] = rfmed_errs\n",
    "\n",
    "\n",
    "    # plt.savefig('synth_flags_outliers.pdf')\n",
    "\n",
    "    m_errs = []\n",
    "    med_errs = []\n",
    "    rfm_errs = []\n",
    "    rfmed_errs = []\n",
    "    n_errs = []\n",
    "    e_errs = []\n",
    "\n",
    "    noises = []\n",
    "\n",
    "\n",
    "    for exp in range(1,45,5):\n",
    "        noise = exp/50\n",
    "        noises.append(noise)\n",
    "\n",
    "        data, center_pt = generate_flag_data_noisy(n_pts, n, flag_type, noise)\n",
    "        stacked_data = np.stack(data, axis = 2)\n",
    "\n",
    "        real_flag_mean = fla.flag_mean(stacked_data,  flag_type = flag_type)      \n",
    "\n",
    "        real_flag_median = fla.flag_median(stacked_data,  flag_type = flag_type, max_iters = 100)\n",
    "\n",
    "        #distances to center pt\n",
    "        rfm_errs.append(fla.chordal_dist(real_flag_mean, center_pt, flag_type))\n",
    "\n",
    "        rfmed_errs.append(fla.chordal_dist(real_flag_median, center_pt, flag_type))\n",
    "\n",
    "\n",
    "    # plot results\n",
    "    ax2.plot(noises, rfmed_errs, marker = 's', label = 'FL-Median (Ours)')\n",
    "    ax2.plot(noises, rfm_errs, marker = 'x', label = 'FL-Mean (Ours)')\n",
    "\n",
    "    ax2.set(xlabel='Noise')\n",
    "\n",
    "    \n",
    "\n",
    "    plt.tight_layout()\n",
    "    plt.savefig('flagmeancompare.pdf')\n",
    "\n",
    "    noise_results = pd.DataFrame()\n",
    "    noise_results['Noise'] = noises\n",
    "    noise_results['FL-Mean (Ours)'] = rfm_errs\n",
    "    noise_results['FL-Median (Ours)'] = rfmed_errs\n"
   ]
  },
  {
   "cell_type": "code",
   "execution_count": null,
   "metadata": {},
   "outputs": [],
   "source": []
  }
 ],
 "metadata": {
  "kernelspec": {
   "display_name": "flags3",
   "language": "python",
   "name": "python3"
  },
  "language_info": {
   "codemirror_mode": {
    "name": "ipython",
    "version": 3
   },
   "file_extension": ".py",
   "mimetype": "text/x-python",
   "name": "python",
   "nbconvert_exporter": "python",
   "pygments_lexer": "ipython3",
   "version": "3.11.9"
  }
 },
 "nbformat": 4,
 "nbformat_minor": 2
}
