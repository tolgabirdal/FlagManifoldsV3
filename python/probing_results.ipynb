{
 "cells": [
  {
   "cell_type": "code",
   "execution_count": 1,
   "metadata": {},
   "outputs": [],
   "source": [
    "import os\n",
    "import pandas as pd"
   ]
  },
  {
   "cell_type": "code",
   "execution_count": 2,
   "metadata": {},
   "outputs": [],
   "source": [
    "res = pd.read_csv('../results/eurosat_probing.csv', index_col = 0)\n",
    "res['Data Set'] = 'EuroSat'\n",
    "res['Dimension'] = res['N Shots'] - 1\n",
    "all_results = res\n",
    "\n",
    "datasets = {\n",
    "            'Flowers102': 'flowers',\n",
    "            'CIFAR-10': 'cifar10',\n",
    "            'UCMerced': 'ucmerced',\n",
    "            'PatternNet': 'patternnet'\n",
    "            }\n",
    "\n",
    "base_path = '../results'\n",
    "suffix = '_probing.csv'\n",
    "for d_name in datasets.keys():\n",
    "    d_id = datasets[d_name]\n",
    "    path = os.path.join(base_path,f'{d_id}{suffix}')\n",
    "    res = pd.read_csv(path, index_col = 0)\n",
    "    res['Data Set'] = d_name\n",
    "    if d_id in ['flowers', 'cifar10']:\n",
    "        res['Dimension'] = 1\n",
    "    else:\n",
    "        res['Dimension'] = res['N Shots'] - 1\n",
    "    all_results = pd.concat([all_results, res])"
   ]
  },
  {
   "cell_type": "code",
   "execution_count": 7,
   "metadata": {},
   "outputs": [
    {
     "name": "stdout",
     "output_type": "stream",
     "text": [
      "    N Shots        Method    Data Set  Dimension  Accuracy Mean  Accuracy Std\n",
      "0         3      FlagNets    CIFAR-10          1        0.59158      0.007516\n",
      "5         3     ProtoNets    CIFAR-10          1        0.58432      0.008303\n",
      "10        3  SubspaceNets    CIFAR-10          1        0.58527      0.008922\n",
      "15        5      FlagNets    CIFAR-10          1        0.65138      0.008593\n",
      "20        5     ProtoNets    CIFAR-10          1        0.64460      0.010338\n",
      "25        5  SubspaceNets    CIFAR-10          1        0.63779      0.009288\n",
      "30        7      FlagNets    CIFAR-10          1        0.68414      0.007193\n",
      "35        7     ProtoNets    CIFAR-10          1        0.67886      0.008037\n",
      "40        7  SubspaceNets    CIFAR-10          1        0.66739      0.007335\n",
      "1         3      FlagNets     EuroSat          2        0.77443      0.010369\n",
      "6         3     ProtoNets     EuroSat          2        0.75917      0.008956\n",
      "11        3  SubspaceNets     EuroSat          2        0.76830      0.010507\n",
      "16        5      FlagNets     EuroSat          4        0.81570      0.007547\n",
      "21        5     ProtoNets     EuroSat          4        0.79816      0.007604\n",
      "26        5  SubspaceNets     EuroSat          4        0.80836      0.007892\n",
      "31        7      FlagNets     EuroSat          6        0.83630      0.007741\n",
      "36        7     ProtoNets     EuroSat          6        0.81678      0.007708\n",
      "41        7  SubspaceNets     EuroSat          6        0.82878      0.007988\n",
      "2         3      FlagNets  Flowers102          1        0.89383      0.009219\n",
      "7         3     ProtoNets  Flowers102          1        0.87852      0.009147\n",
      "12        3  SubspaceNets  Flowers102          1        0.88781      0.007643\n",
      "17        5      FlagNets  Flowers102          1        0.92257      0.005157\n",
      "22        5     ProtoNets  Flowers102          1        0.91050      0.005767\n",
      "27        5  SubspaceNets  Flowers102          1        0.92026      0.005260\n",
      "32        7      FlagNets  Flowers102          1        0.93452      0.004924\n",
      "37        7     ProtoNets  Flowers102          1        0.92295      0.005172\n",
      "42        7  SubspaceNets  Flowers102          1        0.93409      0.005445\n",
      "3         3      FlagNets  PatternNet          2        0.93663      0.006205\n",
      "8         3     ProtoNets  PatternNet          2        0.91807      0.006319\n",
      "13        3  SubspaceNets  PatternNet          2        0.93106      0.005968\n",
      "18        5      FlagNets  PatternNet          4        0.96002      0.003748\n",
      "23        5     ProtoNets  PatternNet          4        0.94451      0.005185\n",
      "28        5  SubspaceNets  PatternNet          4        0.95534      0.004083\n",
      "33        7      FlagNets  PatternNet          6        0.96988      0.002344\n",
      "38        7     ProtoNets  PatternNet          6        0.95592      0.002618\n",
      "43        7  SubspaceNets  PatternNet          6        0.96656      0.002542\n",
      "4         3      FlagNets    UCMerced          2        0.84236      0.012456\n",
      "9         3     ProtoNets    UCMerced          2        0.81237      0.011864\n",
      "14        3  SubspaceNets    UCMerced          2        0.83401      0.011899\n",
      "19        5      FlagNets    UCMerced          4        0.88610      0.007070\n",
      "24        5     ProtoNets    UCMerced          4        0.86354      0.007381\n",
      "29        5  SubspaceNets    UCMerced          4        0.87660      0.007949\n",
      "34        7      FlagNets    UCMerced          6        0.91110      0.004925\n",
      "39        7     ProtoNets    UCMerced          6        0.88721      0.006164\n",
      "44        7  SubspaceNets    UCMerced          6        0.90246      0.005250\n"
     ]
    }
   ],
   "source": [
    "\n",
    "\n",
    "# Group by 'N Shots', 'Method', and 'Data Set' and calculate mean and std\n",
    "summary_df = all_results.groupby(['N Shots', 'Method', 'Data Set', 'Dimension'])['Accuracy'].agg(['mean', 'std']).reset_index()\n",
    "\n",
    "# Rename columns for clarity\n",
    "summary_df.rename(columns={'mean': 'Accuracy Mean', 'std': 'Accuracy Std'}, inplace=True)\n",
    "\n",
    "summary_df = summary_df.sort_values(by = ['Data Set', 'N Shots', 'Method'])\n",
    "\n",
    "# Display the result\n",
    "print(summary_df)\n"
   ]
  },
  {
   "cell_type": "code",
   "execution_count": 8,
   "metadata": {},
   "outputs": [
    {
     "name": "stdout",
     "output_type": "stream",
     "text": [
      "Method             FlagNets ProtoNets SubspaceNets\n",
      "N Shots Data Set                                  \n",
      "3       EuroSat       0.774     0.759        0.768\n",
      "        CIFAR-10      0.592     0.584        0.585\n",
      "        Flowers102    0.894     0.879        0.888\n",
      "5       EuroSat       0.816     0.798        0.808\n",
      "        CIFAR-10      0.651     0.645        0.638\n",
      "        Flowers102    0.923     0.911         0.92\n",
      "7       EuroSat       0.836     0.817        0.829\n",
      "        CIFAR-10      0.684     0.679        0.667\n",
      "        Flowers102    0.935     0.923        0.934\n",
      "\\begin{tabular}{lllll}\n",
      "\\toprule\n",
      " & Method & FlagNets & ProtoNets & SubspaceNets \\\\\n",
      "N Shots & Data Set &  &  &  \\\\\n",
      "\\midrule\n",
      "\\multirow[t]{3}{*}{3} & EuroSat & 0.774 & 0.759 & 0.768 \\\\\n",
      " & CIFAR-10 & 0.592 & 0.584 & 0.585 \\\\\n",
      " & Flowers102 & 0.894 & 0.879 & 0.888 \\\\\n",
      "\\cline{1-5}\n",
      "\\multirow[t]{3}{*}{5} & EuroSat & 0.816 & 0.798 & 0.808 \\\\\n",
      " & CIFAR-10 & 0.651 & 0.645 & 0.638 \\\\\n",
      " & Flowers102 & 0.923 & 0.911 & 0.92 \\\\\n",
      "\\cline{1-5}\n",
      "\\multirow[t]{3}{*}{7} & EuroSat & 0.836 & 0.817 & 0.829 \\\\\n",
      " & CIFAR-10 & 0.684 & 0.679 & 0.667 \\\\\n",
      " & Flowers102 & 0.935 & 0.923 & 0.934 \\\\\n",
      "\\cline{1-5}\n",
      "\\bottomrule\n",
      "\\end{tabular}\n",
      "\n"
     ]
    },
    {
     "name": "stderr",
     "output_type": "stream",
     "text": [
      "/tmp/ipykernel_270979/317577426.py:10: FutureWarning: The default value of observed=False is deprecated and will change to observed=True in a future version of pandas. Specify observed=False to silence this warning and retain the current behavior\n",
      "  pivot_df = summary_df.pivot_table(\n",
      "/tmp/ipykernel_270979/317577426.py:16: FutureWarning: DataFrame.applymap has been deprecated. Use DataFrame.map instead.\n",
      "  pivot_df = pivot_df.applymap(lambda x: f\"{x:.3f}\".rstrip('0').rstrip('.') if pd.notnull(x) else '')\n"
     ]
    }
   ],
   "source": [
    "# Define the custom order for 'Data Set'\n",
    "data_set_order = ['EuroSat', 'CIFAR-10', 'Flowers102']\n",
    "\n",
    "# Convert 'Data Set' to a categorical type with the specified order\n",
    "summary_df['Data Set'] = pd.Categorical(summary_df['Data Set'], categories=data_set_order, ordered=True)\n",
    "\n",
    "\n",
    "# for n_shots in summary_df['N Shots'].unique():\n",
    "#     idx = summary_df['N Shots'] == n_shots\n",
    "pivot_df = summary_df.pivot_table(\n",
    "    columns= 'Method',\n",
    "    index= ['N Shots', 'Data Set'],\n",
    "    values='Accuracy Mean'\n",
    ")\n",
    "pivot_df = pivot_df.round(3)\n",
    "pivot_df = pivot_df.applymap(lambda x: f\"{x:.3f}\".rstrip('0').rstrip('.') if pd.notnull(x) else '')\n",
    "print(pivot_df)\n",
    "print(pivot_df.to_latex(index=True))"
   ]
  },
  {
   "cell_type": "code",
   "execution_count": null,
   "metadata": {},
   "outputs": [],
   "source": []
  }
 ],
 "metadata": {
  "kernelspec": {
   "display_name": "flags3",
   "language": "python",
   "name": "python3"
  },
  "language_info": {
   "codemirror_mode": {
    "name": "ipython",
    "version": 3
   },
   "file_extension": ".py",
   "mimetype": "text/x-python",
   "name": "python",
   "nbconvert_exporter": "python",
   "pygments_lexer": "ipython3",
   "version": "3.12.3"
  }
 },
 "nbformat": 4,
 "nbformat_minor": 2
}
