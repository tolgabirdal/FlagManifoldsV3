{
 "cells": [
  {
   "cell_type": "code",
   "execution_count": 1,
   "metadata": {},
   "outputs": [],
   "source": [
    "import numpy as np\n",
    "from FlagRep import FlagRep\n",
    "from matplotlib import pyplot as plt\n",
    "\n",
    "from FlagRepp import FlagRepp"
   ]
  },
  {
   "cell_type": "code",
   "execution_count": null,
   "metadata": {},
   "outputs": [],
   "source": []
  },
  {
   "cell_type": "code",
   "execution_count": 2,
   "metadata": {},
   "outputs": [
    {
     "name": "stdout",
     "output_type": "stream",
     "text": [
      "matrix rank is 1\n",
      "matrix rank is 1\n",
      "(2, 4)\n",
      "total shape is (2, 4), total rank is 2\n"
     ]
    }
   ],
   "source": [
    "n = 2\n",
    "p = 4\n",
    "\n",
    "hidden_flag_type = [1,2]\n",
    "\n",
    "hidden_ms = [1,1]\n",
    "col_ids = [2,2]\n",
    "\n",
    "np.random.seed(42)\n",
    "\n",
    "\n",
    "D = []\n",
    "for i in range(len(hidden_flag_type)):\n",
    "    # Set dimensions\n",
    "    rows = n\n",
    "    cols = col_ids[i]\n",
    "\n",
    "    # Generate a random matrix of rank < cols\n",
    "    # First, create a matrix of lower rank (rank < cols)\n",
    "    rank = hidden_ms[i] # Specify the desired rank\n",
    "    low_rank_matrix = np.random.randn(rows, rank)\n",
    "\n",
    "    if i > 0:\n",
    "        # Multiply by another random matrix to get the final matrix with more columns\n",
    "        random_matrix = (np.eye(n) - random_matrix @np.linalg.pinv(random_matrix.T @ random_matrix) @ random_matrix.T) @ low_rank_matrix @ np.random.randn(rank, cols)\n",
    "    else:\n",
    "        random_matrix =  low_rank_matrix @ np.random.randn(rank, cols)\n",
    "\n",
    "    # Verify the rank of the matrix\n",
    "    rank_of_matrix = np.linalg.matrix_rank(random_matrix)\n",
    "    print(f'matrix rank is {rank_of_matrix}')\n",
    "\n",
    "    D.append(random_matrix)\n",
    "\n",
    "D = np.hstack(D)\n",
    "print(D.shape)\n",
    "print(f'total shape is {D.shape}, total rank is {np.linalg.matrix_rank(D)}')\n"
   ]
  },
  {
   "cell_type": "code",
   "execution_count": 3,
   "metadata": {},
   "outputs": [],
   "source": [
    "Aset = [np.arange(c) for c in np.cumsum(col_ids)]\n",
    "fl_type = np.cumsum(hidden_ms)"
   ]
  },
  {
   "cell_type": "code",
   "execution_count": 4,
   "metadata": {},
   "outputs": [
    {
     "data": {
      "text/plain": [
       "2"
      ]
     },
     "execution_count": 4,
     "metadata": {},
     "output_type": "execute_result"
    }
   ],
   "source": [
    "len(fl_type)"
   ]
  },
  {
   "cell_type": "code",
   "execution_count": 5,
   "metadata": {},
   "outputs": [],
   "source": [
    "fr0 = FlagRep(Aset = Aset, flag_type=fl_type)\n",
    "Q0,R0 = fr0.fit_transform(D)"
   ]
  },
  {
   "cell_type": "code",
   "execution_count": 6,
   "metadata": {},
   "outputs": [
    {
     "name": "stdout",
     "output_type": "stream",
     "text": [
      "warning! QR doesnt support input flag type\n",
      "[[-7.85272136e-01 -3.33947335e-01]\n",
      " [ 0.00000000e+00  1.52488543e-17]]\n",
      "[[-0.78527214 -0.33394734]]\n",
      "warning! QR doesnt support input flag type\n",
      "[[4.55370066e-01 2.21291773e-01]\n",
      " [0.00000000e+00 2.93890045e-17]]\n",
      "[[0.45537007 0.22129177]]\n",
      "(1, 2)\n",
      "(1, 2)\n",
      "(1, 2)\n",
      "(1, 2)\n"
     ]
    }
   ],
   "source": [
    "fr1 = FlagRepp(Aset = Aset, flag_type=fl_type, solver = 'qr')\n",
    "Q1,R1 = fr1.fit_transform(D)"
   ]
  },
  {
   "cell_type": "code",
   "execution_count": 7,
   "metadata": {},
   "outputs": [
    {
     "data": {
      "text/plain": [
       "np.float64(1.0000000000000002)"
      ]
     },
     "execution_count": 7,
     "metadata": {},
     "output_type": "execute_result"
    }
   ],
   "source": [
    "Q0[:,1].T @ Q1[:,1]"
   ]
  },
  {
   "cell_type": "code",
   "execution_count": 8,
   "metadata": {},
   "outputs": [
    {
     "data": {
      "text/plain": [
       "array([[-3.33947335e-01, -7.85272136e-01,  8.32667268e-17,\n",
       "         4.16333634e-17],\n",
       "       [ 0.00000000e+00,  0.00000000e+00,  4.55370066e-01,\n",
       "         2.21291773e-01]])"
      ]
     },
     "execution_count": 8,
     "metadata": {},
     "output_type": "execute_result"
    }
   ],
   "source": [
    "R0"
   ]
  },
  {
   "cell_type": "code",
   "execution_count": 9,
   "metadata": {},
   "outputs": [
    {
     "data": {
      "text/plain": [
       "np.float64(2.000000000000001)"
      ]
     },
     "execution_count": 9,
     "metadata": {},
     "output_type": "execute_result"
    }
   ],
   "source": [
    "np.linalg.trace(Q0.T @ Q1 @ Q1.T @ Q0)"
   ]
  },
  {
   "cell_type": "code",
   "execution_count": null,
   "metadata": {},
   "outputs": [
    {
     "ename": "ValueError",
     "evalue": "matmul: Input operand 1 has a mismatch in its core dimension 0, with gufunc signature (n?,k),(k,m?)->(n?,m?) (size 4 is different from 2)",
     "output_type": "error",
     "traceback": [
      "\u001b[0;31m---------------------------------------------------------------------------\u001b[0m",
      "\u001b[0;31mValueError\u001b[0m                                Traceback (most recent call last)",
      "Cell \u001b[0;32mIn[11], line 1\u001b[0m\n\u001b[0;32m----> 1\u001b[0m np\u001b[38;5;241m.\u001b[39mlinalg\u001b[38;5;241m.\u001b[39mnorm(Q0 \u001b[38;5;241m@\u001b[39m R0 \u001b[38;5;241m-\u001b[39m D), np\u001b[38;5;241m.\u001b[39mlinalg\u001b[38;5;241m.\u001b[39mnorm(\u001b[43mQ1\u001b[49m\u001b[43m \u001b[49m\u001b[38;5;241;43m@\u001b[39;49m\u001b[43m \u001b[49m\u001b[43mR1\u001b[49m\u001b[38;5;241;43m.\u001b[39;49m\u001b[43mT\u001b[49m \u001b[38;5;241m-\u001b[39m D)\n",
      "\u001b[0;31mValueError\u001b[0m: matmul: Input operand 1 has a mismatch in its core dimension 0, with gufunc signature (n?,k),(k,m?)->(n?,m?) (size 4 is different from 2)"
     ]
    }
   ],
   "source": [
    "np.linalg.norm(Q0 @ R0 - D), np.linalg.norm(Q1 @ R1 - D)"
   ]
  },
  {
   "cell_type": "code",
   "execution_count": 12,
   "metadata": {},
   "outputs": [
    {
     "data": {
      "text/plain": [
       "<matplotlib.image.AxesImage at 0x7420153c24e0>"
      ]
     },
     "execution_count": 12,
     "metadata": {},
     "output_type": "execute_result"
    },
    {
     "data": {
      "image/png": "[encoded data removed]",
      "text/plain": [
       "<Figure size 640x480 with 1 Axes>"
      ]
     },
     "metadata": {},
     "output_type": "display_data"
    }
   ],
   "source": [
    "plt.imshow(R1)"
   ]
  },
  {
   "cell_type": "code",
   "execution_count": 13,
   "metadata": {},
   "outputs": [
    {
     "data": {
      "text/plain": [
       "<matplotlib.image.AxesImage at 0x741ff8d23590>"
      ]
     },
     "execution_count": 13,
     "metadata": {},
     "output_type": "execute_result"
    },
    {
     "data": {
      "image/png": "[encoded data removed]",
      "text/plain": [
       "<Figure size 640x480 with 1 Axes>"
      ]
     },
     "metadata": {},
     "output_type": "display_data"
    }
   ],
   "source": [
    "plt.imshow(R0)"
   ]
  },
  {
   "cell_type": "code",
   "execution_count": null,
   "metadata": {},
   "outputs": [],
   "source": [
    "from torchvision.models import alexnet\n",
    "alexnet()"
   ]
  },
  {
   "cell_type": "code",
   "execution_count": null,
   "metadata": {},
   "outputs": [],
   "source": [
    "import pandas as pd\n",
    "data0 = pd.read_csv('../results/eurosat_probing.csv')"
   ]
  },
  {
   "cell_type": "code",
   "execution_count": null,
   "metadata": {},
   "outputs": [],
   "source": [
    "import seaborn as sns\n",
    "sns.boxplot(data0, hue = 'Method', x = 'N Shots', y = 'Accuracy')"
   ]
  },
  {
   "cell_type": "code",
   "execution_count": null,
   "metadata": {},
   "outputs": [],
   "source": [
    "import pandas as pd\n",
    "data0 = pd.read_csv('../results/cifar10_probing.csv')\n",
    "\n",
    "data1 = pd.read_csv('../results/cifar10_probing1.csv')"
   ]
  },
  {
   "cell_type": "code",
   "execution_count": null,
   "metadata": {},
   "outputs": [],
   "source": [
    "idx0 = (data0['Method'] == 'FlagNets') & (data0['N Shots'] == 7)\n",
    "data0[idx0]['Accuracy'].mean()"
   ]
  },
  {
   "cell_type": "code",
   "execution_count": null,
   "metadata": {},
   "outputs": [],
   "source": [
    "idx1 = (data1['Method'] == 'FlagNets') & (data1['N Shots'] == 7)\n",
    "data1[idx1]['Accuracy'].mean()"
   ]
  },
  {
   "cell_type": "code",
   "execution_count": null,
   "metadata": {},
   "outputs": [],
   "source": [
    "from torchvision.models import alexnet\n",
    "from torch import nn\n",
    "from PrototypicalNetworks import PrototypicalNetworks\n",
    "\n",
    "backbone = alexnet(pretrained = True)\n",
    "backbone.classifier[6] = nn.Flatten()\n",
    "for param in backbone.features.parameters():\n",
    "    param.requires_grad = False\n",
    "\n",
    "print(backbone)\n",
    "\n",
    "model = PrototypicalNetworks(backbone, head = 'ProtoNet')\n",
    "\n",
    "print(model)"
   ]
  },
  {
   "cell_type": "code",
   "execution_count": null,
   "metadata": {},
   "outputs": [],
   "source": [
    "for param in backbone.features.parameters():\n",
    "    print(param.requires_grad)"
   ]
  },
  {
   "cell_type": "code",
   "execution_count": null,
   "metadata": {},
   "outputs": [],
   "source": [
    "for param in backbone.classifier.parameters():\n",
    "    print(param.requires_grad)"
   ]
  },
  {
   "cell_type": "code",
   "execution_count": null,
   "metadata": {},
   "outputs": [],
   "source": [
    "#### NETWORK HEAD CHECK!\n",
    "\n",
    "import torch\n",
    "from PrototypicalFlagNetworks import PrototypicalFlagNetworks\n",
    "from AlexNetLastTwoLayers import AlexNetLastTwoLayers\n",
    "from torchvision.models import alexnet\n",
    "from NetworkHeads import FlagNetHead, SubspaceNetHead\n",
    "\n",
    "n_shot = 3\n",
    "n_way = 2\n",
    "\n",
    "ss2_0 = torch.rand((100))\n",
    "ss2_0 = ss2_0/torch.linalg.norm(ss2_0)\n",
    "\n",
    "ss1_0 = (torch.eye(100)-ss2_0.outer(ss2_0)).mm(torch.rand((100,1)))\n",
    "ss1_0 = ss1_0/torch.linalg.norm(ss1_0)\n",
    "ss1_0 = ss1_0.squeeze(-1)\n",
    "\n",
    "ss2_1 = torch.rand((100))\n",
    "ss2_1 = ss2_1/torch.linalg.norm(ss2_1)\n",
    "\n",
    "ss1_1 = (torch.eye(100)-ss2_1.outer(ss2_1)).mm(torch.rand((100,1)))\n",
    "ss1_1 = ss1_1/torch.linalg.norm(ss1_1)\n",
    "ss1_1 = ss1_1.squeeze(-1)\n",
    "\n",
    "query1 = torch.rand((7,100)).mm((ss1_0).outer(ss1_0))\n",
    "query2 = torch.rand((7,100)).mm((ss2_0).outer(ss2_0))\n",
    "\n",
    "support1 = torch.vstack([torch.rand((3,100)).mm(ss1_0.outer(ss1_0)),torch.rand((3,100)).mm(ss1_1.outer(ss1_1))])\n",
    "support2 = torch.vstack([torch.rand((3,100)).mm(ss2_0.outer(ss2_0)),torch.rand((3,100)).mm(ss2_1.outer(ss2_1))])\n",
    "\n",
    "support_labels = torch.tensor([0]*n_shot+[1]*n_shot)\n",
    "\n",
    "\n",
    "\n",
    "\n",
    "SubspaceNetHead(query1, support1, support_labels, n_way, n_shot)\n",
    "\n",
    "\n",
    "FlagNetHead(query1, query2, support1, support2, support_labels, n_way, n_shot)\n"
   ]
  },
  {
   "cell_type": "code",
   "execution_count": null,
   "metadata": {},
   "outputs": [],
   "source": []
  },
  {
   "cell_type": "code",
   "execution_count": null,
   "metadata": {},
   "outputs": [],
   "source": []
  },
  {
   "cell_type": "code",
   "execution_count": null,
   "metadata": {},
   "outputs": [],
   "source": []
  },
  {
   "cell_type": "code",
   "execution_count": null,
   "metadata": {},
   "outputs": [],
   "source": []
  },
  {
   "cell_type": "code",
   "execution_count": null,
   "metadata": {},
   "outputs": [],
   "source": [
    "n = 4956\n",
    "p = 13\n",
    "\n",
    "hidden_flag_type = [2,4]\n",
    "\n",
    "hidden_ms = [2,2]\n",
    "col_ids = [3,10]\n",
    "\n",
    "np.random.seed(42)\n",
    "\n",
    "\n",
    "D = []\n",
    "for i in range(len(hidden_flag_type)):\n",
    "    # Set dimensions\n",
    "    rows = n\n",
    "    cols = col_ids[i]\n",
    "\n",
    "    # Generate a random matrix of rank < cols\n",
    "    # First, create a matrix of lower rank (rank < cols)\n",
    "    rank = hidden_ms[i] # Specify the desired rank\n",
    "    low_rank_matrix = np.random.randn(rows, rank)\n",
    "\n",
    "    if i > 0:\n",
    "        # Multiply by another random matrix to get the final matrix with more columns\n",
    "        random_matrix = (np.eye(n) - random_matrix @np.linalg.pinv(random_matrix.T @ random_matrix) @ random_matrix.T) @ low_rank_matrix @ np.random.randn(rank, cols)\n",
    "    else:\n",
    "        random_matrix =  low_rank_matrix @ np.random.randn(rank, cols)\n",
    "\n",
    "    # Verify the rank of the matrix\n",
    "    rank_of_matrix = np.linalg.matrix_rank(random_matrix)\n",
    "    print(f'matrix rank is {rank_of_matrix}')\n",
    "\n",
    "    D.append(random_matrix)\n",
    "\n",
    "D = np.hstack(D)\n",
    "print(D.shape)\n",
    "print(f'total shape is {D.shape}, total rank is {np.linalg.matrix_rank(D)}')"
   ]
  },
  {
   "cell_type": "code",
   "execution_count": null,
   "metadata": {},
   "outputs": [],
   "source": [
    "As = [np.arange(2), np.arange(p)]\n",
    "\n",
    "my_flag_rep = FlagRep(Aset = As, solver = 'svd',flag_type = [2,4])"
   ]
  },
  {
   "cell_type": "code",
   "execution_count": null,
   "metadata": {},
   "outputs": [],
   "source": [
    "np.linalg.svd(D)"
   ]
  },
  {
   "cell_type": "code",
   "execution_count": null,
   "metadata": {},
   "outputs": [],
   "source": [
    "my_flag_rep.fit_transform(D)"
   ]
  },
  {
   "cell_type": "code",
   "execution_count": null,
   "metadata": {},
   "outputs": [],
   "source": []
  },
  {
   "cell_type": "code",
   "execution_count": null,
   "metadata": {},
   "outputs": [],
   "source": []
  },
  {
   "cell_type": "code",
   "execution_count": null,
   "metadata": {},
   "outputs": [],
   "source": [
    "import pandas as pd\n",
    "import seaborn as sns\n",
    "\n",
    "results = pd.read_csv('../results/mnist_fewshot_idea.csv', index_col = 0)\n",
    "sns.boxplot(data = results, x = 'Number Shots', y = 'Accuracy', hue = 'Method')\n",
    "results"
   ]
  },
  {
   "cell_type": "code",
   "execution_count": null,
   "metadata": {},
   "outputs": [],
   "source": []
  },
  {
   "cell_type": "code",
   "execution_count": null,
   "metadata": {},
   "outputs": [],
   "source": [
    "def my_svd(C: np.array, eps_rank: float = 1, zero_tol: float = 1e-8, n_vecs: int = 0) -> np.array:\n",
    "    U,S,Vh = np.linalg.svd(C, full_matrices=True)\n",
    "\n",
    "    if n_vecs > 0:\n",
    "        U = U[:,:n_vecs]\n",
    "        S = S[:n_vecs]\n",
    "        Vh = Vh[:n_vecs]\n",
    "\n",
    "    else:\n",
    "        nnz_ids = ~np.isclose(S, 0, atol=zero_tol)\n",
    "        U = U[:,:len(S)][:,nnz_ids]\n",
    "        S = S[nnz_ids]\n",
    "        Vh = Vh[nnz_ids,:]\n",
    "\n",
    "        s_prop = np.cumsum(S**2)/np.sum(S**2)\n",
    "        good_idx = s_prop<=eps_rank\n",
    "        U = U[:,good_idx]\n",
    "        S = S[good_idx]\n",
    "        Vh = Vh[good_idx,:]\n",
    "\n",
    "    return U, S, Vh"
   ]
  },
  {
   "cell_type": "code",
   "execution_count": null,
   "metadata": {},
   "outputs": [],
   "source": [
    "n = 10\n",
    "p = 13\n",
    "\n",
    "hidden_flag_type = [2,4]\n",
    "\n",
    "hidden_ms = [2,2]\n",
    "col_ids = [3,10]\n",
    "\n",
    "np.random.seed(42)\n",
    "\n",
    "\n",
    "D = []\n",
    "for i in range(len(hidden_flag_type)):\n",
    "    # Set dimensions\n",
    "    rows = n\n",
    "    cols = col_ids[i]\n",
    "\n",
    "    # Generate a random matrix of rank < cols\n",
    "    # First, create a matrix of lower rank (rank < cols)\n",
    "    rank = hidden_ms[i] # Specify the desired rank\n",
    "    low_rank_matrix = np.random.randn(rows, rank)\n",
    "\n",
    "    if i > 0:\n",
    "        # Multiply by another random matrix to get the final matrix with more columns\n",
    "        random_matrix = (np.eye(n) - random_matrix @np.linalg.pinv(random_matrix.T @ random_matrix) @ random_matrix.T) @ low_rank_matrix @ np.random.randn(rank, cols)\n",
    "    else:\n",
    "        random_matrix =  low_rank_matrix @ np.random.randn(rank, cols)\n",
    "\n",
    "    # Verify the rank of the matrix\n",
    "    rank_of_matrix = np.linalg.matrix_rank(random_matrix)\n",
    "    print(f'matrix rank is {rank_of_matrix}')\n",
    "\n",
    "    D.append(random_matrix)\n",
    "\n",
    "D = np.hstack(D)\n",
    "print(D.shape)\n",
    "print(f'total shape is {D.shape}, total rank is {np.linalg.matrix_rank(D)}')"
   ]
  },
  {
   "cell_type": "code",
   "execution_count": null,
   "metadata": {},
   "outputs": [],
   "source": [
    "np.linalg.matrix_rank(D[:,:3])"
   ]
  },
  {
   "cell_type": "code",
   "execution_count": null,
   "metadata": {},
   "outputs": [],
   "source": [
    "for i in range(1,p):\n",
    "    print([i,p])\n",
    "    As = [np.arange(i), np.arange(p)]\n",
    "\n",
    "    my_flag_rep = FlagRep(Aset = As, solver = 'svd')\n",
    "    X = my_flag_rep.fit_transform(D)\n",
    "    D_out0 = my_flag_rep.inverse_transform(X)\n",
    "    print(f'FlagRep err: {np.linalg.norm(D_out0-D)}')\n",
    "    print(f'Flag type {my_flag_rep.flag_type()}')\n",
    "    print()\n",
    "\n",
    "\n",
    "    # U,S,Vh = my_svd(D)\n",
    "    # D_out1 = U @ U.T @ D\n",
    "    # print(f'svd err: {np.linalg.norm(D_out1-D)}')\n",
    "\n",
    "# plt.figure()\n",
    "# plt.imshow(D_out0-D_out1, cmap = 'grey')\n",
    "# plt.colorbar()\n",
    "\n",
    "my_flag_rep = FlagRep(Aset = [np.arange(p)])\n",
    "X = my_flag_rep.fit_transform(D)\n",
    "D_out0 = my_flag_rep.inverse_transform(X)\n",
    "print(f'FlagRep err: {np.linalg.norm(D_out0-D)}')"
   ]
  },
  {
   "cell_type": "code",
   "execution_count": null,
   "metadata": {},
   "outputs": [],
   "source": [
    "As = [np.arange(4), np.arange(p)]\n",
    "my_flag_rep = FlagRep(Aset = As, solver = 'svd')\n",
    "X, R = my_flag_rep.decompose(D)\n",
    "\n",
    "my_flag_rep.flag_type()"
   ]
  },
  {
   "cell_type": "code",
   "execution_count": null,
   "metadata": {},
   "outputs": [],
   "source": [
    "plt.imshow(X @ R- my_flag_rep.inverse_transform(X))\n",
    "plt.colorbar()"
   ]
  },
  {
   "cell_type": "code",
   "execution_count": null,
   "metadata": {},
   "outputs": [],
   "source": []
  },
  {
   "cell_type": "code",
   "execution_count": null,
   "metadata": {},
   "outputs": [],
   "source": [
    "Q, R = np.linalg.qr(D)\n",
    "\n",
    "plt.imshow(R)"
   ]
  },
  {
   "cell_type": "code",
   "execution_count": null,
   "metadata": {},
   "outputs": [],
   "source": [
    "D"
   ]
  },
  {
   "cell_type": "markdown",
   "metadata": {},
   "source": [
    "# Trying with HS data"
   ]
  },
  {
   "cell_type": "code",
   "execution_count": null,
   "metadata": {},
   "outputs": [],
   "source": [
    "import scipy.io as sio\n",
    "\n",
    "# Load the hyperspectral image and ground truth\n",
    "data = sio.loadmat('../data/indian_pines/Indian_pines_corrected.mat')['indian_pines_corrected'] \n",
    "labels = sio.loadmat('../data/indian_pines/Indian_pines_gt.mat')['indian_pines_gt']  # Shape: (145, 145)\n",
    "\n",
    "\n",
    "print(data.shape)"
   ]
  },
  {
   "cell_type": "code",
   "execution_count": null,
   "metadata": {},
   "outputs": [],
   "source": [
    "def extract_patches_of_class(data, labels, patch_size, target_class):\n",
    "    \"\"\"\n",
    "    Extract patches where all pixels in the patch are of the target class.\n",
    "\n",
    "    :param data: The hyperspectral image data (145x145x220).\n",
    "    :param labels: The ground truth labels (145x145).\n",
    "    :param patch_size: Size of the patch (e.g., 7 for 7x7 patches).\n",
    "    :param target_class: The class for which patches should be extracted.\n",
    "    :return: A list of patches (each patch is of size patch_size x patch_size x num_bands).\n",
    "    \"\"\"\n",
    "    half_patch = patch_size // 2\n",
    "    patches = []\n",
    "    patch_labels = []\n",
    "\n",
    "    # Iterate through the image, avoiding border pixels (due to patch size)\n",
    "    for i in range(half_patch, data.shape[0] - half_patch):\n",
    "        for j in range(half_patch, data.shape[1] - half_patch):\n",
    "            if labels[i, j] == target_class:\n",
    "                # Extract the patch from both the data and the labels\n",
    "                label_patch = labels[i - half_patch:i + half_patch + 1, j - half_patch:j + half_patch + 1]\n",
    "                \n",
    "                # Check if all pixels in the label patch are of the target class\n",
    "                if np.all(label_patch == target_class):\n",
    "                    # Extract the corresponding data patch\n",
    "                    patch = data[i - half_patch:i + half_patch + 1, j - half_patch:j + half_patch + 1, :]\n",
    "                    patches.append(patch)\n",
    "                    patch_labels.append(target_class)\n",
    "\n",
    "    return np.array(patches), np.array(patch_labels)"
   ]
  },
  {
   "cell_type": "code",
   "execution_count": null,
   "metadata": {},
   "outputs": [],
   "source": [
    "def extract_patches(data, labels, patch_size, class_ids):\n",
    "    # extract patches\n",
    "    mod_data = []\n",
    "    mod_labels = []\n",
    "    for target_class in class_ids:\n",
    "        patches, patch_labels = extract_patches_of_class(data, labels, patch_size, target_class)\n",
    "        if len(patches) > 0:\n",
    "            flat_patches = []\n",
    "            for patch in patches:\n",
    "                # Your 3D array of size 11x11x200\n",
    "                array_3d = patch  # Example array\n",
    "\n",
    "                center_x, center_y = patch_size//2, patch_size//2\n",
    "\n",
    "                # Create a list of all (x, y) coordinates and compute their Manhattan distances from the center\n",
    "                coords = [(x, y) for x in range(patch_size) for y in range(patch_size)]\n",
    "                distances = [(x, y, max(abs(x - center_x), abs(y - center_y))) for x, y in coords]\n",
    "\n",
    "                # Sort coordinates by distance\n",
    "                sorted_coords = sorted(distances, key=lambda item: item[2])\n",
    "\n",
    "                # Create the 2D array by unwrapping the 3D array based on sorted coordinates\n",
    "                flat_patch = np.array([array_3d[x, y, :] for x, y, _ in sorted_coords])\n",
    "                flat_patches.append(flat_patch.T)\n",
    "\n",
    "                # Create a hierarchy vector containing the Chebyshev distances in the same sorted order\n",
    "                hierarchy_vector = np.array([distance for _, _, distance in sorted_coords])\n",
    "\n",
    "                # Find the indices where the hierarchy vector changes value\n",
    "                change_indices = np.where(np.diff(hierarchy_vector) != 0)[0] + 1  # Add 1 because diff reduces length by 1\n",
    "\n",
    "            change_indices = np.hstack([change_indices,np.array(len(hierarchy_vector))])\n",
    "            mod_labels +=[target_class]*len(patches)\n",
    "            \n",
    "            mod_data += flat_patches\n",
    "\n",
    "            Aset = [np.arange(i) for i in change_indices]\n",
    "\n",
    "        else:\n",
    "            print(f'No patches of class id {target_class}')\n",
    "\n",
    "    \n",
    "        print(f\"Extracted {len(patches)} patches where all pixels are of class {target_class}. Each patch has shape {patch_size}.\")\n",
    "\n",
    "    return mod_data, mod_labels, Aset"
   ]
  },
  {
   "cell_type": "code",
   "execution_count": null,
   "metadata": {},
   "outputs": [],
   "source": [
    "# patch_data, patch_labels, Aset = extract_patches(data, labels, 11, np.arange(16))\n",
    "\n",
    "# D = patch_data[0]\n",
    "# D.shape\n",
    "plt.figure()\n",
    "plt.imshow(data[-70:,-70:,2], cmap = 'grey')\n",
    "\n",
    "plt.figure()\n",
    "plt.imshow(labels[-70:,-70:], cmap = 'grey')\n",
    "plt.colorbar()"
   ]
  },
  {
   "cell_type": "code",
   "execution_count": null,
   "metadata": {},
   "outputs": [],
   "source": [
    "np.where(labels!=0)"
   ]
  },
  {
   "cell_type": "code",
   "execution_count": null,
   "metadata": {},
   "outputs": [],
   "source": [
    "D = np.reshape(data[:70,:70,:], (-1,200))\n",
    "# D = np.reshape(data/data.max(), (-1,200))"
   ]
  },
  {
   "cell_type": "code",
   "execution_count": null,
   "metadata": {},
   "outputs": [],
   "source": [
    "np.linalg.matrix_rank(D), D.shape, len(D)"
   ]
  },
  {
   "cell_type": "code",
   "execution_count": null,
   "metadata": {},
   "outputs": [],
   "source": [
    "plt.imshow(D @ D.T, cmap = 'grey')\n",
    "plt.colorbar()"
   ]
  },
  {
   "cell_type": "code",
   "execution_count": null,
   "metadata": {},
   "outputs": [],
   "source": [
    "plt.imshow(D.T @ D, cmap = 'grey')\n",
    "plt.colorbar()"
   ]
  },
  {
   "cell_type": "code",
   "execution_count": null,
   "metadata": {},
   "outputs": [],
   "source": [
    "import numpy as np\n",
    "import pandas as pd\n",
    "from sklearn.datasets import make_blobs\n",
    "from sklearn.preprocessing import normalize\n",
    "from scipy.cluster.hierarchy import linkage, fcluster, dendrogram\n",
    "import matplotlib.pyplot as plt\n",
    "\n",
    "n_samples, n_features  = D.shape\n",
    "\n",
    "# Normalize the data\n",
    "X_normalized = normalize(D)\n",
    "\n",
    "# Create a DataFrame for easier handling\n",
    "df = pd.DataFrame(X_normalized, columns=[f'Feature {i+1}' for i in range(n_features)])\n",
    "\n",
    "# Generate the correlation matrix\n",
    "correlation_matrix = np.array(df.corr())\n",
    "\n",
    "# Output the correlation matrix\n",
    "print(\"Correlation Matrix:\")\n",
    "print(correlation_matrix)\n",
    "\n",
    "# Plotting the correlation matrix\n",
    "plt.figure(figsize=(10, 8))\n",
    "plt.title('Correlation Matrix Heatmap')\n",
    "plt.imshow(correlation_matrix, cmap='coolwarm', interpolation='none')\n",
    "plt.colorbar()\n",
    "plt.xticks(ticks=np.arange(n_features), labels=df.columns, rotation=45)\n",
    "plt.yticks(ticks=np.arange(n_features), labels=df.columns)\n",
    "plt.show()"
   ]
  },
  {
   "cell_type": "code",
   "execution_count": null,
   "metadata": {},
   "outputs": [],
   "source": [
    "import numpy as np\n",
    "from sklearn.datasets import make_blobs\n",
    "from sklearn.preprocessing import normalize\n",
    "from scipy.cluster.hierarchy import linkage, fcluster, dendrogram\n",
    "import matplotlib.pyplot as plt\n",
    "\n",
    "\n",
    "# Perform hierarchical clustering\n",
    "Z = linkage(1-correlation_matrix, method='ward')  # You can choose other methods like 'single', 'complete', etc.\n",
    "\n",
    "# Define the number of clusters\n",
    "num_clusters = 3\n",
    "\n",
    "# Assign cluster memberships\n",
    "clusters = fcluster(Z, num_clusters, criterion='maxclust')\n",
    "\n",
    "\n",
    "# Plotting the dendrogram\n",
    "plt.figure(figsize=(10, 7))\n",
    "dendrogram(Z)\n",
    "plt.title('Hierarchical Clustering Dendrogram (Cosine Distance)')\n",
    "plt.xlabel('Data Points')\n",
    "plt.ylabel('Distance')\n",
    "plt.show()\n",
    "\n"
   ]
  },
  {
   "cell_type": "code",
   "execution_count": null,
   "metadata": {},
   "outputs": [],
   "source": [
    "[len(np.where(clusters==i)[0]) for i in range(1,4)]"
   ]
  },
  {
   "cell_type": "code",
   "execution_count": null,
   "metadata": {},
   "outputs": [],
   "source": []
  },
  {
   "cell_type": "code",
   "execution_count": null,
   "metadata": {},
   "outputs": [],
   "source": [
    "Aset = [ np.where(clusters==3)[0], \n",
    "        np.concatenate((np.where(clusters==3)[0],np.where(clusters==2)[0])), \n",
    "        np.concatenate((np.where(clusters==3)[0],np.where(clusters==2)[0],np.where(clusters==1)[0]))]"
   ]
  },
  {
   "cell_type": "code",
   "execution_count": null,
   "metadata": {},
   "outputs": [],
   "source": [
    "B = np.hstack([D[:,np.where(clusters==3)[0]],D[:,np.where(clusters==2)[0]], D[:,np.where(clusters==1)[0]]])"
   ]
  },
  {
   "cell_type": "code",
   "execution_count": null,
   "metadata": {},
   "outputs": [],
   "source": [
    "# Normalize the data\n",
    "X_normalized = normalize(B)\n",
    "\n",
    "# Create a DataFrame for easier handling\n",
    "df = pd.DataFrame(X_normalized, columns=[f'Feature {i+1}' for i in range(n_features)])\n",
    "\n",
    "# Generate the correlation matrix\n",
    "correlation_matrix = np.array(df.corr())\n",
    "\n",
    "# Output the correlation matrix\n",
    "print(\"Correlation Matrix:\")\n",
    "print(correlation_matrix)\n",
    "\n",
    "# Plotting the correlation matrix\n",
    "plt.figure(figsize=(10, 8))\n",
    "plt.title('Correlation Matrix Heatmap')\n",
    "plt.imshow(correlation_matrix, cmap='coolwarm', interpolation='none')\n",
    "plt.colorbar()\n",
    "plt.xticks(ticks=np.arange(n_features), labels=df.columns, rotation=45)\n",
    "plt.yticks(ticks=np.arange(n_features), labels=df.columns)\n",
    "plt.show()"
   ]
  },
  {
   "cell_type": "code",
   "execution_count": null,
   "metadata": {},
   "outputs": [],
   "source": [
    "\n",
    "my_flag_rep = FlagRep(Aset = Aset, solver = 'svd', plot_eigs = True)\n",
    "X, R = my_flag_rep.decompose(D)\n",
    "print(my_flag_rep.flag_type())\n",
    "np.sum(np.linalg.norm(X @ R - B, axis = 1)**2)/len(B)"
   ]
  },
  {
   "cell_type": "code",
   "execution_count": null,
   "metadata": {},
   "outputs": [],
   "source": [
    "U,S,_ = np.linalg.svd(D, full_matrices = False)\n",
    "# S = S/S.max()\n",
    "# s_diff = np.abs(np.diff(S))\n",
    "# n_vecs = np.sum(s_diff >= 1e-3)\n",
    "n_vecs = 74\n",
    "U = U[:,:n_vecs]\n",
    "np.sum(np.linalg.norm(U @ U.T @ D - D, axis = 1)**2)/len(D)"
   ]
  },
  {
   "cell_type": "code",
   "execution_count": null,
   "metadata": {},
   "outputs": [],
   "source": []
  },
  {
   "cell_type": "code",
   "execution_count": null,
   "metadata": {},
   "outputs": [],
   "source": [
    "my_flag_rep = FlagRep(Aset = Aset, solver = 'qr')\n",
    "X0 = my_flag_rep.fit_transform(D)"
   ]
  },
  {
   "cell_type": "code",
   "execution_count": null,
   "metadata": {},
   "outputs": [],
   "source": [
    "plt.imshow(X0.T @ X0, cmap = 'grey')\n",
    "plt.colorbar()"
   ]
  },
  {
   "cell_type": "code",
   "execution_count": null,
   "metadata": {},
   "outputs": [],
   "source": [
    "my_flag_rep = FlagRep(Aset = Aset, solver = 'svd')\n",
    "X1 = my_flag_rep.fit_transform(D)"
   ]
  },
  {
   "cell_type": "code",
   "execution_count": null,
   "metadata": {},
   "outputs": [],
   "source": [
    "from FlagRep0 import chordal_distance\n",
    "def make_Bs(fl_type):\n",
    "    Bs = [np.arange(fl_type[0])]\n",
    "    for i in range(1,len(fl_type)):\n",
    "        Bs.append(np.arange(fl_type[i-1],fl_type[i]))\n",
    "    return Bs\n",
    "\n",
    "Bs = make_Bs(my_flag_rep.flag_type_)\n",
    "\n",
    "chordal_distance(X0, X1, Bs, Bs)"
   ]
  },
  {
   "cell_type": "code",
   "execution_count": null,
   "metadata": {},
   "outputs": [],
   "source": [
    "X0.T @ X0, X1.T @ X1"
   ]
  },
  {
   "cell_type": "code",
   "execution_count": null,
   "metadata": {},
   "outputs": [],
   "source": [
    "\n",
    "U,S,Vh = my_svd(D[:,:100])\n",
    "\n",
    "\n",
    "n_2 = 100\n",
    "p = 100\n",
    "errs = []\n",
    "flag_types = []\n",
    "n1s = []\n",
    "the_As = []\n",
    "for n_1 in range(5,40,5): #loop through every feature combination between {1,2,...,n_1} \\subset {1,...,220}\n",
    "    As = [np.arange(n_1),  np.arange(40), np.arange(100)]\n",
    "    the_As.append(As)\n",
    "\n",
    "    my_flag_rep = FlagRep(Aset = As, flag_type=[5,10,20])\n",
    "\n",
    "    \n",
    "    X = my_flag_rep.fit_transform(D[:,:n_2])\n",
    "    D_out0 = my_flag_rep.inverse_transform(X)\n",
    "    D_out1 = my_flag_rep.inverse_transform(U)\n",
    "    err0 = np.linalg.norm(D_out0[:,:n_2]-D[:,:n_2])**2\n",
    "    errs.append(err0)\n",
    "\n",
    "    # if ~np.isclose(err0,0):\n",
    "    print()\n",
    "    # print(np.array([n_1,n_2]))/\n",
    "    print(my_flag_rep.flag_type())\n",
    "    print(err0)\n",
    "    print(np.linalg.norm(D_out1[:,:n_2]-D[:,:n_2])**2)\n",
    "\n",
    "    # U,_,_ = my_svd(D[:,:n_2], n_vecs = my_flag_rep.flag_type()[-1])\n",
    "    # D_out1 = U[:,:my_flag_rep.flag_type()[-1]] @ U[:,:my_flag_rep.flag_type()[-1]].T @ D[:,:n_2]\n",
    "    # err1 = np.linalg.norm(D_out1[:,:n_2] - D[:,:n_2])**2\n",
    "    \n",
    "    \n",
    "    # if ~np.isclose(err0, 0) and np.abs(err0-err1) < 1000000:\n",
    "    # print()\n",
    "    # print(np.array([n_1,n_2]))\n",
    "    # print(my_flag_rep.flag_type())\n",
    "    # print(err0, err1)\n",
    "\n",
    "    flag_types.append(my_flag_rep.flag_type())\n",
    "    n1s.append(n_1)"
   ]
  },
  {
   "cell_type": "code",
   "execution_count": null,
   "metadata": {},
   "outputs": [],
   "source": [
    "\n",
    "U,S,Vh = my_svd(D[:,:n_2])\n",
    "D_out1 = U @ U.T @ D[:,:n_2]"
   ]
  },
  {
   "cell_type": "code",
   "execution_count": null,
   "metadata": {},
   "outputs": [],
   "source": [
    "n1s[np.argmin(errs)]"
   ]
  },
  {
   "cell_type": "code",
   "execution_count": null,
   "metadata": {},
   "outputs": [],
   "source": [
    "# np.sort(errs), \n",
    "np.sum(np.isclose(errs, 0))"
   ]
  },
  {
   "cell_type": "code",
   "execution_count": null,
   "metadata": {},
   "outputs": [],
   "source": [
    "\n",
    "U,S,Vh = my_svd(D[:,:n_2])\n",
    "np.linalg.norm(D[:,:n_2] - U @ U.T @ D[:,:n_2])**2"
   ]
  },
  {
   "cell_type": "code",
   "execution_count": null,
   "metadata": {},
   "outputs": [],
   "source": [
    "fig, ax = plt.subplots()\n",
    "ax.plot(n1s, errs)\n",
    "ax.axhline(np.linalg.norm(D_out1-D[:,:n_2])**2)\n",
    "plt.xlabel('n')\n",
    "plt.ylabel('reconstruction error')\n",
    "# ax.set_yscale('log')"
   ]
  },
  {
   "cell_type": "code",
   "execution_count": null,
   "metadata": {},
   "outputs": [],
   "source": [
    "errs[-1], np.linalg.norm(D_out1-D[:,:n_2])**2"
   ]
  },
  {
   "cell_type": "code",
   "execution_count": null,
   "metadata": {},
   "outputs": [],
   "source": [
    "S = np.random.normal(size = (5,5))\n",
    "S"
   ]
  },
  {
   "cell_type": "code",
   "execution_count": null,
   "metadata": {},
   "outputs": [],
   "source": [
    "S[np.array([2,3,4]),:][:,np.array([2,3,4])]"
   ]
  },
  {
   "cell_type": "code",
   "execution_count": null,
   "metadata": {},
   "outputs": [],
   "source": [
    "S[2:5,2:5]"
   ]
  },
  {
   "cell_type": "code",
   "execution_count": null,
   "metadata": {},
   "outputs": [],
   "source": []
  },
  {
   "cell_type": "markdown",
   "metadata": {},
   "source": [
    "# Try Weizmann data"
   ]
  },
  {
   "cell_type": "code",
   "execution_count": null,
   "metadata": {},
   "outputs": [],
   "source": [
    "import os\n",
    "import cv2\n",
    "\n",
    "from skimage.transform import rescale\n",
    "\n",
    "\n",
    "def load_avi_files(directory):\n",
    "    avi_files = []\n",
    "    for filename in os.listdir(directory):\n",
    "        if filename.endswith('.avi'):\n",
    "            avi_files.append(os.path.join(directory, filename))\n",
    "    return avi_files\n",
    "\n",
    "\n",
    "def read_avi_to_numpy(file_path, coarsen = .03):\n",
    "    cap = cv2.VideoCapture(file_path)\n",
    "    if not cap.isOpened():\n",
    "        print(f\"Error opening video file: {file_path}\")\n",
    "        return None\n",
    "\n",
    "    frames = []\n",
    "    while True:\n",
    "        ret, frame = cap.read()\n",
    "        if not ret:\n",
    "            break\n",
    "        gray_frame = cv2.cvtColor(frame, cv2.COLOR_BGR2GRAY)\n",
    "        frames.append(gray_frame)\n",
    "\n",
    "    cap.release()\n",
    "\n",
    "    frame_array = np.array(frames)\n",
    "\n",
    "    X = rescale(frame_array,(1,coarsen,coarsen))\n",
    "    \n",
    "\n",
    "    # Convert list of frames to a NumPy array\n",
    "    return X\n",
    "\n",
    "\n",
    "directory = '../data/weizmann/'  # Change to your directory\n",
    "\n",
    "classes = ['bend', 'jack', 'run']\n",
    "\n",
    "\n",
    "dataset = []\n",
    "mod_labels = []\n",
    "for class_name in classes:\n",
    "    f_path = os.path.join(directory, class_name)\n",
    "    avi_files = load_avi_files(f_path)\n",
    "    data = [read_avi_to_numpy(avi_file, .03) for avi_file in avi_files]\n",
    "    dataset += data\n",
    "    mod_labels += [class_name]*len(data)"
   ]
  },
  {
   "cell_type": "code",
   "execution_count": null,
   "metadata": {},
   "outputs": [],
   "source": [
    "fewest_frame_count = np.min([len(d) for d in dataset])\n",
    "_,n_rows, n_cols  = dataset[0].shape\n",
    "\n",
    "trimmed_dataset = []\n",
    "for d in dataset:\n",
    "    n_frames = len(d)\n",
    "    d_trimmed = d[n_frames//2-fewest_frame_count//2:n_frames//2+fewest_frame_count//2,:,:]\n",
    "    trimmed_dataset.append(d_trimmed)\n",
    "\n",
    "center_row = n_rows//2\n",
    "center_col = n_cols//2\n",
    "\n",
    "quarter_row = n_rows//4\n",
    "quarter_col = n_cols//4\n",
    "\n",
    "X = []\n",
    "for d in trimmed_dataset:\n",
    "    ss1 = d[:,n_rows//4:3*n_rows//4, n_cols//4:3*n_cols//4]\n",
    "    ss2_mask = np.zeros((n_rows, n_cols), dtype=bool)\n",
    "    # Set the outer pixels to True\n",
    "    ss2_mask[:n_rows//4, :] = True  # Top\n",
    "    ss2_mask[3*n_rows//4:, :] = True  # Bottom\n",
    "    ss2_mask[:, :n_cols//4] = True  # Left\n",
    "    ss2_mask[:, 3*n_cols//4+1:] = True  # Right\n",
    "\n",
    "    \n",
    "    # plt.axis('off')\n",
    "    ss2 = d[:,ss2_mask]\n",
    "\n",
    "    ss1 = ss1.reshape(ss1.shape[0], -1)\n",
    "    ss2 = ss2.reshape(ss2.shape[0], -1)\n",
    "\n",
    "    d_flat = np.hstack([ss1,ss2])\n",
    "\n",
    "\n",
    "    X.append(d_flat)\n",
    "\n",
    "ss_sizes = [ss1.shape[1], ss2.shape[1]]\n",
    "\n"
   ]
  },
  {
   "cell_type": "code",
   "execution_count": null,
   "metadata": {},
   "outputs": [],
   "source": [
    "As = [np.arange(len(ss1.T)), np.arange(len(ss1.T)+len(ss2.T))]"
   ]
  },
  {
   "cell_type": "code",
   "execution_count": null,
   "metadata": {},
   "outputs": [],
   "source": [
    "print(As)"
   ]
  },
  {
   "cell_type": "code",
   "execution_count": null,
   "metadata": {},
   "outputs": [],
   "source": [
    "D = X[6]\n",
    "\n",
    "my_flagrep = FlagRep(Aset = As)\n",
    "my_flag = my_flagrep.fit_transform(D)\n",
    "D_out = my_flagrep.inverse_transform(my_flag)\n",
    "print(my_flagrep.flag_type())"
   ]
  },
  {
   "cell_type": "code",
   "execution_count": null,
   "metadata": {},
   "outputs": [],
   "source": [
    "my_flag"
   ]
  },
  {
   "cell_type": "code",
   "execution_count": null,
   "metadata": {},
   "outputs": [],
   "source": [
    "plt.imshow(my_flag, cmap = 'grey')\n",
    "plt.colorbar()"
   ]
  },
  {
   "cell_type": "code",
   "execution_count": null,
   "metadata": {},
   "outputs": [],
   "source": [
    "\n",
    "plt.imshow(D_out, cmap = 'grey')\n",
    "plt.colorbar()"
   ]
  },
  {
   "cell_type": "code",
   "execution_count": null,
   "metadata": {},
   "outputs": [],
   "source": []
  }
 ],
 "metadata": {
  "kernelspec": {
   "display_name": "flags3",
   "language": "python",
   "name": "python3"
  },
  "language_info": {
   "codemirror_mode": {
    "name": "ipython",
    "version": 3
   },
   "file_extension": ".py",
   "mimetype": "text/x-python",
   "name": "python",
   "nbconvert_exporter": "python",
   "pygments_lexer": "ipython3",
   "version": "3.12.3"
  }
 },
 "nbformat": 4,
 "nbformat_minor": 2
}
