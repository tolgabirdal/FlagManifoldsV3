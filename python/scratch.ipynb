{
 "cells": [
  {
   "cell_type": "code",
   "execution_count": 1,
   "metadata": {},
   "outputs": [],
   "source": [
    "import numpy as np\n",
    "from FlagRep import FlagRep\n",
    "from matplotlib import pyplot as plt\n",
    "\n"
   ]
  },
  {
   "cell_type": "code",
   "execution_count": 2,
   "metadata": {},
   "outputs": [],
   "source": [
    "def my_svd(C: np.array, eps_rank: float = 1, zero_tol: float = 1e-8) -> np.array:\n",
    "    U,S,Vh = np.linalg.svd(C, full_matrices=True)\n",
    "\n",
    "    nnz_ids = ~np.isclose(S, 0, atol=zero_tol)\n",
    "    U = U[:,:len(S)][:,nnz_ids]\n",
    "    S = S[nnz_ids]\n",
    "    Vh = Vh[nnz_ids,:]\n",
    "\n",
    "    s_prop = np.cumsum(S**2)/np.sum(S**2)\n",
    "    good_idx = s_prop<=eps_rank\n",
    "    U = U[:,good_idx]\n",
    "    S = S[good_idx]\n",
    "    Vh = Vh[good_idx,:]\n",
    "\n",
    "    return U, S, Vh"
   ]
  },
  {
   "cell_type": "code",
   "execution_count": 3,
   "metadata": {},
   "outputs": [
    {
     "name": "stdout",
     "output_type": "stream",
     "text": [
      "matrix rank is 2\n",
      "matrix rank is 2\n",
      "(10, 7)\n",
      "total shape is (10, 7), total rank is 4\n"
     ]
    }
   ],
   "source": [
    "n = 10\n",
    "p = 7\n",
    "\n",
    "hidden_flag_type = [2,4]\n",
    "\n",
    "hidden_ms = [2,2]\n",
    "col_ids = [3,4]\n",
    "\n",
    "np.random.seed(42)\n",
    "\n",
    "\n",
    "D = []\n",
    "for i in range(len(hidden_flag_type)):\n",
    "    # Set dimensions\n",
    "    rows = n\n",
    "    cols = col_ids[i]\n",
    "\n",
    "    # Generate a random matrix of rank < cols\n",
    "    # First, create a matrix of lower rank (rank < cols)\n",
    "    rank = hidden_ms[i] # Specify the desired rank\n",
    "    low_rank_matrix = np.random.randn(rows, rank)\n",
    "\n",
    "    if i > 0:\n",
    "        # Multiply by another random matrix to get the final matrix with more columns\n",
    "        random_matrix = (np.eye(n) - random_matrix @np.linalg.pinv(random_matrix.T @ random_matrix) @ random_matrix.T) @ low_rank_matrix @ np.random.randn(rank, cols)\n",
    "    else:\n",
    "        random_matrix =  low_rank_matrix @ np.random.randn(rank, cols)\n",
    "\n",
    "    # Verify the rank of the matrix\n",
    "    rank_of_matrix = np.linalg.matrix_rank(random_matrix)\n",
    "    print(f'matrix rank is {rank_of_matrix}')\n",
    "\n",
    "    D.append(random_matrix)\n",
    "\n",
    "D = np.hstack(D)\n",
    "print(D.shape)\n",
    "print(f'total shape is {D.shape}, total rank is {np.linalg.matrix_rank(D)}')"
   ]
  },
  {
   "cell_type": "code",
   "execution_count": 4,
   "metadata": {},
   "outputs": [
    {
     "data": {
      "text/plain": [
       "np.int64(2)"
      ]
     },
     "execution_count": 4,
     "metadata": {},
     "output_type": "execute_result"
    }
   ],
   "source": [
    "np.linalg.matrix_rank(D[:,:3])"
   ]
  },
  {
   "cell_type": "code",
   "execution_count": 5,
   "metadata": {},
   "outputs": [
    {
     "name": "stdout",
     "output_type": "stream",
     "text": [
      "[1, 7]\n",
      "FlagRep err: 0.6100928158762129\n",
      "svd err: 8.54161872541051e-15\n",
      "[2, 7]\n",
      "FlagRep err: 0.45909892987521395\n",
      "svd err: 8.54161872541051e-15\n",
      "[3, 7]\n",
      "FlagRep err: 3.2662461521224907e-15\n",
      "svd err: 8.54161872541051e-15\n",
      "[4, 7]\n",
      "FlagRep err: 5.575521476189362\n",
      "svd err: 8.54161872541051e-15\n",
      "[5, 7]\n",
      "FlagRep err: 5.140643102013111\n",
      "svd err: 8.54161872541051e-15\n",
      "[6, 7]\n",
      "FlagRep err: 4.524490482185072\n",
      "svd err: 8.54161872541051e-15\n",
      "FlagRep err: 4.95387964154581e-15\n"
     ]
    }
   ],
   "source": [
    "for i in range(1,p):\n",
    "    print([i,p])\n",
    "    As = [np.arange(i), np.arange(p)]\n",
    "\n",
    "    my_flag_rep = FlagRep(Aset = As)\n",
    "    X = my_flag_rep.fit_transform(D)\n",
    "    D_out0 = my_flag_rep.inverse_transform(X)\n",
    "    print(f'FlagRep err: {np.linalg.norm(D_out0-D)}')\n",
    "\n",
    "\n",
    "    U,S,Vh = my_svd(D)\n",
    "    D_out1 = U @ np.diag(S) @ Vh\n",
    "    print(f'svd err: {np.linalg.norm(D_out1-D)}')\n",
    "\n",
    "# plt.figure()\n",
    "# plt.imshow(D_out0-D_out1, cmap = 'grey')\n",
    "# plt.colorbar()\n",
    "\n",
    "my_flag_rep = FlagRep(Aset = [np.arange(p)])\n",
    "X = my_flag_rep.fit_transform(D)\n",
    "D_out0 = my_flag_rep.inverse_transform(X)\n",
    "print(f'FlagRep err: {np.linalg.norm(D_out0-D)}')"
   ]
  },
  {
   "cell_type": "code",
   "execution_count": null,
   "metadata": {},
   "outputs": [],
   "source": []
  },
  {
   "cell_type": "code",
   "execution_count": null,
   "metadata": {},
   "outputs": [],
   "source": []
  },
  {
   "cell_type": "markdown",
   "metadata": {},
   "source": [
    "# Trying with HS data"
   ]
  },
  {
   "cell_type": "code",
   "execution_count": 6,
   "metadata": {},
   "outputs": [
    {
     "name": "stdout",
     "output_type": "stream",
     "text": [
      "(145, 145, 220)\n"
     ]
    }
   ],
   "source": [
    "import scipy.io as sio\n",
    "\n",
    "# Load the hyperspectral image and ground truth\n",
    "data = sio.loadmat('../data/indian_pines/Indian_pines.mat')['indian_pines'] \n",
    "labels = sio.loadmat('../data/indian_pines/Indian_pines_gt.mat')['indian_pines_gt']  # Shape: (145, 145)\n",
    "\n",
    "\n",
    "print(data.shape)"
   ]
  },
  {
   "cell_type": "code",
   "execution_count": 7,
   "metadata": {},
   "outputs": [],
   "source": [
    "def extract_patches_of_class(data, labels, patch_size, target_class):\n",
    "    \"\"\"\n",
    "    Extract patches where all pixels in the patch are of the target class.\n",
    "\n",
    "    :param data: The hyperspectral image data (145x145x220).\n",
    "    :param labels: The ground truth labels (145x145).\n",
    "    :param patch_size: Size of the patch (e.g., 7 for 7x7 patches).\n",
    "    :param target_class: The class for which patches should be extracted.\n",
    "    :return: A list of patches (each patch is of size patch_size x patch_size x num_bands).\n",
    "    \"\"\"\n",
    "    half_patch = patch_size // 2\n",
    "    patches = []\n",
    "    patch_labels = []\n",
    "\n",
    "    # Iterate through the image, avoiding border pixels (due to patch size)\n",
    "    for i in range(half_patch, data.shape[0] - half_patch):\n",
    "        for j in range(half_patch, data.shape[1] - half_patch):\n",
    "            if labels[i, j] == target_class:\n",
    "                # Extract the patch from both the data and the labels\n",
    "                label_patch = labels[i - half_patch:i + half_patch + 1, j - half_patch:j + half_patch + 1]\n",
    "                \n",
    "                # Check if all pixels in the label patch are of the target class\n",
    "                if np.all(label_patch == target_class):\n",
    "                    # Extract the corresponding data patch\n",
    "                    patch = data[i - half_patch:i + half_patch + 1, j - half_patch:j + half_patch + 1, :]\n",
    "                    patches.append(patch)\n",
    "                    patch_labels.append(target_class)\n",
    "\n",
    "    return np.array(patches), np.array(patch_labels)"
   ]
  },
  {
   "cell_type": "code",
   "execution_count": 8,
   "metadata": {},
   "outputs": [],
   "source": [
    "def extract_patches(data, labels, patch_size, class_ids):\n",
    "    # extract patches\n",
    "    mod_data = []\n",
    "    mod_labels = []\n",
    "    for target_class in class_ids:\n",
    "        patches, patch_labels = extract_patches_of_class(data, labels, patch_size, target_class)\n",
    "        if len(patches) > 0:\n",
    "            flat_patches = []\n",
    "            for patch in patches:\n",
    "                # Your 3D array of size 11x11x200\n",
    "                array_3d = patch  # Example array\n",
    "\n",
    "                center_x, center_y = patch_size//2, patch_size//2\n",
    "\n",
    "                # Create a list of all (x, y) coordinates and compute their Manhattan distances from the center\n",
    "                coords = [(x, y) for x in range(patch_size) for y in range(patch_size)]\n",
    "                distances = [(x, y, max(abs(x - center_x), abs(y - center_y))) for x, y in coords]\n",
    "\n",
    "                # Sort coordinates by distance\n",
    "                sorted_coords = sorted(distances, key=lambda item: item[2])\n",
    "\n",
    "                # Create the 2D array by unwrapping the 3D array based on sorted coordinates\n",
    "                flat_patch = np.array([array_3d[x, y, :] for x, y, _ in sorted_coords])\n",
    "                flat_patches.append(flat_patch.T)\n",
    "\n",
    "                # Create a hierarchy vector containing the Chebyshev distances in the same sorted order\n",
    "                hierarchy_vector = np.array([distance for _, _, distance in sorted_coords])\n",
    "\n",
    "                # Find the indices where the hierarchy vector changes value\n",
    "                change_indices = np.where(np.diff(hierarchy_vector) != 0)[0] + 1  # Add 1 because diff reduces length by 1\n",
    "\n",
    "            change_indices = np.hstack([change_indices,np.array(len(hierarchy_vector))])\n",
    "            mod_labels +=[target_class]*len(patches)\n",
    "            \n",
    "            mod_data += flat_patches\n",
    "\n",
    "            Aset = [np.arange(i) for i in change_indices]\n",
    "\n",
    "        else:\n",
    "            print(f'No patches of class id {target_class}')\n",
    "\n",
    "    \n",
    "        print(f\"Extracted {len(patches)} patches where all pixels are of class {target_class}. Each patch has shape {patch_size}.\")\n",
    "\n",
    "    return mod_data, mod_labels, Aset"
   ]
  },
  {
   "cell_type": "code",
   "execution_count": 9,
   "metadata": {},
   "outputs": [],
   "source": [
    "# patch_data, patch_labels, Aset = extract_patches(data, labels, 11, np.arange(16))\n",
    "\n",
    "# D = patch_data[0]\n",
    "# D.shape"
   ]
  },
  {
   "cell_type": "code",
   "execution_count": 10,
   "metadata": {},
   "outputs": [],
   "source": [
    "D = np.reshape(data[:15,:15,:], (-1,220))"
   ]
  },
  {
   "cell_type": "code",
   "execution_count": 11,
   "metadata": {},
   "outputs": [
    {
     "data": {
      "text/plain": [
       "(225, 220)"
      ]
     },
     "execution_count": 11,
     "metadata": {},
     "output_type": "execute_result"
    }
   ],
   "source": [
    "D.shape"
   ]
  },
  {
   "cell_type": "code",
   "execution_count": 12,
   "metadata": {},
   "outputs": [
    {
     "name": "stdout",
     "output_type": "stream",
     "text": [
      "\n",
      "[1, 50]\n",
      "[ 1 50]\n",
      "\n",
      "[6, 50]\n",
      "[ 6 50]\n",
      "\n",
      "[11, 50]\n",
      "[10 49]\n",
      "\n",
      "[16, 50]\n",
      "[16 50]\n",
      "\n",
      "[21, 50]\n",
      "[21 49]\n",
      "\n",
      "[26, 50]\n",
      "[26 50]\n",
      "\n",
      "[31, 50]\n",
      "[30 48]\n",
      "\n",
      "[36, 50]\n",
      "[35 49]\n",
      "\n",
      "[41, 50]\n",
      "[41 49]\n",
      "\n",
      "[46, 50]\n",
      "[46 50]\n"
     ]
    }
   ],
   "source": [
    "n_1_min = 10\n",
    "n_2 = 50\n",
    "p = 220\n",
    "errs = []\n",
    "\n",
    "n1s = []\n",
    "for n_1 in range(1,50,5):\n",
    "    As = [np.arange(n_1), np.arange(n_2)]\n",
    "\n",
    "    my_flag_rep = FlagRep(Aset = As)\n",
    "    X = my_flag_rep.fit_transform(D[:,:n_2])\n",
    "    D_out0 = my_flag_rep.inverse_transform(X)\n",
    "    errs.append(np.linalg.norm(D_out0-D[:,:n_2])**2)\n",
    "    print()\n",
    "    print([n_1,n_2])\n",
    "    print(my_flag_rep.flag_type())\n",
    "    n1s.append(n_1)"
   ]
  },
  {
   "cell_type": "code",
   "execution_count": 13,
   "metadata": {},
   "outputs": [],
   "source": [
    "\n",
    "U,S,Vh = my_svd(D[:,:n_2])\n",
    "D_out1 = U @ np.diag(S) @ Vh"
   ]
  },
  {
   "cell_type": "code",
   "execution_count": 14,
   "metadata": {},
   "outputs": [
    {
     "data": {
      "text/plain": [
       "<matplotlib.lines.Line2D at 0x75a2fd8ef620>"
      ]
     },
     "execution_count": 14,
     "metadata": {},
     "output_type": "execute_result"
    },
    {
     "data": {
      "image/png": "[encoded data removed]",
      "text/plain": [
       "<Figure size 640x480 with 1 Axes>"
      ]
     },
     "metadata": {},
     "output_type": "display_data"
    }
   ],
   "source": [
    "fig, ax = plt.subplots()\n",
    "ax.plot(n1s, errs)\n",
    "ax.axhline(np.linalg.norm(D_out1-D[:,:n_2])**2)\n",
    "# ax.set_yscale('log')"
   ]
  },
  {
   "cell_type": "code",
   "execution_count": 15,
   "metadata": {},
   "outputs": [
    {
     "data": {
      "text/plain": [
       "(np.float64(24089515415.602745), np.float64(4.295490191164382e-18))"
      ]
     },
     "execution_count": 15,
     "metadata": {},
     "output_type": "execute_result"
    }
   ],
   "source": [
    "errs[-1], np.linalg.norm(D_out1-D[:,:n_2])**2"
   ]
  },
  {
   "cell_type": "code",
   "execution_count": null,
   "metadata": {},
   "outputs": [],
   "source": []
  },
  {
   "cell_type": "code",
   "execution_count": null,
   "metadata": {},
   "outputs": [],
   "source": []
  },
  {
   "cell_type": "markdown",
   "metadata": {},
   "source": [
    "# Try Weizmann data"
   ]
  },
  {
   "cell_type": "code",
   "execution_count": 17,
   "metadata": {},
   "outputs": [],
   "source": [
    "import os\n",
    "import cv2\n",
    "\n",
    "from skimage.transform import rescale\n",
    "\n",
    "\n",
    "def load_avi_files(directory):\n",
    "    avi_files = []\n",
    "    for filename in os.listdir(directory):\n",
    "        if filename.endswith('.avi'):\n",
    "            avi_files.append(os.path.join(directory, filename))\n",
    "    return avi_files\n",
    "\n",
    "\n",
    "def read_avi_to_numpy(file_path, coarsen = .03):\n",
    "    cap = cv2.VideoCapture(file_path)\n",
    "    if not cap.isOpened():\n",
    "        print(f\"Error opening video file: {file_path}\")\n",
    "        return None\n",
    "\n",
    "    frames = []\n",
    "    while True:\n",
    "        ret, frame = cap.read()\n",
    "        if not ret:\n",
    "            break\n",
    "        gray_frame = cv2.cvtColor(frame, cv2.COLOR_BGR2GRAY)\n",
    "        frames.append(gray_frame)\n",
    "\n",
    "    cap.release()\n",
    "\n",
    "    frame_array = np.array(frames)\n",
    "\n",
    "    X = rescale(frame_array,(1,coarsen,coarsen))\n",
    "    \n",
    "\n",
    "    # Convert list of frames to a NumPy array\n",
    "    return X\n",
    "\n",
    "\n",
    "directory = '../data/weizmann/'  # Change to your directory\n",
    "\n",
    "classes = ['bend', 'jack', 'run']\n",
    "\n",
    "\n",
    "dataset = []\n",
    "mod_labels = []\n",
    "for class_name in classes:\n",
    "    f_path = os.path.join(directory, class_name)\n",
    "    avi_files = load_avi_files(f_path)\n",
    "    data = [read_avi_to_numpy(avi_file, .03) for avi_file in avi_files]\n",
    "    dataset += data\n",
    "    mod_labels += [class_name]*len(data)"
   ]
  },
  {
   "cell_type": "code",
   "execution_count": 20,
   "metadata": {},
   "outputs": [],
   "source": [
    "fewest_frame_count = np.min([len(d) for d in dataset])\n",
    "_,n_rows, n_cols  = dataset[0].shape\n",
    "\n",
    "trimmed_dataset = []\n",
    "for d in dataset:\n",
    "    n_frames = len(d)\n",
    "    d_trimmed = d[n_frames//2-fewest_frame_count//2:n_frames//2+fewest_frame_count//2,:,:]\n",
    "    trimmed_dataset.append(d_trimmed)\n",
    "\n",
    "center_row = n_rows//2\n",
    "center_col = n_cols//2\n",
    "\n",
    "quarter_row = n_rows//4\n",
    "quarter_col = n_cols//4\n",
    "\n",
    "X = []\n",
    "for d in trimmed_dataset:\n",
    "    ss1 = d[:,n_rows//4:3*n_rows//4, n_cols//4:3*n_cols//4]\n",
    "    ss2_mask = np.zeros((n_rows, n_cols), dtype=bool)\n",
    "    # Set the outer pixels to True\n",
    "    ss2_mask[:n_rows//4, :] = True  # Top\n",
    "    ss2_mask[3*n_rows//4:, :] = True  # Bottom\n",
    "    ss2_mask[:, :n_cols//4] = True  # Left\n",
    "    ss2_mask[:, 3*n_cols//4+1:] = True  # Right\n",
    "\n",
    "    \n",
    "    # plt.axis('off')\n",
    "    ss2 = d[:,ss2_mask]\n",
    "\n",
    "    ss1 = ss1.reshape(ss1.shape[0], -1)\n",
    "    ss2 = ss2.reshape(ss2.shape[0], -1)\n",
    "\n",
    "    d_flat = np.hstack([ss1,ss2])\n",
    "\n",
    "\n",
    "    X.append(d_flat)\n",
    "\n",
    "ss_sizes = [ss1.shape[1], ss2.shape[1]]\n",
    "\n"
   ]
  },
  {
   "cell_type": "code",
   "execution_count": 22,
   "metadata": {},
   "outputs": [],
   "source": [
    "As = [np.arange(len(ss1.T)), np.arange(len(ss1.T)+len(ss2.T))]"
   ]
  },
  {
   "cell_type": "code",
   "execution_count": 34,
   "metadata": {},
   "outputs": [
    {
     "name": "stdout",
     "output_type": "stream",
     "text": [
      "[array([0, 1, 2, 3]), array([ 0,  1,  2,  3,  4,  5,  6,  7,  8,  9, 10, 11, 12, 13, 14, 15, 16,\n",
      "       17])]\n"
     ]
    }
   ],
   "source": [
    "print(As)"
   ]
  },
  {
   "cell_type": "code",
   "execution_count": 35,
   "metadata": {},
   "outputs": [
    {
     "name": "stdout",
     "output_type": "stream",
     "text": [
      "[ 4 18]\n"
     ]
    }
   ],
   "source": [
    "D = X[6]\n",
    "\n",
    "my_flagrep = FlagRep(Aset = As)\n",
    "my_flag = my_flagrep.fit_transform(D)\n",
    "D_out = my_flagrep.inverse_transform(my_flag)\n",
    "print(my_flagrep.flag_type())"
   ]
  },
  {
   "cell_type": "code",
   "execution_count": null,
   "metadata": {},
   "outputs": [],
   "source": [
    "my_flag"
   ]
  },
  {
   "cell_type": "code",
   "execution_count": 40,
   "metadata": {},
   "outputs": [
    {
     "data": {
      "text/plain": [
       "<matplotlib.colorbar.Colorbar at 0x75a27aa4a120>"
      ]
     },
     "execution_count": 40,
     "metadata": {},
     "output_type": "execute_result"
    },
    {
     "data": {
      "image/png": "[encoded data removed]",
      "text/plain": [
       "<Figure size 640x480 with 2 Axes>"
      ]
     },
     "metadata": {},
     "output_type": "display_data"
    }
   ],
   "source": [
    "plt.imshow(my_flag, cmap = 'grey')\n",
    "plt.colorbar()"
   ]
  },
  {
   "cell_type": "code",
   "execution_count": 42,
   "metadata": {},
   "outputs": [
    {
     "data": {
      "text/plain": [
       "<matplotlib.colorbar.Colorbar at 0x75a2b2195e20>"
      ]
     },
     "execution_count": 42,
     "metadata": {},
     "output_type": "execute_result"
    },
    {
     "data": {
      "image/png": "[encoded data removed]",
      "text/plain": [
       "<Figure size 640x480 with 2 Axes>"
      ]
     },
     "metadata": {},
     "output_type": "display_data"
    }
   ],
   "source": [
    "\n",
    "plt.imshow(D_out, cmap = 'grey')\n",
    "plt.colorbar()"
   ]
  },
  {
   "cell_type": "code",
   "execution_count": null,
   "metadata": {},
   "outputs": [],
   "source": []
  }
 ],
 "metadata": {
  "kernelspec": {
   "display_name": "base",
   "language": "python",
   "name": "python3"
  },
  "language_info": {
   "codemirror_mode": {
    "name": "ipython",
    "version": 3
   },
   "file_extension": ".py",
   "mimetype": "text/x-python",
   "name": "python",
   "nbconvert_exporter": "python",
   "pygments_lexer": "ipython3",
   "version": "3.12.3"
  }
 },
 "nbformat": 4,
 "nbformat_minor": 2
}
