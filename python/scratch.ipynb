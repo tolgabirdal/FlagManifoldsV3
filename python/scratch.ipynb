{
 "cells": [
  {
   "cell_type": "code",
   "execution_count": 1,
   "metadata": {},
   "outputs": [],
   "source": [
    "import numpy as np\n",
    "from FlagRep import FlagRep\n",
    "from matplotlib import pyplot as plt\n",
    "\n",
    "\n"
   ]
  },
  {
   "cell_type": "code",
   "execution_count": 2,
   "metadata": {},
   "outputs": [],
   "source": [
    "def my_svd(C: np.array, eps_rank: float = 1, zero_tol: float = 1e-8, n_vecs: int = 0) -> np.array:\n",
    "    U,S,Vh = np.linalg.svd(C, full_matrices=True)\n",
    "\n",
    "    if n_vecs > 0:\n",
    "        U = U[:,:n_vecs]\n",
    "        S = S[:n_vecs]\n",
    "        Vh = Vh[:n_vecs]\n",
    "\n",
    "    else:\n",
    "        nnz_ids = ~np.isclose(S, 0, atol=zero_tol)\n",
    "        U = U[:,:len(S)][:,nnz_ids]\n",
    "        S = S[nnz_ids]\n",
    "        Vh = Vh[nnz_ids,:]\n",
    "\n",
    "        s_prop = np.cumsum(S**2)/np.sum(S**2)\n",
    "        good_idx = s_prop<=eps_rank\n",
    "        U = U[:,good_idx]\n",
    "        S = S[good_idx]\n",
    "        Vh = Vh[good_idx,:]\n",
    "\n",
    "    return U, S, Vh"
   ]
  },
  {
   "cell_type": "code",
   "execution_count": 3,
   "metadata": {},
   "outputs": [
    {
     "name": "stdout",
     "output_type": "stream",
     "text": [
      "matrix rank is 2\n",
      "matrix rank is 2\n",
      "(10, 13)\n",
      "total shape is (10, 13), total rank is 4\n"
     ]
    }
   ],
   "source": [
    "n = 10\n",
    "p = 13\n",
    "\n",
    "hidden_flag_type = [2,4]\n",
    "\n",
    "hidden_ms = [2,2]\n",
    "col_ids = [3,10]\n",
    "\n",
    "np.random.seed(42)\n",
    "\n",
    "\n",
    "D = []\n",
    "for i in range(len(hidden_flag_type)):\n",
    "    # Set dimensions\n",
    "    rows = n\n",
    "    cols = col_ids[i]\n",
    "\n",
    "    # Generate a random matrix of rank < cols\n",
    "    # First, create a matrix of lower rank (rank < cols)\n",
    "    rank = hidden_ms[i] # Specify the desired rank\n",
    "    low_rank_matrix = np.random.randn(rows, rank)\n",
    "\n",
    "    if i > 0:\n",
    "        # Multiply by another random matrix to get the final matrix with more columns\n",
    "        random_matrix = (np.eye(n) - random_matrix @np.linalg.pinv(random_matrix.T @ random_matrix) @ random_matrix.T) @ low_rank_matrix @ np.random.randn(rank, cols)\n",
    "    else:\n",
    "        random_matrix =  low_rank_matrix @ np.random.randn(rank, cols)\n",
    "\n",
    "    # Verify the rank of the matrix\n",
    "    rank_of_matrix = np.linalg.matrix_rank(random_matrix)\n",
    "    print(f'matrix rank is {rank_of_matrix}')\n",
    "\n",
    "    D.append(random_matrix)\n",
    "\n",
    "D = np.hstack(D)\n",
    "print(D.shape)\n",
    "print(f'total shape is {D.shape}, total rank is {np.linalg.matrix_rank(D)}')"
   ]
  },
  {
   "cell_type": "code",
   "execution_count": 4,
   "metadata": {},
   "outputs": [
    {
     "data": {
      "text/plain": [
       "np.int64(2)"
      ]
     },
     "execution_count": 4,
     "metadata": {},
     "output_type": "execute_result"
    }
   ],
   "source": [
    "np.linalg.matrix_rank(D[:,:3])"
   ]
  },
  {
   "cell_type": "code",
   "execution_count": 5,
   "metadata": {},
   "outputs": [
    {
     "name": "stdout",
     "output_type": "stream",
     "text": [
      "[1, 13]\n",
      "FlagRep err: 3.837057710273962e-15\n",
      "Flag type [1 4]\n",
      "\n",
      "[2, 13]\n",
      "FlagRep err: 3.188542974559862e-15\n",
      "Flag type [2 4]\n",
      "\n",
      "[3, 13]\n",
      "FlagRep err: 3.219514982072317e-15\n",
      "Flag type [2 4]\n",
      "\n",
      "[4, 13]\n",
      "FlagRep err: 2.6530124716657623e-15\n",
      "Flag type [3 4]\n",
      "\n",
      "[5, 13]\n",
      "number of subspaces in flag shorter than number feature sets\n",
      "... estimating reconstruction using final part of flag\n",
      "FlagRep err: 2.3479293302228666e-15\n",
      "Flag type [4]\n",
      "\n",
      "[6, 13]\n",
      "number of subspaces in flag shorter than number feature sets\n",
      "... estimating reconstruction using final part of flag\n",
      "FlagRep err: 2.3479293302228666e-15\n",
      "Flag type [4]\n",
      "\n",
      "[7, 13]\n",
      "number of subspaces in flag shorter than number feature sets\n",
      "... estimating reconstruction using final part of flag\n",
      "FlagRep err: 2.632475311351889e-15\n",
      "Flag type [4]\n",
      "\n",
      "[8, 13]\n",
      "number of subspaces in flag shorter than number feature sets\n",
      "... estimating reconstruction using final part of flag\n",
      "FlagRep err: 2.632475311351889e-15\n",
      "Flag type [4]\n",
      "\n",
      "[9, 13]\n",
      "number of subspaces in flag shorter than number feature sets\n",
      "... estimating reconstruction using final part of flag\n",
      "FlagRep err: 2.632475311351889e-15\n",
      "Flag type [4]\n",
      "\n",
      "[10, 13]\n",
      "number of subspaces in flag shorter than number feature sets\n",
      "... estimating reconstruction using final part of flag\n",
      "FlagRep err: 2.2128861585675334e-15\n",
      "Flag type [4]\n",
      "\n",
      "[11, 13]\n",
      "number of subspaces in flag shorter than number feature sets\n",
      "... estimating reconstruction using final part of flag\n",
      "FlagRep err: 2.2128861585675334e-15\n",
      "Flag type [4]\n",
      "\n",
      "[12, 13]\n",
      "number of subspaces in flag shorter than number feature sets\n",
      "... estimating reconstruction using final part of flag\n",
      "FlagRep err: 2.2128861585675334e-15\n",
      "Flag type [4]\n",
      "\n",
      "FlagRep err: 1.3588241969287972e-14\n"
     ]
    }
   ],
   "source": [
    "for i in range(1,p):\n",
    "    print([i,p])\n",
    "    As = [np.arange(i), np.arange(p)]\n",
    "\n",
    "    my_flag_rep = FlagRep(Aset = As, solver = 'qr')\n",
    "    X = my_flag_rep.fit_transform(D)\n",
    "    D_out0 = my_flag_rep.inverse_transform(X)\n",
    "    print(f'FlagRep err: {np.linalg.norm(D_out0-D)}')\n",
    "    print(f'Flag type {my_flag_rep.flag_type()}')\n",
    "    print()\n",
    "\n",
    "\n",
    "    # U,S,Vh = my_svd(D)\n",
    "    # D_out1 = U @ U.T @ D\n",
    "    # print(f'svd err: {np.linalg.norm(D_out1-D)}')\n",
    "\n",
    "# plt.figure()\n",
    "# plt.imshow(D_out0-D_out1, cmap = 'grey')\n",
    "# plt.colorbar()\n",
    "\n",
    "my_flag_rep = FlagRep(Aset = [np.arange(p)])\n",
    "X = my_flag_rep.fit_transform(D)\n",
    "D_out0 = my_flag_rep.inverse_transform(X)\n",
    "print(f'FlagRep err: {np.linalg.norm(D_out0-D)}')"
   ]
  },
  {
   "cell_type": "code",
   "execution_count": 6,
   "metadata": {},
   "outputs": [
    {
     "data": {
      "text/plain": [
       "array([3, 4])"
      ]
     },
     "execution_count": 6,
     "metadata": {},
     "output_type": "execute_result"
    }
   ],
   "source": [
    "As = [np.arange(4), np.arange(p)]\n",
    "my_flag_rep = FlagRep(Aset = As, solver = 'qr')\n",
    "X, R = my_flag_rep.decompose(D)\n",
    "\n",
    "my_flag_rep.flag_type()"
   ]
  },
  {
   "cell_type": "code",
   "execution_count": 7,
   "metadata": {},
   "outputs": [
    {
     "data": {
      "text/plain": [
       "<matplotlib.colorbar.Colorbar at 0x7da72100aa50>"
      ]
     },
     "execution_count": 7,
     "metadata": {},
     "output_type": "execute_result"
    },
    {
     "data": {
      "image/png": "[encoded data removed]",
      "text/plain": [
       "<Figure size 640x480 with 2 Axes>"
      ]
     },
     "metadata": {},
     "output_type": "display_data"
    }
   ],
   "source": [
    "plt.imshow(X @ R- my_flag_rep.inverse_transform(X))\n",
    "plt.colorbar()"
   ]
  },
  {
   "cell_type": "code",
   "execution_count": null,
   "metadata": {},
   "outputs": [],
   "source": []
  },
  {
   "cell_type": "code",
   "execution_count": 8,
   "metadata": {},
   "outputs": [
    {
     "data": {
      "text/plain": [
       "<matplotlib.image.AxesImage at 0x7da71ff305c0>"
      ]
     },
     "execution_count": 8,
     "metadata": {},
     "output_type": "execute_result"
    },
    {
     "data": {
      "image/png": "[encoded data removed]",
      "text/plain": [
       "<Figure size 640x480 with 1 Axes>"
      ]
     },
     "metadata": {},
     "output_type": "display_data"
    }
   ],
   "source": [
    "Q, R = np.linalg.qr(D)\n",
    "\n",
    "plt.imshow(R)"
   ]
  },
  {
   "cell_type": "code",
   "execution_count": 9,
   "metadata": {},
   "outputs": [
    {
     "data": {
      "text/plain": [
       "array([[ 9.25000299e-01, -3.68775869e-02,  1.82055806e-02,\n",
       "         1.28833422e-01, -1.01957720e+00, -1.91571459e-01,\n",
       "         1.84935958e+00, -4.37066301e-01,  2.74793070e-01,\n",
       "         2.30431148e-01, -9.19431642e-01, -6.33548173e-01,\n",
       "        -3.70719170e-01],\n",
       "       [-1.22065012e+00, -9.75343865e-01,  2.12675660e-01,\n",
       "         6.58876113e-01, -1.22034852e+00, -4.53026176e-01,\n",
       "         1.97524932e+00, -3.23959016e-01,  4.83472392e-01,\n",
       "         9.51673146e-01, -5.73355710e-01, -1.33559406e+00,\n",
       "        -1.28763117e+00],\n",
       "       [-9.60040066e-03,  1.80326397e-01, -4.17830346e-02,\n",
       "        -1.28058899e+00, -1.16601708e+00,  4.13940238e-01,\n",
       "         2.78916853e+00, -1.06338217e+00, -1.23075109e-01,\n",
       "        -1.64877395e+00, -2.54294490e+00,  9.08845180e-01,\n",
       "         1.96380449e+00],\n",
       "       [ 1.22117008e+00, -7.74327036e-01,  1.91767254e-01,\n",
       "         7.97129241e-01,  5.40706933e-01, -2.82076460e-01,\n",
       "        -1.38938062e+00,  5.73343856e-01,  1.19335785e-01,\n",
       "         1.03682456e+00,  1.39155534e+00, -6.53995222e-01,\n",
       "        -1.25060294e+00],\n",
       "       [-1.46109599e+00, -1.89364125e-01,  2.84794027e-02,\n",
       "         7.87366781e-01,  6.88718202e-01, -2.58229529e-01,\n",
       "        -1.66207185e+00,  6.40320756e-01,  8.21824224e-02,\n",
       "         1.01534589e+00,  1.53436651e+00, -5.72250084e-01,\n",
       "        -1.21173564e+00],\n",
       "       [-1.56599493e-02,  3.58163964e-01, -8.29537152e-02,\n",
       "         1.54151586e+00,  9.12962494e-01, -5.62985719e-01,\n",
       "        -2.43826378e+00,  1.04526129e+00,  2.61399182e-01,\n",
       "         2.01258068e+00,  2.55388336e+00, -1.32798344e+00,\n",
       "        -2.43866569e+00],\n",
       "       [ 3.08057426e+00,  9.86927366e-01, -1.95886722e-01,\n",
       "         1.34149086e-01, -1.37356558e-01, -7.75847722e-02,\n",
       "         1.94000949e-01, -1.27881387e-02,  7.27904217e-02,\n",
       "         1.87454171e-01, -1.87599263e-03, -2.18948950e-01,\n",
       "        -2.45243050e-01],\n",
       "       [-1.72700556e+00,  6.95545184e-01, -1.78850993e-01,\n",
       "        -3.37876026e-01,  3.03068368e-01,  1.89754079e-01,\n",
       "        -4.08274867e-01,  1.16861057e-02, -1.73435550e-01,\n",
       "        -4.69698209e-01, -3.96089950e-02,  5.31008175e-01,\n",
       "         6.11152324e-01],\n",
       "       [-1.93217800e+00,  5.76024443e-02, -3.35375393e-02,\n",
       "         4.86194847e-01, -6.88627642e-01, -3.06352401e-01,\n",
       "         1.06059582e+00, -1.37657675e-01,  3.07854962e-01,\n",
       "         6.90222592e-01, -2.04048609e-01, -8.84519172e-01,\n",
       "        -9.17891955e-01],\n",
       "       [ 6.81332768e-01,  9.73844053e-01, -2.17973620e-01,\n",
       "         1.19848221e+00, -8.53374045e-01, -6.43848816e-01,\n",
       "         1.03294653e+00,  6.46131725e-02,  5.64035884e-01,\n",
       "         1.65348388e+00,  3.69621416e-01, -1.77785445e+00,\n",
       "        -2.13406560e+00]])"
      ]
     },
     "execution_count": 9,
     "metadata": {},
     "output_type": "execute_result"
    }
   ],
   "source": [
    "D"
   ]
  },
  {
   "cell_type": "markdown",
   "metadata": {},
   "source": [
    "# Trying with HS data"
   ]
  },
  {
   "cell_type": "code",
   "execution_count": 10,
   "metadata": {},
   "outputs": [
    {
     "name": "stdout",
     "output_type": "stream",
     "text": [
      "(145, 145, 200)\n"
     ]
    }
   ],
   "source": [
    "import scipy.io as sio\n",
    "\n",
    "# Load the hyperspectral image and ground truth\n",
    "data = sio.loadmat('../data/indian_pines/Indian_pines_corrected.mat')['indian_pines_corrected'] \n",
    "labels = sio.loadmat('../data/indian_pines/Indian_pines_gt.mat')['indian_pines_gt']  # Shape: (145, 145)\n",
    "\n",
    "\n",
    "print(data.shape)"
   ]
  },
  {
   "cell_type": "code",
   "execution_count": 11,
   "metadata": {},
   "outputs": [],
   "source": [
    "def extract_patches_of_class(data, labels, patch_size, target_class):\n",
    "    \"\"\"\n",
    "    Extract patches where all pixels in the patch are of the target class.\n",
    "\n",
    "    :param data: The hyperspectral image data (145x145x220).\n",
    "    :param labels: The ground truth labels (145x145).\n",
    "    :param patch_size: Size of the patch (e.g., 7 for 7x7 patches).\n",
    "    :param target_class: The class for which patches should be extracted.\n",
    "    :return: A list of patches (each patch is of size patch_size x patch_size x num_bands).\n",
    "    \"\"\"\n",
    "    half_patch = patch_size // 2\n",
    "    patches = []\n",
    "    patch_labels = []\n",
    "\n",
    "    # Iterate through the image, avoiding border pixels (due to patch size)\n",
    "    for i in range(half_patch, data.shape[0] - half_patch):\n",
    "        for j in range(half_patch, data.shape[1] - half_patch):\n",
    "            if labels[i, j] == target_class:\n",
    "                # Extract the patch from both the data and the labels\n",
    "                label_patch = labels[i - half_patch:i + half_patch + 1, j - half_patch:j + half_patch + 1]\n",
    "                \n",
    "                # Check if all pixels in the label patch are of the target class\n",
    "                if np.all(label_patch == target_class):\n",
    "                    # Extract the corresponding data patch\n",
    "                    patch = data[i - half_patch:i + half_patch + 1, j - half_patch:j + half_patch + 1, :]\n",
    "                    patches.append(patch)\n",
    "                    patch_labels.append(target_class)\n",
    "\n",
    "    return np.array(patches), np.array(patch_labels)"
   ]
  },
  {
   "cell_type": "code",
   "execution_count": 12,
   "metadata": {},
   "outputs": [],
   "source": [
    "def extract_patches(data, labels, patch_size, class_ids):\n",
    "    # extract patches\n",
    "    mod_data = []\n",
    "    mod_labels = []\n",
    "    for target_class in class_ids:\n",
    "        patches, patch_labels = extract_patches_of_class(data, labels, patch_size, target_class)\n",
    "        if len(patches) > 0:\n",
    "            flat_patches = []\n",
    "            for patch in patches:\n",
    "                # Your 3D array of size 11x11x200\n",
    "                array_3d = patch  # Example array\n",
    "\n",
    "                center_x, center_y = patch_size//2, patch_size//2\n",
    "\n",
    "                # Create a list of all (x, y) coordinates and compute their Manhattan distances from the center\n",
    "                coords = [(x, y) for x in range(patch_size) for y in range(patch_size)]\n",
    "                distances = [(x, y, max(abs(x - center_x), abs(y - center_y))) for x, y in coords]\n",
    "\n",
    "                # Sort coordinates by distance\n",
    "                sorted_coords = sorted(distances, key=lambda item: item[2])\n",
    "\n",
    "                # Create the 2D array by unwrapping the 3D array based on sorted coordinates\n",
    "                flat_patch = np.array([array_3d[x, y, :] for x, y, _ in sorted_coords])\n",
    "                flat_patches.append(flat_patch.T)\n",
    "\n",
    "                # Create a hierarchy vector containing the Chebyshev distances in the same sorted order\n",
    "                hierarchy_vector = np.array([distance for _, _, distance in sorted_coords])\n",
    "\n",
    "                # Find the indices where the hierarchy vector changes value\n",
    "                change_indices = np.where(np.diff(hierarchy_vector) != 0)[0] + 1  # Add 1 because diff reduces length by 1\n",
    "\n",
    "            change_indices = np.hstack([change_indices,np.array(len(hierarchy_vector))])\n",
    "            mod_labels +=[target_class]*len(patches)\n",
    "            \n",
    "            mod_data += flat_patches\n",
    "\n",
    "            Aset = [np.arange(i) for i in change_indices]\n",
    "\n",
    "        else:\n",
    "            print(f'No patches of class id {target_class}')\n",
    "\n",
    "    \n",
    "        print(f\"Extracted {len(patches)} patches where all pixels are of class {target_class}. Each patch has shape {patch_size}.\")\n",
    "\n",
    "    return mod_data, mod_labels, Aset"
   ]
  },
  {
   "cell_type": "code",
   "execution_count": 13,
   "metadata": {},
   "outputs": [
    {
     "data": {
      "text/plain": [
       "<matplotlib.colorbar.Colorbar at 0x7da71fbe9070>"
      ]
     },
     "execution_count": 13,
     "metadata": {},
     "output_type": "execute_result"
    },
    {
     "data": {
      "image/png": "[encoded data removed]",
      "text/plain": [
       "<Figure size 640x480 with 1 Axes>"
      ]
     },
     "metadata": {},
     "output_type": "display_data"
    },
    {
     "data": {
      "image/png": "[encoded data removed]",
      "text/plain": [
       "<Figure size 640x480 with 2 Axes>"
      ]
     },
     "metadata": {},
     "output_type": "display_data"
    }
   ],
   "source": [
    "# patch_data, patch_labels, Aset = extract_patches(data, labels, 11, np.arange(16))\n",
    "\n",
    "# D = patch_data[0]\n",
    "# D.shape\n",
    "plt.figure()\n",
    "plt.imshow(data[-70:,-70:,2], cmap = 'grey')\n",
    "\n",
    "plt.figure()\n",
    "plt.imshow(labels[-70:,-70:], cmap = 'grey')\n",
    "plt.colorbar()"
   ]
  },
  {
   "cell_type": "code",
   "execution_count": 14,
   "metadata": {},
   "outputs": [
    {
     "data": {
      "text/plain": [
       "(array([  0,   0,   0, ..., 143, 143, 143]),\n",
       " array([ 0,  1,  2, ..., 30, 31, 32]))"
      ]
     },
     "execution_count": 14,
     "metadata": {},
     "output_type": "execute_result"
    }
   ],
   "source": [
    "np.where(labels!=0)"
   ]
  },
  {
   "cell_type": "code",
   "execution_count": 15,
   "metadata": {},
   "outputs": [],
   "source": [
    "D = np.reshape(data[:70,:70,:], (-1,200))\n",
    "# D = np.reshape(data/data.max(), (-1,200))"
   ]
  },
  {
   "cell_type": "code",
   "execution_count": 16,
   "metadata": {},
   "outputs": [
    {
     "data": {
      "text/plain": [
       "(np.int64(200), (4900, 200))"
      ]
     },
     "execution_count": 16,
     "metadata": {},
     "output_type": "execute_result"
    }
   ],
   "source": [
    "np.linalg.matrix_rank(D), D.shape"
   ]
  },
  {
   "cell_type": "code",
   "execution_count": 17,
   "metadata": {},
   "outputs": [
    {
     "name": "stdout",
     "output_type": "stream",
     "text": [
      "[ 40 100 200]\n",
      "580.5492560337225\n"
     ]
    }
   ],
   "source": [
    "Aset = [np.arange(40),  np.arange(100), np.arange(200)]\n",
    "my_flag_rep = FlagRep(Aset = Aset, solver = 'qr')\n",
    "X, R = my_flag_rep.decompose(D)\n",
    "print(my_flag_rep.flag_type())\n",
    "print(np.linalg.norm(X @ R - D))"
   ]
  },
  {
   "cell_type": "code",
   "execution_count": 18,
   "metadata": {},
   "outputs": [],
   "source": [
    "my_flag_rep = FlagRep(Aset = Aset, solver = 'qr')\n",
    "X0 = my_flag_rep.fit_transform(D)"
   ]
  },
  {
   "cell_type": "code",
   "execution_count": 19,
   "metadata": {},
   "outputs": [],
   "source": [
    "my_flag_rep = FlagRep(Aset = Aset, solver = 'svd')\n",
    "X1 = my_flag_rep.fit_transform(D)"
   ]
  },
  {
   "cell_type": "code",
   "execution_count": 20,
   "metadata": {},
   "outputs": [
    {
     "name": "stdout",
     "output_type": "stream",
     "text": [
      "sine squared less than 0\n",
      "-2.393320387739095e-05\n",
      "0\n",
      "0.0\n",
      "0.0002965458131589019\n"
     ]
    },
    {
     "data": {
      "text/plain": [
       "np.float64(0.00041405999447591935)"
      ]
     },
     "execution_count": 20,
     "metadata": {},
     "output_type": "execute_result"
    }
   ],
   "source": [
    "from FlagRep0 import chordal_distance\n",
    "def make_Bs(fl_type):\n",
    "    Bs = [np.arange(fl_type[0])]\n",
    "    for i in range(1,len(fl_type)):\n",
    "        Bs.append(np.arange(fl_type[i-1],fl_type[i]))\n",
    "    return Bs\n",
    "\n",
    "Bs = make_Bs(my_flag_rep.flag_type_)\n",
    "\n",
    "chordal_distance(X0, X1, Bs, Bs)"
   ]
  },
  {
   "cell_type": "code",
   "execution_count": 26,
   "metadata": {},
   "outputs": [
    {
     "data": {
      "text/plain": [
       "(array([[ 1.00000170e+00,  1.11097422e-08,  1.81287133e-08, ...,\n",
       "         -5.98916189e-06,  7.16962416e-06,  2.64006940e-06],\n",
       "        [ 1.11097422e-08,  1.00000100e+00, -2.09888923e-08, ...,\n",
       "         -1.85107123e-07,  5.50995961e-08,  7.42952037e-08],\n",
       "        [ 1.81287133e-08, -2.09888923e-08,  1.00000010e+00, ...,\n",
       "         -8.42420962e-08,  8.54463986e-08,  3.10482077e-08],\n",
       "        ...,\n",
       "        [-5.98916189e-06, -1.85107123e-07, -8.42420962e-08, ...,\n",
       "          1.00000000e+00, -1.07336015e-17, -8.67361738e-19],\n",
       "        [ 7.16962416e-06,  5.50995961e-08,  8.54463986e-08, ...,\n",
       "         -1.07336015e-17,  1.00000000e+00,  6.93889390e-18],\n",
       "        [ 2.64006940e-06,  7.42952037e-08,  3.10482077e-08, ...,\n",
       "         -8.67361738e-19,  6.93889390e-18,  1.00000000e+00]]),\n",
       " array([[ 1.00000000e+00, -4.92227786e-17,  1.38777878e-17, ...,\n",
       "          1.07899800e-15,  1.01351219e-15, -3.82224634e-15],\n",
       "        [-4.92227786e-17,  1.00000000e+00, -3.71230824e-16, ...,\n",
       "         -2.29330444e-15, -3.35625625e-15,  3.55184632e-16],\n",
       "        [ 1.38777878e-17, -3.71230824e-16,  1.00000000e+00, ...,\n",
       "         -1.04777298e-15, -2.40345938e-15, -2.51198801e-15],\n",
       "        ...,\n",
       "        [ 1.07899800e-15, -2.29330444e-15, -1.04777298e-15, ...,\n",
       "          1.00000000e+00,  5.81132364e-17,  1.25767452e-17],\n",
       "        [ 1.01351219e-15, -3.35625625e-15, -2.40345938e-15, ...,\n",
       "          5.81132364e-17,  1.00000000e+00,  1.44415729e-16],\n",
       "        [-3.82224634e-15,  3.55184632e-16, -2.51198801e-15, ...,\n",
       "          1.25767452e-17,  1.44415729e-16,  1.00000000e+00]]))"
      ]
     },
     "execution_count": 26,
     "metadata": {},
     "output_type": "execute_result"
    }
   ],
   "source": [
    "X0.T @ X0, X1.T @ X1"
   ]
  },
  {
   "cell_type": "code",
   "execution_count": 17,
   "metadata": {},
   "outputs": [
    {
     "name": "stdout",
     "output_type": "stream",
     "text": [
      "\n",
      "[ 5 10 20]\n",
      "33.619680231487195\n",
      "47.01243298311335\n",
      "\n",
      "[ 5 10 20]\n",
      "31.69464917293452\n",
      "47.16927034493364\n",
      "\n",
      "[ 5 10 20]\n",
      "30.09281908350896\n",
      "47.2964524142731\n",
      "\n",
      "[ 5 10 20]\n",
      "27.57446658428989\n",
      "48.56366625868065\n",
      "\n",
      "[ 5 10 20]\n",
      "26.251313360361582\n",
      "53.149601701511955\n",
      "\n",
      "[ 5 10 20]\n",
      "29.955908785937407\n",
      "57.53774772252075\n",
      "\n",
      "[ 5 10 20]\n",
      "38.50137122811617\n",
      "61.64874652730386\n"
     ]
    }
   ],
   "source": [
    "\n",
    "U,S,Vh = my_svd(D[:,:100])\n",
    "\n",
    "\n",
    "n_2 = 100\n",
    "p = 100\n",
    "errs = []\n",
    "flag_types = []\n",
    "n1s = []\n",
    "the_As = []\n",
    "for n_1 in range(5,40,5): #loop through every feature combination between {1,2,...,n_1} \\subset {1,...,220}\n",
    "    As = [np.arange(n_1),  np.arange(40), np.arange(100)]\n",
    "    the_As.append(As)\n",
    "\n",
    "    my_flag_rep = FlagRep(Aset = As, flag_type=[5,10,20])\n",
    "\n",
    "    \n",
    "    X = my_flag_rep.fit_transform(D[:,:n_2])\n",
    "    D_out0 = my_flag_rep.inverse_transform(X)\n",
    "    D_out1 = my_flag_rep.inverse_transform(U)\n",
    "    err0 = np.linalg.norm(D_out0[:,:n_2]-D[:,:n_2])**2\n",
    "    errs.append(err0)\n",
    "\n",
    "    # if ~np.isclose(err0,0):\n",
    "    print()\n",
    "    # print(np.array([n_1,n_2]))/\n",
    "    print(my_flag_rep.flag_type())\n",
    "    print(err0)\n",
    "    print(np.linalg.norm(D_out1[:,:n_2]-D[:,:n_2])**2)\n",
    "\n",
    "    # U,_,_ = my_svd(D[:,:n_2], n_vecs = my_flag_rep.flag_type()[-1])\n",
    "    # D_out1 = U[:,:my_flag_rep.flag_type()[-1]] @ U[:,:my_flag_rep.flag_type()[-1]].T @ D[:,:n_2]\n",
    "    # err1 = np.linalg.norm(D_out1[:,:n_2] - D[:,:n_2])**2\n",
    "    \n",
    "    \n",
    "    # if ~np.isclose(err0, 0) and np.abs(err0-err1) < 1000000:\n",
    "    # print()\n",
    "    # print(np.array([n_1,n_2]))\n",
    "    # print(my_flag_rep.flag_type())\n",
    "    # print(err0, err1)\n",
    "\n",
    "    flag_types.append(my_flag_rep.flag_type())\n",
    "    n1s.append(n_1)"
   ]
  },
  {
   "cell_type": "code",
   "execution_count": 20,
   "metadata": {},
   "outputs": [],
   "source": [
    "\n",
    "U,S,Vh = my_svd(D[:,:n_2])\n",
    "D_out1 = U @ U.T @ D[:,:n_2]"
   ]
  },
  {
   "cell_type": "code",
   "execution_count": 21,
   "metadata": {},
   "outputs": [
    {
     "data": {
      "text/plain": [
       "25"
      ]
     },
     "execution_count": 21,
     "metadata": {},
     "output_type": "execute_result"
    }
   ],
   "source": [
    "n1s[np.argmin(errs)]"
   ]
  },
  {
   "cell_type": "code",
   "execution_count": 22,
   "metadata": {},
   "outputs": [
    {
     "data": {
      "text/plain": [
       "np.int64(0)"
      ]
     },
     "execution_count": 22,
     "metadata": {},
     "output_type": "execute_result"
    }
   ],
   "source": [
    "# np.sort(errs), \n",
    "np.sum(np.isclose(errs, 0))"
   ]
  },
  {
   "cell_type": "code",
   "execution_count": 23,
   "metadata": {},
   "outputs": [
    {
     "data": {
      "text/plain": [
       "np.float64(0.006975961577750164)"
      ]
     },
     "execution_count": 23,
     "metadata": {},
     "output_type": "execute_result"
    }
   ],
   "source": [
    "\n",
    "U,S,Vh = my_svd(D[:,:n_2])\n",
    "np.linalg.norm(D[:,:n_2] - U @ U.T @ D[:,:n_2])**2"
   ]
  },
  {
   "cell_type": "code",
   "execution_count": 24,
   "metadata": {},
   "outputs": [
    {
     "data": {
      "text/plain": [
       "Text(0, 0.5, 'reconstruction error')"
      ]
     },
     "execution_count": 24,
     "metadata": {},
     "output_type": "execute_result"
    },
    {
     "data": {
      "image/png": "[encoded data removed]",
      "text/plain": [
       "<Figure size 640x480 with 1 Axes>"
      ]
     },
     "metadata": {},
     "output_type": "display_data"
    }
   ],
   "source": [
    "fig, ax = plt.subplots()\n",
    "ax.plot(n1s, errs)\n",
    "ax.axhline(np.linalg.norm(D_out1-D[:,:n_2])**2)\n",
    "plt.xlabel('n')\n",
    "plt.ylabel('reconstruction error')\n",
    "# ax.set_yscale('log')"
   ]
  },
  {
   "cell_type": "code",
   "execution_count": 15,
   "metadata": {},
   "outputs": [
    {
     "data": {
      "text/plain": [
       "(np.float64(24089515415.602745), np.float64(4.295490191164382e-18))"
      ]
     },
     "execution_count": 15,
     "metadata": {},
     "output_type": "execute_result"
    }
   ],
   "source": [
    "errs[-1], np.linalg.norm(D_out1-D[:,:n_2])**2"
   ]
  },
  {
   "cell_type": "code",
   "execution_count": 42,
   "metadata": {},
   "outputs": [
    {
     "data": {
      "text/plain": [
       "array([[-1.51936997, -0.48423407,  1.26691115, -0.70766947,  0.44381943],\n",
       "       [ 0.77463405, -0.92693047, -0.05952536, -3.24126734, -1.02438764],\n",
       "       [-0.25256815, -1.24778318,  1.6324113 , -1.43014138, -0.44004449],\n",
       "       [ 0.13074058,  1.44127329, -1.43586215,  1.16316375,  0.01023306],\n",
       "       [-0.98150865,  0.46210347,  0.1990597 , -0.60021688,  0.06980208]])"
      ]
     },
     "execution_count": 42,
     "metadata": {},
     "output_type": "execute_result"
    }
   ],
   "source": [
    "S = np.random.normal(size = (5,5))\n",
    "S"
   ]
  },
  {
   "cell_type": "code",
   "execution_count": 46,
   "metadata": {},
   "outputs": [
    {
     "data": {
      "text/plain": [
       "array([[ 1.6324113 , -1.43014138, -0.44004449],\n",
       "       [-1.43586215,  1.16316375,  0.01023306],\n",
       "       [ 0.1990597 , -0.60021688,  0.06980208]])"
      ]
     },
     "execution_count": 46,
     "metadata": {},
     "output_type": "execute_result"
    }
   ],
   "source": [
    "S[np.array([2,3,4]),:][:,np.array([2,3,4])]"
   ]
  },
  {
   "cell_type": "code",
   "execution_count": 47,
   "metadata": {},
   "outputs": [
    {
     "data": {
      "text/plain": [
       "array([[ 1.6324113 , -1.43014138, -0.44004449],\n",
       "       [-1.43586215,  1.16316375,  0.01023306],\n",
       "       [ 0.1990597 , -0.60021688,  0.06980208]])"
      ]
     },
     "execution_count": 47,
     "metadata": {},
     "output_type": "execute_result"
    }
   ],
   "source": [
    "S[2:5,2:5]"
   ]
  },
  {
   "cell_type": "code",
   "execution_count": null,
   "metadata": {},
   "outputs": [],
   "source": []
  },
  {
   "cell_type": "markdown",
   "metadata": {},
   "source": [
    "# Try Weizmann data"
   ]
  },
  {
   "cell_type": "code",
   "execution_count": 17,
   "metadata": {},
   "outputs": [],
   "source": [
    "import os\n",
    "import cv2\n",
    "\n",
    "from skimage.transform import rescale\n",
    "\n",
    "\n",
    "def load_avi_files(directory):\n",
    "    avi_files = []\n",
    "    for filename in os.listdir(directory):\n",
    "        if filename.endswith('.avi'):\n",
    "            avi_files.append(os.path.join(directory, filename))\n",
    "    return avi_files\n",
    "\n",
    "\n",
    "def read_avi_to_numpy(file_path, coarsen = .03):\n",
    "    cap = cv2.VideoCapture(file_path)\n",
    "    if not cap.isOpened():\n",
    "        print(f\"Error opening video file: {file_path}\")\n",
    "        return None\n",
    "\n",
    "    frames = []\n",
    "    while True:\n",
    "        ret, frame = cap.read()\n",
    "        if not ret:\n",
    "            break\n",
    "        gray_frame = cv2.cvtColor(frame, cv2.COLOR_BGR2GRAY)\n",
    "        frames.append(gray_frame)\n",
    "\n",
    "    cap.release()\n",
    "\n",
    "    frame_array = np.array(frames)\n",
    "\n",
    "    X = rescale(frame_array,(1,coarsen,coarsen))\n",
    "    \n",
    "\n",
    "    # Convert list of frames to a NumPy array\n",
    "    return X\n",
    "\n",
    "\n",
    "directory = '../data/weizmann/'  # Change to your directory\n",
    "\n",
    "classes = ['bend', 'jack', 'run']\n",
    "\n",
    "\n",
    "dataset = []\n",
    "mod_labels = []\n",
    "for class_name in classes:\n",
    "    f_path = os.path.join(directory, class_name)\n",
    "    avi_files = load_avi_files(f_path)\n",
    "    data = [read_avi_to_numpy(avi_file, .03) for avi_file in avi_files]\n",
    "    dataset += data\n",
    "    mod_labels += [class_name]*len(data)"
   ]
  },
  {
   "cell_type": "code",
   "execution_count": 20,
   "metadata": {},
   "outputs": [],
   "source": [
    "fewest_frame_count = np.min([len(d) for d in dataset])\n",
    "_,n_rows, n_cols  = dataset[0].shape\n",
    "\n",
    "trimmed_dataset = []\n",
    "for d in dataset:\n",
    "    n_frames = len(d)\n",
    "    d_trimmed = d[n_frames//2-fewest_frame_count//2:n_frames//2+fewest_frame_count//2,:,:]\n",
    "    trimmed_dataset.append(d_trimmed)\n",
    "\n",
    "center_row = n_rows//2\n",
    "center_col = n_cols//2\n",
    "\n",
    "quarter_row = n_rows//4\n",
    "quarter_col = n_cols//4\n",
    "\n",
    "X = []\n",
    "for d in trimmed_dataset:\n",
    "    ss1 = d[:,n_rows//4:3*n_rows//4, n_cols//4:3*n_cols//4]\n",
    "    ss2_mask = np.zeros((n_rows, n_cols), dtype=bool)\n",
    "    # Set the outer pixels to True\n",
    "    ss2_mask[:n_rows//4, :] = True  # Top\n",
    "    ss2_mask[3*n_rows//4:, :] = True  # Bottom\n",
    "    ss2_mask[:, :n_cols//4] = True  # Left\n",
    "    ss2_mask[:, 3*n_cols//4+1:] = True  # Right\n",
    "\n",
    "    \n",
    "    # plt.axis('off')\n",
    "    ss2 = d[:,ss2_mask]\n",
    "\n",
    "    ss1 = ss1.reshape(ss1.shape[0], -1)\n",
    "    ss2 = ss2.reshape(ss2.shape[0], -1)\n",
    "\n",
    "    d_flat = np.hstack([ss1,ss2])\n",
    "\n",
    "\n",
    "    X.append(d_flat)\n",
    "\n",
    "ss_sizes = [ss1.shape[1], ss2.shape[1]]\n",
    "\n"
   ]
  },
  {
   "cell_type": "code",
   "execution_count": 22,
   "metadata": {},
   "outputs": [],
   "source": [
    "As = [np.arange(len(ss1.T)), np.arange(len(ss1.T)+len(ss2.T))]"
   ]
  },
  {
   "cell_type": "code",
   "execution_count": 34,
   "metadata": {},
   "outputs": [
    {
     "name": "stdout",
     "output_type": "stream",
     "text": [
      "[array([0, 1, 2, 3]), array([ 0,  1,  2,  3,  4,  5,  6,  7,  8,  9, 10, 11, 12, 13, 14, 15, 16,\n",
      "       17])]\n"
     ]
    }
   ],
   "source": [
    "print(As)"
   ]
  },
  {
   "cell_type": "code",
   "execution_count": 35,
   "metadata": {},
   "outputs": [
    {
     "name": "stdout",
     "output_type": "stream",
     "text": [
      "[ 4 18]\n"
     ]
    }
   ],
   "source": [
    "D = X[6]\n",
    "\n",
    "my_flagrep = FlagRep(Aset = As)\n",
    "my_flag = my_flagrep.fit_transform(D)\n",
    "D_out = my_flagrep.inverse_transform(my_flag)\n",
    "print(my_flagrep.flag_type())"
   ]
  },
  {
   "cell_type": "code",
   "execution_count": null,
   "metadata": {},
   "outputs": [],
   "source": [
    "my_flag"
   ]
  },
  {
   "cell_type": "code",
   "execution_count": 40,
   "metadata": {},
   "outputs": [
    {
     "data": {
      "text/plain": [
       "<matplotlib.colorbar.Colorbar at 0x75a27aa4a120>"
      ]
     },
     "execution_count": 40,
     "metadata": {},
     "output_type": "execute_result"
    },
    {
     "data": {
      "image/png": "[encoded data removed]",
      "text/plain": [
       "<Figure size 640x480 with 2 Axes>"
      ]
     },
     "metadata": {},
     "output_type": "display_data"
    }
   ],
   "source": [
    "plt.imshow(my_flag, cmap = 'grey')\n",
    "plt.colorbar()"
   ]
  },
  {
   "cell_type": "code",
   "execution_count": 42,
   "metadata": {},
   "outputs": [
    {
     "data": {
      "text/plain": [
       "<matplotlib.colorbar.Colorbar at 0x75a2b2195e20>"
      ]
     },
     "execution_count": 42,
     "metadata": {},
     "output_type": "execute_result"
    },
    {
     "data": {
      "image/png": "[encoded data removed]",
      "text/plain": [
       "<Figure size 640x480 with 2 Axes>"
      ]
     },
     "metadata": {},
     "output_type": "display_data"
    }
   ],
   "source": [
    "\n",
    "plt.imshow(D_out, cmap = 'grey')\n",
    "plt.colorbar()"
   ]
  },
  {
   "cell_type": "code",
   "execution_count": null,
   "metadata": {},
   "outputs": [],
   "source": []
  }
 ],
 "metadata": {
  "kernelspec": {
   "display_name": "flags3",
   "language": "python",
   "name": "python3"
  },
  "language_info": {
   "codemirror_mode": {
    "name": "ipython",
    "version": 3
   },
   "file_extension": ".py",
   "mimetype": "text/x-python",
   "name": "python",
   "nbconvert_exporter": "python",
   "pygments_lexer": "ipython3",
   "version": "3.12.3"
  }
 },
 "nbformat": 4,
 "nbformat_minor": 2
}
