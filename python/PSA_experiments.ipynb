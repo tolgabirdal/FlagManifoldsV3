{
 "cells": [
  {
   "cell_type": "code",
   "execution_count": 1,
   "metadata": {},
   "outputs": [],
   "source": [
    "import numpy as np\n",
    "\n",
    "from FlagRep import FlagRep\n",
    "\n",
    "import itertools\n",
    "from sklearn.cluster import AgglomerativeClustering\n",
    "\n",
    "import matplotlib.pyplot as plt\n",
    "\n",
    "import os\n",
    "from skimage import color\n",
    "from skimage import io\n",
    "from sklearn.feature_extraction.image import extract_patches_2d"
   ]
  },
  {
   "cell_type": "markdown",
   "metadata": {},
   "source": [
    "Useful functions... code from https://arxiv.org/pdf/2307.15348"
   ]
  },
  {
   "cell_type": "code",
   "execution_count": 2,
   "metadata": {},
   "outputs": [],
   "source": [
    "def ll(model, eigval, n):\n",
    "    \"\"\" Compute the maximum log-likelihood of a PSA model from the sample eigenvalues.\n",
    "    eigval must be sorted in decreasing order.\n",
    "    \"\"\"\n",
    "    p = np.sum(model)\n",
    "    q_list = (0,) + tuple(np.cumsum(model))\n",
    "    eigval_mle = np.concatenate([[np.mean(eigval[qk:qk_])] * gamma_k for (qk, qk_, gamma_k) in zip(q_list[:-1], q_list[1:], model)])\n",
    "    return - (n / 2) * (p * np.log(2 * np.pi) + np.sum(np.log(eigval_mle)) + p)\n",
    "\n",
    "def kappa(model):\n",
    "    \"\"\" Compute the number of free parameters of a PSA model.\n",
    "    \"\"\"\n",
    "    p = np.sum(model)\n",
    "    kappa_mu = p\n",
    "    kappa_eigvals = len(model)\n",
    "    kappa_eigenspaces = int(p * (p - 1) / 2 - np.sum(np.array(model) * (np.array(model) - 1) / 2))\n",
    "    return kappa_mu + kappa_eigvals + kappa_eigenspaces\n",
    "\n",
    "def bic(model, eigval, n):\n",
    "    \"\"\" Compute the Bayesian Information Criterion (BIC) of a PSA model from the sample eigenvalues.\n",
    "    eigval must be sorted in decreasing order.\n",
    "    \"\"\"\n",
    "    return kappa(model) * np.log(n) - 2 * ll(model, eigval, n)\n",
    "\n",
    "def aic(model, eigval, n):\n",
    "    \"\"\" Compute the Akaike Information Criterion (AIC) of a PSA model from the sample eigenvalues.\n",
    "    eigval must be sorted in decreasing order.\n",
    "    \"\"\"\n",
    "    return 2 * kappa(model) - 2 * ll(model, eigval, n)\n",
    "\n",
    "def evd(X, plot_scree=False):\n",
    "    \"\"\" Perform the eigenvalue decomposition (EVD) of the sample covariance matrix of X.\n",
    "    Return sample eigenvalues and eigenvectors with decreasing amplitude.\n",
    "    \"\"\"\n",
    "    n, p = X.shape\n",
    "    mu = np.mean(X, axis=0)\n",
    "    S = 1 / n * ((X - mu).T @ (X - mu))\n",
    "    eigval, eigvec = np.linalg.eigh(S)\n",
    "    eigval, eigvec = np.flip(eigval, -1), np.flip(eigvec, -1)\n",
    "    if plot_scree:\n",
    "        fig = plt.figure()\n",
    "        plt.bar(np.arange(1, p + 1), eigval, color='k')\n",
    "        plt.title(\"Eigenvalue scree plot\")\n",
    "        plt.show()\n",
    "    return eigval, eigvec\n",
    "\n",
    "def candidate_models_hierarchical(eigval, distance=\"relative\", linkage=\"single\"):\n",
    "    \"\"\" Perform a hierarchical clustering of the sample eigenvalues for model selection.\n",
    "    \"\"\"\n",
    "    p = len(eigval)\n",
    "    updiag = np.array([[j == (i + 1) for j in range(p)] for i in range(p)]).astype('int')\n",
    "    if distance == \"absolute\":\n",
    "        metric = \"euclidean\"\n",
    "        Z = eigval[:, None]\n",
    "    elif distance == \"relative\":\n",
    "        metric = \"precomputed\"\n",
    "        Z = np.zeros((p, p))\n",
    "        for j in range(p-1):\n",
    "            Z[j, j+1] = (eigval[j] - eigval[j+1]) / eigval[j]\n",
    "        Z = Z + Z.T\n",
    "    else:\n",
    "        raise NotImplementedError()\n",
    "    clustering = AgglomerativeClustering(connectivity=updiag+updiag.T, metric=metric, linkage=linkage).fit(Z)\n",
    "    merges = clustering.children_\n",
    "    models = [[1,] * p]\n",
    "    nodes_locations = [i for i in range(p)]\n",
    "    for j, merge in enumerate(merges):\n",
    "        model = models[-1].copy()\n",
    "        k = min(nodes_locations.index(merge[0]), nodes_locations.index(merge[1]))\n",
    "        model[k] += model[k+1]\n",
    "        del model[k+1]\n",
    "        models.append(model)\n",
    "        nodes_locations[k] = p + j\n",
    "        del nodes_locations[k+1]\n",
    "    return models\n",
    "\n",
    "def model_selection(X, candidate_models, criterion=\"bic\"):\n",
    "    \"\"\" Perform model selection by minimizing a criterion (AIC or BIC) among a family of candidate models.\n",
    "    eigval must be sorted in decreasing order.\n",
    "    \"\"\"\n",
    "    n, p = X.shape\n",
    "    eigval, _ = evd(X)\n",
    "    model_best = None; crit_best = np.inf\n",
    "    for model in candidate_models:\n",
    "        if criterion == \"bic\":\n",
    "            crit_model = bic(model, eigval, n)\n",
    "        elif criterion == \"aic\":\n",
    "            crit_model = aic(model, eigval, n)\n",
    "        else:\n",
    "            raise NotImplementedError\n",
    "        if crit_model < crit_best:\n",
    "            model_best = model\n",
    "            crit_best = crit_model\n",
    "    return model_best, crit_best\n",
    "\n",
    "def model_selection_eval(X, eigval, candidate_models, criterion=\"bic\"):\n",
    "    \"\"\" Perform model selection by minimizing a criterion (AIC or BIC) among a family of candidate models.\n",
    "    eigval must be sorted in decreasing order.\n",
    "    \"\"\"\n",
    "    n, p = X.shape\n",
    "    model_best = None; crit_best = np.inf\n",
    "    for model in candidate_models:\n",
    "        if criterion == \"bic\":\n",
    "            crit_model = bic(model, eigval, n)\n",
    "        elif criterion == \"aic\":\n",
    "            crit_model = aic(model, eigval, n)\n",
    "        else:\n",
    "            raise NotImplementedError\n",
    "        if crit_model < crit_best:\n",
    "            model_best = model\n",
    "            crit_best = crit_model\n",
    "    return model_best, crit_best"
   ]
  },
  {
   "cell_type": "markdown",
   "metadata": {},
   "source": [
    "Reproducing results ... code from https://arxiv.org/pdf/2307.15348"
   ]
  },
  {
   "cell_type": "code",
   "execution_count": 3,
   "metadata": {},
   "outputs": [
    {
     "data": {
      "image/png": "[encoded data removed]",
      "text/plain": [
       "<Figure size 800x800 with 9 Axes>"
      ]
     },
     "metadata": {},
     "output_type": "display_data"
    },
    {
     "data": {
      "image/png": "[encoded data removed]",
      "text/plain": [
       "<Figure size 640x480 with 1 Axes>"
      ]
     },
     "metadata": {},
     "output_type": "display_data"
    }
   ],
   "source": [
    "np.random.seed(42)\n",
    "\n",
    "# Generate dataset\n",
    "dir_name = \"../data/flower_10/\"\n",
    "patchsize = 8\n",
    "n = 500\n",
    "X_img = []\n",
    "for i, file in enumerate(os.listdir(dir_name)):\n",
    "    img = color.rgb2gray(io.imread(dir_name+file))\n",
    "    patches = extract_patches_2d(img, (patchsize, patchsize))\n",
    "    patches = patches - np.mean(patches, axis=(1, 2))[:, np.newaxis, np.newaxis]  # remove DC component\n",
    "    X_img.append(patches[np.random.choice(np.arange(patches.shape[0]), size=n//10, replace=False)])\n",
    "X = np.concatenate(X_img, axis=0)\n",
    "\n",
    "# Plot dataset\n",
    "fig, axes = plt.subplots(3, 3, figsize=(8, 8))\n",
    "for i, ax in enumerate(axes.flatten()):\n",
    "    ax.imshow(X[n//10 * i], cmap=\"gray\")\n",
    "    ax.axis('off')\n",
    "fig.subplots_adjust(wspace=.1, hspace=.1)\n",
    "plt.show()\n",
    "\n",
    "# Compute BIC of PPCA and PSA models\n",
    "X = X.reshape((n, patchsize*patchsize))\n",
    "n, p = X.shape\n",
    "eigval, eigvec = evd(X)\n",
    "plt.figure()\n",
    "plt.bar(np.arange(25), eigval[:25], color='k')\n",
    "plt.show()\n",
    "bic_psa = bic((2, 3, p - 5), eigval, n)\n",
    "bic_ppca = bic((1, 1, 1, 1, 1, p - 5), eigval, n)\n"
   ]
  },
  {
   "cell_type": "code",
   "execution_count": 4,
   "metadata": {},
   "outputs": [],
   "source": [
    "models = candidate_models_hierarchical(eigval[:10])\n",
    "fl_type0, bic0 = model_selection(X, models, criterion=\"bic\")"
   ]
  },
  {
   "cell_type": "code",
   "execution_count": 5,
   "metadata": {},
   "outputs": [],
   "source": [
    "fl_type = list(np.cumsum(fl_type0).astype(int))\n"
   ]
  },
  {
   "cell_type": "markdown",
   "metadata": {},
   "source": [
    "Trying to find flags in cats and dogs\n",
    "\n",
    "code from https://openaccess.thecvf.com/content/ICCV2023/papers/Mankovich_Chordal_Averaging_on_Flag_Manifolds_and_Its_Applications_ICCV_2023_paper.pdf"
   ]
  },
  {
   "cell_type": "code",
   "execution_count": 6,
   "metadata": {},
   "outputs": [],
   "source": [
    "import torch\n",
    "\n",
    "from sklearn.decomposition import PCA\n",
    "\n",
    "from matplotlib import pyplot as plt\n",
    "\n",
    "import numpy as np\n",
    "\n",
    "import pandas as pd\n",
    "\n",
    "import sys\n",
    "sys.path.append('../scripts')\n",
    "\n",
    "import fl_algorithms as fl\n",
    "import center_algorithms as ca"
   ]
  },
  {
   "cell_type": "code",
   "execution_count": 7,
   "metadata": {},
   "outputs": [],
   "source": [
    "n_pcs = 5"
   ]
  },
  {
   "cell_type": "code",
   "execution_count": 13,
   "metadata": {},
   "outputs": [],
   "source": [
    "data = torch.load('../data/cats_dogs/myCATS.pt').numpy().T\n",
    "p, n = data.shape\n",
    "\n",
    "#regular PCA\n",
    "eigval, eigvec = evd(data)\n",
    "baseline_weights = eigvec[:,:n_pcs]"
   ]
  },
  {
   "cell_type": "code",
   "execution_count": 15,
   "metadata": {},
   "outputs": [
    {
     "data": {
      "text/plain": [
       "4096"
      ]
     },
     "execution_count": 15,
     "metadata": {},
     "output_type": "execute_result"
    }
   ],
   "source": [
    "len(\n",
    "    eigval)"
   ]
  },
  {
   "cell_type": "code",
   "execution_count": 9,
   "metadata": {},
   "outputs": [],
   "source": [
    "models = [[1,1,1,1,1,4096-n_pcs],\n",
    "          [1,1,1,2,4096-n_pcs],[1,1,2,1,4096-n_pcs],[1,2,1,1,4096-n_pcs],[2,1,1,1,4096-n_pcs],\n",
    "          [3,1,1,4096-n_pcs],[2,2,1,4096-n_pcs],[1,3,1,4096-n_pcs],[2,1,2,4096-n_pcs],[1,2,2,4096-n_pcs],[1,1,3,4096-n_pcs],\n",
    "          [4,1,4096-n_pcs],[3,2,4096-n_pcs],[2,3,4096-n_pcs],[1,4,4096-n_pcs],\n",
    "          [5,4096-n_pcs]]"
   ]
  },
  {
   "cell_type": "code",
   "execution_count": 10,
   "metadata": {},
   "outputs": [],
   "source": [
    "n_splits = list(range(2,7,1))\n",
    "n_trials = 1 #20\n",
    "\n",
    "results = pd.DataFrame(columns = ['Number of Splits','Trial', 'Distance', 'Average']) "
   ]
  },
  {
   "cell_type": "code",
   "execution_count": 11,
   "metadata": {},
   "outputs": [
    {
     "name": "stdout",
     "output_type": "stream",
     "text": [
      "running split 2\n",
      "[1, 2, 2]\n",
      "[2, 3]\n",
      "running split 3\n",
      "[2, 3]\n",
      "[2, 3]\n",
      "[2, 3]\n",
      "running split 4\n",
      "[3, 2]\n",
      "[1, 4]\n",
      "[2, 3]\n",
      "[2, 3]\n",
      "running split 5\n",
      "[5]\n",
      "[1, 4]\n",
      "[5]\n",
      "[2, 3]\n",
      "[2, 3]\n",
      "running split 6\n",
      "[5]\n"
     ]
    },
    {
     "ename": "KeyboardInterrupt",
     "evalue": "",
     "output_type": "error",
     "traceback": [
      "\u001b[0;31m---------------------------------------------------------------------------\u001b[0m",
      "\u001b[0;31mKeyboardInterrupt\u001b[0m                         Traceback (most recent call last)",
      "Cell \u001b[0;32mIn[11], line 21\u001b[0m\n\u001b[1;32m     17\u001b[0m left_over \u001b[38;5;241m=\u001b[39m \u001b[38;5;28mset\u001b[39m(left_over)\u001b[38;5;241m.\u001b[39mdifference(\u001b[38;5;28mset\u001b[39m(idx))\n\u001b[1;32m     20\u001b[0m \u001b[38;5;66;03m# compute pca   \u001b[39;00m\n\u001b[0;32m---> 21\u001b[0m eigval, eigvec \u001b[38;5;241m=\u001b[39m \u001b[43mevd\u001b[49m\u001b[43m(\u001b[49m\u001b[43msubset_data\u001b[49m\u001b[43m)\u001b[49m\n\u001b[1;32m     22\u001b[0m weights \u001b[38;5;241m=\u001b[39m eigvec[:,:n_pcs]\n\u001b[1;32m     23\u001b[0m weight_data\u001b[38;5;241m.\u001b[39mappend(weights)\n",
      "Cell \u001b[0;32mIn[2], line 38\u001b[0m, in \u001b[0;36mevd\u001b[0;34m(X, plot_scree)\u001b[0m\n\u001b[1;32m     36\u001b[0m mu \u001b[38;5;241m=\u001b[39m np\u001b[38;5;241m.\u001b[39mmean(X, axis\u001b[38;5;241m=\u001b[39m\u001b[38;5;241m0\u001b[39m)\n\u001b[1;32m     37\u001b[0m S \u001b[38;5;241m=\u001b[39m \u001b[38;5;241m1\u001b[39m \u001b[38;5;241m/\u001b[39m n \u001b[38;5;241m*\u001b[39m ((X \u001b[38;5;241m-\u001b[39m mu)\u001b[38;5;241m.\u001b[39mT \u001b[38;5;241m@\u001b[39m (X \u001b[38;5;241m-\u001b[39m mu))\n\u001b[0;32m---> 38\u001b[0m eigval, eigvec \u001b[38;5;241m=\u001b[39m \u001b[43mnp\u001b[49m\u001b[38;5;241;43m.\u001b[39;49m\u001b[43mlinalg\u001b[49m\u001b[38;5;241;43m.\u001b[39;49m\u001b[43meigh\u001b[49m\u001b[43m(\u001b[49m\u001b[43mS\u001b[49m\u001b[43m)\u001b[49m\n\u001b[1;32m     39\u001b[0m eigval, eigvec \u001b[38;5;241m=\u001b[39m np\u001b[38;5;241m.\u001b[39mflip(eigval, \u001b[38;5;241m-\u001b[39m\u001b[38;5;241m1\u001b[39m), np\u001b[38;5;241m.\u001b[39mflip(eigvec, \u001b[38;5;241m-\u001b[39m\u001b[38;5;241m1\u001b[39m)\n\u001b[1;32m     40\u001b[0m \u001b[38;5;28;01mif\u001b[39;00m plot_scree:\n",
      "File \u001b[0;32m~/anaconda3/envs/flags3/lib/python3.12/site-packages/numpy/linalg/linalg.py:1487\u001b[0m, in \u001b[0;36meigh\u001b[0;34m(a, UPLO)\u001b[0m\n\u001b[1;32m   1484\u001b[0m     gufunc \u001b[38;5;241m=\u001b[39m _umath_linalg\u001b[38;5;241m.\u001b[39meigh_up\n\u001b[1;32m   1486\u001b[0m signature \u001b[38;5;241m=\u001b[39m \u001b[38;5;124m'\u001b[39m\u001b[38;5;124mD->dD\u001b[39m\u001b[38;5;124m'\u001b[39m \u001b[38;5;28;01mif\u001b[39;00m isComplexType(t) \u001b[38;5;28;01melse\u001b[39;00m \u001b[38;5;124m'\u001b[39m\u001b[38;5;124md->dd\u001b[39m\u001b[38;5;124m'\u001b[39m\n\u001b[0;32m-> 1487\u001b[0m w, vt \u001b[38;5;241m=\u001b[39m \u001b[43mgufunc\u001b[49m\u001b[43m(\u001b[49m\u001b[43ma\u001b[49m\u001b[43m,\u001b[49m\u001b[43m \u001b[49m\u001b[43msignature\u001b[49m\u001b[38;5;241;43m=\u001b[39;49m\u001b[43msignature\u001b[49m\u001b[43m,\u001b[49m\u001b[43m \u001b[49m\u001b[43mextobj\u001b[49m\u001b[38;5;241;43m=\u001b[39;49m\u001b[43mextobj\u001b[49m\u001b[43m)\u001b[49m\n\u001b[1;32m   1488\u001b[0m w \u001b[38;5;241m=\u001b[39m w\u001b[38;5;241m.\u001b[39mastype(_realType(result_t), copy\u001b[38;5;241m=\u001b[39m\u001b[38;5;28;01mFalse\u001b[39;00m)\n\u001b[1;32m   1489\u001b[0m vt \u001b[38;5;241m=\u001b[39m vt\u001b[38;5;241m.\u001b[39mastype(result_t, copy\u001b[38;5;241m=\u001b[39m\u001b[38;5;28;01mFalse\u001b[39;00m)\n",
      "\u001b[0;31mKeyboardInterrupt\u001b[0m: "
     ]
    }
   ],
   "source": [
    "for n_split in n_splits:\n",
    "\n",
    "    print(f'running split {n_split}')\n",
    "    for trial in range(n_trials):\n",
    "        np.random.seed(trial)\n",
    "\n",
    "        weight_data = []\n",
    "\n",
    "        left_over = np.arange(p)\n",
    "        for split in range(n_split):\n",
    "            left_over = np.array(list(left_over))\n",
    "            # subset data\n",
    "            idx0 = np.random.choice(len(left_over), (p-1)//n_split, replace = False)\n",
    "            idx = left_over[idx0]\n",
    "            subset_data = data[idx, :]\n",
    "            # left over idx\n",
    "            left_over = set(left_over).difference(set(idx))\n",
    "        \n",
    "\n",
    "            # compute pca   \n",
    "            eigval, eigvec = evd(subset_data)\n",
    "            weights = eigvec[:,:n_pcs]\n",
    "            weight_data.append(weights)\n",
    "\n",
    "            fl_type0, bic0 = model_selection_eval(subset_data, eigval, models, criterion=\"bic\")\n",
    "\n",
    "            print(fl_type0)"
   ]
  },
  {
   "cell_type": "code",
   "execution_count": 12,
   "metadata": {},
   "outputs": [
    {
     "data": {
      "text/plain": [
       "(32, 4096)"
      ]
     },
     "execution_count": 12,
     "metadata": {},
     "output_type": "execute_result"
    }
   ],
   "source": [
    "subset_data.shape"
   ]
  },
  {
   "cell_type": "code",
   "execution_count": null,
   "metadata": {},
   "outputs": [],
   "source": []
  },
  {
   "cell_type": "markdown",
   "metadata": {},
   "source": [
    "MNIST??"
   ]
  },
  {
   "cell_type": "code",
   "execution_count": null,
   "metadata": {},
   "outputs": [],
   "source": [
    "from sklearn import datasets"
   ]
  },
  {
   "cell_type": "code",
   "execution_count": null,
   "metadata": {},
   "outputs": [],
   "source": []
  }
 ],
 "metadata": {
  "kernelspec": {
   "display_name": "base",
   "language": "python",
   "name": "python3"
  },
  "language_info": {
   "codemirror_mode": {
    "name": "ipython",
    "version": 3
   },
   "file_extension": ".py",
   "mimetype": "text/x-python",
   "name": "python",
   "nbconvert_exporter": "python",
   "pygments_lexer": "ipython3",
   "version": "3.12.3"
  }
 },
 "nbformat": 4,
 "nbformat_minor": 2
}
