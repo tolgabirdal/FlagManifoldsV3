{
 "cells": [
  {
   "cell_type": "code",
   "execution_count": 1,
   "metadata": {},
   "outputs": [],
   "source": [
    "import numpy as np\n",
    "from FlagRep import FlagRep\n",
    "from matplotlib import pyplot as plt\n",
    "\n",
    "import scipy.io as sio\n",
    "\n",
    "from tqdm import tqdm\n",
    "\n",
    "import pandas as pd"
   ]
  },
  {
   "cell_type": "code",
   "execution_count": 2,
   "metadata": {},
   "outputs": [],
   "source": [
    "def relative_log_mse(D_rec, D_true):\n",
    "    return 10*np.log10(np.linalg.norm(D_rec - D_true, 'fro')**2/(np.linalg.norm(D_true, 'fro')**2))"
   ]
  },
  {
   "cell_type": "markdown",
   "metadata": {},
   "source": [
    "# Trying with HS data"
   ]
  },
  {
   "cell_type": "code",
   "execution_count": 3,
   "metadata": {},
   "outputs": [],
   "source": [
    "fl_type = [8,9,10]\n",
    "height, width = (50,50)\n",
    "distributions = ['Normal', 'Exponential', 'Uniform']"
   ]
  },
  {
   "cell_type": "code",
   "execution_count": 4,
   "metadata": {},
   "outputs": [
    {
     "name": "stderr",
     "output_type": "stream",
     "text": [
      "  0%|          | 0/19 [00:00<?, ?it/s]/tmp/ipykernel_198162/1407485004.py:56: FutureWarning: The behavior of DataFrame concatenation with empty or all-NA entries is deprecated. In a future version, this will no longer exclude empty or all-NA columns when determining the result dtypes. To retain the old behavior, exclude the relevant entries before the concat operation.\n",
      "  results = pd.concat([results, row])\n",
      "100%|██████████| 19/19 [04:26<00:00, 14.02s/it]\n",
      "100%|██████████| 19/19 [05:02<00:00, 15.95s/it]\n",
      "100%|██████████| 19/19 [04:45<00:00, 15.01s/it]\n",
      "100%|██████████| 19/19 [04:39<00:00, 14.71s/it]\n",
      "100%|██████████| 19/19 [04:41<00:00, 14.84s/it]\n",
      "100%|██████████| 19/19 [04:43<00:00, 14.93s/it]\n"
     ]
    }
   ],
   "source": [
    "results = pd.DataFrame(columns = ['Method', 'SNR (dB)', 'Added Noise', 'LRSE', 'DataSet', 'Distribution'])\n",
    "\n",
    "for data_name in ['KSC', 'Indian Pines']:\n",
    "    if data_name == 'Indian Pines':\n",
    "        # Load the hyperspectral image and ground truth\n",
    "        data = sio.loadmat('../data/indian_pines/Indian_pines_corrected.mat')['indian_pines_corrected'] \n",
    "        labels = sio.loadmat('../data/indian_pines/Indian_pines_gt.mat')['indian_pines_gt']  # Shape: (145, 145)\n",
    "    elif data_name == 'KSC':\n",
    "        data = sio.loadmat('../data/KSC/KSC_corrected.mat')['KSC']\n",
    "        labels = sio.loadmat('../data/KSC/KSC_gt.mat')['KSC_gt']\n",
    "\n",
    "    image_height, image_width, n_bands = data.shape\n",
    "    \n",
    "    As = [np.arange(40), np.arange(100), np.arange(n_bands)]\n",
    "\n",
    "    for noise_dist in distributions:\n",
    "\n",
    "        for noise_scale in tqdm(np.arange(1,20)):\n",
    "            noise_scale = .1*noise_scale\n",
    "            \n",
    "            for r_seed in range(20):\n",
    "                np.random.seed(r_seed)\n",
    "                # Assume `image` is a NumPy array with shape (height, width, channels)\n",
    "                \n",
    "                # Define the crop size\n",
    "                crop_height = height\n",
    "                crop_width = width\n",
    "\n",
    "                # Randomly select the starting point for the crop\n",
    "                x_start = np.random.randint(0, image_width - crop_width + 1)\n",
    "                y_start = np.random.randint(0, image_height - crop_height + 1)\n",
    "\n",
    "                # Crop the image\n",
    "                cropped_image = data[y_start:y_start + crop_height, x_start:x_start + crop_width]\n",
    "\n",
    "                n = width*height\n",
    "                D_true = cropped_image.reshape((width*height, n_bands))\n",
    "\n",
    "                D_true = D_true/D_true.max() #max normalization\n",
    "\n",
    "                if noise_dist == 'Normal':\n",
    "                    noise = np.random.normal(scale = noise_scale, size = (n,n_bands))\n",
    "                elif noise_dist == 'Exponential':\n",
    "                    noise = np.random.exponential(scale = noise_scale, size = (n,n_bands))\n",
    "                elif noise_dist == 'Uniform':\n",
    "                    noise = noise_scale*np.random.uniform(size = (n,n_bands))\n",
    "\n",
    "                D_noisy = D_true + noise\n",
    "\n",
    "                snr = 10*np.log10(np.linalg.trace(D_true@D_true.T)/np.linalg.trace(noise@noise.T))\n",
    "\n",
    "                U, _, _ = np.linalg.svd(D_noisy)\n",
    "                D_svd = U[:,:fl_type[-1]] @ U[:,:fl_type[-1]].T @ D_noisy\n",
    "                svd_lrse = relative_log_mse(D_svd,D_true)\n",
    "                row = pd.DataFrame(columns = results.columns, data = [['SVD', snr, noise_scale, svd_lrse, data_name, noise_dist]])\n",
    "                results = pd.concat([results, row])\n",
    "\n",
    "                my_fr = FlagRep(As, flag_type = fl_type)\n",
    "                X,R = my_fr.fit_transform(D_noisy)\n",
    "                D_flagrep = X @ R\n",
    "                flagrep_lrse = relative_log_mse(D_flagrep,D_true)\n",
    "                row = pd.DataFrame(columns = results.columns,  data = [['FlagRep', snr, noise_scale, flagrep_lrse,  data_name, noise_dist]])\n",
    "                results = pd.concat([results, row])\n"
   ]
  },
  {
   "cell_type": "code",
   "execution_count": 7,
   "metadata": {},
   "outputs": [
    {
     "data": {
      "text/plain": [
       "<Figure size 200x500 with 0 Axes>"
      ]
     },
     "metadata": {},
     "output_type": "display_data"
    },
    {
     "data": {
      "image/png": "[encoded data removed]",
      "text/plain": [
       "<Figure size 705.75x300 with 2 Axes>"
      ]
     },
     "metadata": {},
     "output_type": "display_data"
    }
   ],
   "source": [
    "results = pd.read_csv('../results/HSI_denoising.csv')\n",
    "\n",
    "normal_results = results[results['Distribution'] == 'Normal']\n",
    "normal_results = normal_results[normal_results['SNR (dB)'] < 0]\n",
    "normal_results = normal_results[normal_results['SNR (dB)'] >-15]\n",
    "\n",
    "import seaborn as sns\n",
    "plt.figure(figsize = (2,5))\n",
    "g = sns.FacetGrid(\n",
    "    normal_results,\n",
    "    col=\"DataSet\",\n",
    "    hue=\"Method\",\n",
    "    margin_titles=True,\n",
    "    despine=False\n",
    ")\n",
    "\n",
    "# Map the lineplot onto each subplot in the FacetGrid\n",
    "g.map(sns.scatterplot, \"SNR (dB)\", \"LRSE\", s= 4)\n",
    "\n",
    "\n",
    "# Add legend\n",
    "legend = g.add_legend()\n",
    "# legend.set_bbox_to_anchor([0.2, 0.5]) \n",
    "\n",
    "# Adjust layout to fit labels and titles\n",
    "# g.fig.tight_layout()\n",
    "\n",
    "# Display the plot\n",
    "# plt.show()\n",
    "\n",
    "# plt.tight_layout()\n",
    "plt.savefig('../results/RS_Reconstruction.pdf', bbox_inches = 'tight')"
   ]
  },
  {
   "cell_type": "code",
   "execution_count": 19,
   "metadata": {},
   "outputs": [],
   "source": [
    "results.to_csv('../results/HSI_denoising.csv')"
   ]
  },
  {
   "cell_type": "code",
   "execution_count": null,
   "metadata": {},
   "outputs": [],
   "source": []
  }
 ],
 "metadata": {
  "kernelspec": {
   "display_name": "flags3",
   "language": "python",
   "name": "python3"
  },
  "language_info": {
   "codemirror_mode": {
    "name": "ipython",
    "version": 3
   },
   "file_extension": ".py",
   "mimetype": "text/x-python",
   "name": "python",
   "nbconvert_exporter": "python",
   "pygments_lexer": "ipython3",
   "version": "3.12.3"
  }
 },
 "nbformat": 4,
 "nbformat_minor": 2
}
