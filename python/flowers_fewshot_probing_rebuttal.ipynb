{
 "cells": [
  {
   "cell_type": "code",
   "execution_count": 1,
   "metadata": {
    "collapsed": false,
    "pycharm": {
     "name": "#%%\n"
    }
   },
   "outputs": [],
   "source": [
    "import torch\n",
    "from torch import nn, optim\n",
    "from torch.utils.data import DataLoader\n",
    "from torchvision import transforms\n",
    "from torchvision.datasets import CIFAR10, Flowers102\n",
    "from torchgeo.datasets import UCMerced\n",
    "from torchvision.models import alexnet\n",
    "import torch.nn.functional as F\n",
    "from tqdm import tqdm\n",
    "\n",
    "from easyfsl.samplers import TaskSampler\n",
    "from easyfsl.datasets import WrapFewShotDataset\n",
    "\n",
    "from AlexNetLastTwoLayers import AlexNetLastTwoLayers\n",
    "from PrototypicalNetworks_rebuttal import PrototypicalNetworks\n",
    "from PrototypicalFlagNetworks import PrototypicalFlagNetworks\n",
    "from PIL import Image\n",
    "\n",
    "\n",
    "\n",
    "import copy\n",
    "\n",
    "from statistics import mean\n",
    "\n",
    "from matplotlib import pyplot as plt\n",
    "\n",
    "import pandas as pd\n",
    "\n",
    "import random\n",
    "\n",
    "from eval import evaluate"
   ]
  },
  {
   "cell_type": "code",
   "execution_count": 2,
   "metadata": {},
   "outputs": [],
   "source": [
    "DEVICE = torch.device(\"cuda\" if torch.cuda.is_available() else \"cpu\")"
   ]
  },
  {
   "cell_type": "code",
   "execution_count": 3,
   "metadata": {},
   "outputs": [],
   "source": [
    "random_seed = 0\n",
    "\n",
    "random.seed(random_seed)\n",
    "torch.manual_seed(random_seed)\n",
    "torch.backends.cudnn.deterministic = True\n",
    "torch.backends.cudnn.benchmark = False"
   ]
  },
  {
   "cell_type": "code",
   "execution_count": 4,
   "metadata": {},
   "outputs": [
    {
     "name": "stderr",
     "output_type": "stream",
     "text": [
      "Scrolling dataset's labels...: 100%|██████████| 6149/6149 [00:23<00:00, 263.30it/s]\n"
     ]
    }
   ],
   "source": [
    "N_WAY = 5  # Number of classes in a task\n",
    "N_QUERY = 10  # Number of images per class in the query set\n",
    "N_EVALUATION_TASKS = 100\n",
    "\n",
    "transform = transforms.Compose(\n",
    "        [\n",
    "            transforms.Resize((224,224)),\n",
    "            transforms.ToTensor(),\n",
    "            transforms.Normalize(mean = (0.485, 0.456, 0.406), std = (0.229, 0.224, 0.225))\n",
    "        ]\n",
    ")\n",
    "\n",
    "\n",
    "\n",
    "test_data = WrapFewShotDataset(\n",
    "    Flowers102(\n",
    "    root=\"../data\",\n",
    "    transform=transform,\n",
    "    download=True,\n",
    "    split = 'test')\n",
    ")\n",
    "\n",
    "\n"
   ]
  },
  {
   "cell_type": "code",
   "execution_count": 5,
   "metadata": {},
   "outputs": [
    {
     "name": "stdout",
     "output_type": "stream",
     "text": [
      "Starting 3\n"
     ]
    },
    {
     "name": "stderr",
     "output_type": "stream",
     "text": [
      "  0%|          | 0/20 [00:00<?, ?it/s]/home/nate/anaconda3/envs/flags3/lib/python3.12/site-packages/torchvision/models/_utils.py:208: UserWarning: The parameter 'pretrained' is deprecated since 0.13 and may be removed in the future, please use 'weights' instead.\n",
      "  warnings.warn(\n",
      "/home/nate/anaconda3/envs/flags3/lib/python3.12/site-packages/torchvision/models/_utils.py:223: UserWarning: Arguments other than a weight enum or `None` for 'weights' are deprecated since 0.13 and may be removed in the future. The current behavior is equivalent to passing `weights=AlexNet_Weights.IMAGENET1K_V1`. You can also use `weights=AlexNet_Weights.DEFAULT` to get the most up-to-date weights.\n",
      "  warnings.warn(msg)\n",
      "/tmp/ipykernel_27411/2989644812.py:30: FutureWarning: The behavior of DataFrame concatenation with empty or all-NA entries is deprecated. In a future version, this will no longer exclude empty or all-NA columns when determining the result dtypes. To retain the old behavior, exclude the relevant entries before the concat operation.\n",
      "  results = pd.concat([results, row])\n",
      "100%|██████████| 20/20 [56:08<00:00, 168.42s/it]\n"
     ]
    },
    {
     "name": "stdout",
     "output_type": "stream",
     "text": [
      "Starting 5\n"
     ]
    },
    {
     "name": "stderr",
     "output_type": "stream",
     "text": [
      "100%|██████████| 20/20 [1:00:12<00:00, 180.62s/it]\n"
     ]
    },
    {
     "name": "stdout",
     "output_type": "stream",
     "text": [
      "Starting 7\n"
     ]
    },
    {
     "name": "stderr",
     "output_type": "stream",
     "text": [
      "100%|██████████| 20/20 [1:03:36<00:00, 190.83s/it]\n"
     ]
    }
   ],
   "source": [
    "#takes about 2hr with one GPU\n",
    "results = pd.DataFrame(columns = ['Method', 'N Shots', 'Accuracy'])\n",
    "\n",
    "\n",
    "for N_SHOT in [3,5,7]:\n",
    "    print(f'Starting {N_SHOT}')\n",
    "    test_sampler = TaskSampler(\n",
    "            test_data, n_way=N_WAY, n_shot=N_SHOT, n_query=N_QUERY, n_tasks=N_EVALUATION_TASKS\n",
    "        )\n",
    "\n",
    "    test_loader = DataLoader(\n",
    "        test_data,\n",
    "        batch_sampler=test_sampler,\n",
    "        num_workers=0,\n",
    "        pin_memory=True,\n",
    "        collate_fn=test_sampler.episodic_collate_fn,\n",
    "        shuffle = False\n",
    "    )\n",
    "\n",
    "    for random_seed in tqdm(range(20)):\n",
    "\n",
    "        # # Eval Protonets\n",
    "        random.seed(random_seed)\n",
    "        alexnet_backbone1 = alexnet(pretrained = True)\n",
    "        alexnet_backbone1 = AlexNetLastTwoLayers(alexnet_backbone1).to(DEVICE)\n",
    "        proto_model = PrototypicalNetworks(alexnet_backbone1, head = 'ProtoNet').to(DEVICE)\n",
    "        proto_acc = evaluate(proto_model, test_loader, DEVICE)\n",
    "        row = pd.DataFrame(columns = results.columns,\n",
    "                           data = [['ProtoNets', N_SHOT, proto_acc]])\n",
    "        results = pd.concat([results, row])\n",
    "\n",
    "        # # Eval Subspace Nets\n",
    "        random.seed(random_seed)\n",
    "        alexnet_backbone2 = alexnet(pretrained = True)\n",
    "        alexnet_backbone2 = AlexNetLastTwoLayers(alexnet_backbone2).to(DEVICE)\n",
    "        subspace_model = PrototypicalNetworks(alexnet_backbone2, head = 'SubspaceNet').to(DEVICE)\n",
    "        subspace_acc = evaluate(subspace_model, test_loader, DEVICE)\n",
    "        row = pd.DataFrame(columns = results.columns,\n",
    "                           data = [['SubspaceNets', N_SHOT, subspace_acc]])\n",
    "        results = pd.concat([results, row])\n",
    "\n",
    "        # Eval Flag Nets\n",
    "        random.seed(random_seed)\n",
    "        alexnet_backbone3 = alexnet(pretrained = True)\n",
    "        alexnet_backbone3 = AlexNetLastTwoLayers(alexnet_backbone3).to(DEVICE)\n",
    "        flag_model = PrototypicalFlagNetworks(alexnet_backbone3).to(DEVICE)\n",
    "        flag_acc = evaluate(flag_model, test_loader, DEVICE)\n",
    "        row = pd.DataFrame(columns = results.columns,\n",
    "                           data = [['FlagNets', N_SHOT, flag_acc]])\n",
    "        results = pd.concat([results, row])\n",
    "\n",
    "    results.to_csv('../results/flowers_probing_rebuttal.csv')"
   ]
  },
  {
   "cell_type": "code",
   "execution_count": 6,
   "metadata": {},
   "outputs": [
    {
     "data": {
      "image/png": "[encoded data removed]",
      "text/plain": [
       "<Figure size 500x200 with 1 Axes>"
      ]
     },
     "metadata": {},
     "output_type": "display_data"
    }
   ],
   "source": [
    "import seaborn as sns\n",
    "import pandas as pd\n",
    "from matplotlib import pyplot as plt\n",
    "\n",
    "res = pd.read_csv('../results/flowers_probing_rebuttal.csv')\n",
    "\n",
    "plt.figure(figsize = (5,2))\n",
    "sns.boxplot(res, x = 'N Shots', y = 'Accuracy', hue = 'Method')\n",
    "plt.tight_layout()\n",
    "plt.savefig('../results/flowers_probing_rebuttal.pdf', bbox_inches = \"tight\")"
   ]
  },
  {
   "cell_type": "code",
   "execution_count": null,
   "metadata": {},
   "outputs": [],
   "source": []
  }
 ],
 "metadata": {
  "accelerator": "GPU",
  "colab": {
   "name": "my_first_few_shot_classifier.ipynb",
   "provenance": [],
   "toc_visible": true
  },
  "kernelspec": {
   "display_name": "flags3",
   "language": "python",
   "name": "python3"
  },
  "language_info": {
   "codemirror_mode": {
    "name": "ipython",
    "version": 3
   },
   "file_extension": ".py",
   "mimetype": "text/x-python",
   "name": "python",
   "nbconvert_exporter": "python",
   "pygments_lexer": "ipython3",
   "version": "3.12.3"
  }
 },
 "nbformat": 4,
 "nbformat_minor": 0
}
